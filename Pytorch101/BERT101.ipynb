{
  "cells": [
    {
      "attachments": {},
      "cell_type": "markdown",
      "metadata": {
        "id": "6XSA1FFFZ-B2"
      },
      "source": [
        "## Bert"
      ]
    },
    {
      "cell_type": "code",
      "execution_count": 3,
      "metadata": {
        "colab": {
          "base_uri": "https://localhost:8080/"
        },
        "id": "_aEk1_5xyfUM",
        "outputId": "56265997-3d43-4afd-fcfa-38793eff6341"
      },
      "outputs": [],
      "source": [
        "# !pip install transformers"
      ]
    },
    {
      "cell_type": "code",
      "execution_count": 2,
      "metadata": {
        "id": "DdfrRHDqx7ZI"
      },
      "outputs": [
        {
          "name": "stderr",
          "output_type": "stream",
          "text": [
            "c:\\Users\\ADAWAS\\miniconda3\\envs\\pytorch\\lib\\site-packages\\tqdm\\auto.py:21: TqdmWarning: IProgress not found. Please update jupyter and ipywidgets. See https://ipywidgets.readthedocs.io/en/stable/user_install.html\n",
            "  from .autonotebook import tqdm as notebook_tqdm\n"
          ]
        }
      ],
      "source": [
        "import numpy as np\n",
        "import pandas as pd\n",
        "import seaborn as sns\n",
        "import matplotlib.pyplot as plt\n",
        "from sklearn.preprocessing import LabelEncoder\n",
        "import transformers\n",
        "import torch\n",
        "import logging\n",
        "logging.basicConfig(level=logging.INFO)\n",
        "from transformers import BertTokenizer, BertForSequenceClassification, BertModel"
      ]
    },
    {
      "cell_type": "code",
      "execution_count": 3,
      "metadata": {
        "colab": {
          "base_uri": "https://localhost:8080/"
        },
        "id": "euIzn3Xjx7Za",
        "outputId": "f5195e07-a45a-4b5e-ffc0-70279f2a6b2b"
      },
      "outputs": [
        {
          "name": "stdout",
          "output_type": "stream",
          "text": [
            "Tue May 23 02:23:07 2023       \n",
            "+---------------------------------------------------------------------------------------+\n",
            "| NVIDIA-SMI 531.14                 Driver Version: 531.14       CUDA Version: 12.1     |\n",
            "|-----------------------------------------+----------------------+----------------------+\n",
            "| GPU  Name                      TCC/WDDM | Bus-Id        Disp.A | Volatile Uncorr. ECC |\n",
            "| Fan  Temp  Perf            Pwr:Usage/Cap|         Memory-Usage | GPU-Util  Compute M. |\n",
            "|                                         |                      |               MIG M. |\n",
            "|=========================================+======================+======================|\n",
            "|   0  NVIDIA GeForce GTX 1650       WDDM | 00000000:01:00.0  On |                  N/A |\n",
            "| N/A   43C    P5                6W /  N/A|    762MiB /  4096MiB |     25%      Default |\n",
            "|                                         |                      |                  N/A |\n",
            "+-----------------------------------------+----------------------+----------------------+\n",
            "                                                                                         \n",
            "+---------------------------------------------------------------------------------------+\n",
            "| Processes:                                                                            |\n",
            "|  GPU   GI   CI        PID   Type   Process name                            GPU Memory |\n",
            "|        ID   ID                                                             Usage      |\n",
            "|=======================================================================================|\n",
            "|    0   N/A  N/A      2512    C+G   ...CBS_cw5n1h2txyewy\\TextInputHost.exe    N/A      |\n",
            "|    0   N/A  N/A      5848    C+G   ...oogle\\Chrome\\Application\\chrome.exe    N/A      |\n",
            "|    0   N/A  N/A      9944    C+G   C:\\Windows\\explorer.exe                   N/A      |\n",
            "|    0   N/A  N/A     11072    C+G   ...2txyewy\\StartMenuExperienceHost.exe    N/A      |\n",
            "|    0   N/A  N/A     11512    C+G   ....Search_cw5n1h2txyewy\\SearchApp.exe    N/A      |\n",
            "|    0   N/A  N/A     12708    C+G   C:\\Windows\\System32\\svchost.exe           N/A      |\n",
            "|    0   N/A  N/A     15144    C+G   ...5n1h2txyewy\\ShellExperienceHost.exe    N/A      |\n",
            "|    0   N/A  N/A     16272    C+G   ....Search_cw5n1h2txyewy\\SearchApp.exe    N/A      |\n",
            "|    0   N/A  N/A     17920    C+G   ...Programs\\Microsoft VS Code\\Code.exe    N/A      |\n",
            "+---------------------------------------------------------------------------------------+\n"
          ]
        }
      ],
      "source": [
        "!nvidia-smi"
      ]
    },
    {
      "cell_type": "code",
      "execution_count": 4,
      "metadata": {
        "colab": {
          "base_uri": "https://localhost:8080/"
        },
        "id": "fx9rSU1Tx7Zc",
        "outputId": "90989a49-8ff6-423a-9c6f-f7b035cfdcc8"
      },
      "outputs": [
        {
          "name": "stdout",
          "output_type": "stream",
          "text": [
            "There are 1 GPU(s) available.\n",
            "We will use the GPU: NVIDIA GeForce GTX 1650\n"
          ]
        }
      ],
      "source": [
        "# =============================================================================\n",
        "# ## check GPU\n",
        "# =============================================================================\n",
        "if torch.cuda.is_available():    \n",
        "    # Tell PyTorch to use the GPU.    \n",
        "    device = torch.device(\"cuda\")\n",
        "    print('There are %d GPU(s) available.' % torch.cuda.device_count())\n",
        "    print('We will use the GPU:', torch.cuda.get_device_name(0))\n",
        "# If not...\n",
        "else:\n",
        "    print('No GPU available, using the CPU instead.')\n",
        "    device = torch.device(\"cpu\")"
      ]
    },
    {
      "cell_type": "code",
      "execution_count": 5,
      "metadata": {
        "colab": {
          "base_uri": "https://localhost:8080/",
          "height": 415
        },
        "id": "6bmrmq1dx7Ze",
        "outputId": "c9a7d54d-66f2-4107-b55a-e6305bcada44"
      },
      "outputs": [
        {
          "name": "stdout",
          "output_type": "stream",
          "text": [
            "Downloading dataset...\n",
            "Number of training sentences: 14,640\n",
            "\n"
          ]
        },
        {
          "data": {
            "text/html": [
              "<div>\n",
              "<style scoped>\n",
              "    .dataframe tbody tr th:only-of-type {\n",
              "        vertical-align: middle;\n",
              "    }\n",
              "\n",
              "    .dataframe tbody tr th {\n",
              "        vertical-align: top;\n",
              "    }\n",
              "\n",
              "    .dataframe thead th {\n",
              "        text-align: right;\n",
              "    }\n",
              "</style>\n",
              "<table border=\"1\" class=\"dataframe\">\n",
              "  <thead>\n",
              "    <tr style=\"text-align: right;\">\n",
              "      <th></th>\n",
              "      <th>text</th>\n",
              "      <th>airline_sentiment</th>\n",
              "      <th>label</th>\n",
              "    </tr>\n",
              "  </thead>\n",
              "  <tbody>\n",
              "    <tr>\n",
              "      <th>10521</th>\n",
              "      <td>@USAirways it's been three weeks since I was s...</td>\n",
              "      <td>negative</td>\n",
              "      <td>0</td>\n",
              "    </tr>\n",
              "    <tr>\n",
              "      <th>7980</th>\n",
              "      <td>@JetBlue Thanks. Which day of the week is the ...</td>\n",
              "      <td>neutral</td>\n",
              "      <td>1</td>\n",
              "    </tr>\n",
              "    <tr>\n",
              "      <th>12633</th>\n",
              "      <td>@AmericanAir you are beyond redemption. Jfk. B...</td>\n",
              "      <td>negative</td>\n",
              "      <td>0</td>\n",
              "    </tr>\n",
              "    <tr>\n",
              "      <th>6113</th>\n",
              "      <td>@SouthwestAir Thnx. Hopefully it's just on the...</td>\n",
              "      <td>negative</td>\n",
              "      <td>0</td>\n",
              "    </tr>\n",
              "    <tr>\n",
              "      <th>129</th>\n",
              "      <td>@VirginAmerica is flight 882 Cancelled Flightl...</td>\n",
              "      <td>neutral</td>\n",
              "      <td>1</td>\n",
              "    </tr>\n",
              "    <tr>\n",
              "      <th>12592</th>\n",
              "      <td>@AmericanAir @BoeingAirplanes I really would l...</td>\n",
              "      <td>positive</td>\n",
              "      <td>2</td>\n",
              "    </tr>\n",
              "    <tr>\n",
              "      <th>12160</th>\n",
              "      <td>@AmericanAir how about some rampers at gate b4...</td>\n",
              "      <td>negative</td>\n",
              "      <td>0</td>\n",
              "    </tr>\n",
              "    <tr>\n",
              "      <th>10614</th>\n",
              "      <td>@USAirways Sitting on the runway at phl for th...</td>\n",
              "      <td>negative</td>\n",
              "      <td>0</td>\n",
              "    </tr>\n",
              "    <tr>\n",
              "      <th>13201</th>\n",
              "      <td>@AmericanAir need help changing a flight. Plea...</td>\n",
              "      <td>neutral</td>\n",
              "      <td>1</td>\n",
              "    </tr>\n",
              "    <tr>\n",
              "      <th>6495</th>\n",
              "      <td>@SouthwestAir Any plans to make the southwest ...</td>\n",
              "      <td>negative</td>\n",
              "      <td>0</td>\n",
              "    </tr>\n",
              "  </tbody>\n",
              "</table>\n",
              "</div>"
            ],
            "text/plain": [
              "                                                    text airline_sentiment   \n",
              "10521  @USAirways it's been three weeks since I was s...          negative  \\\n",
              "7980   @JetBlue Thanks. Which day of the week is the ...           neutral   \n",
              "12633  @AmericanAir you are beyond redemption. Jfk. B...          negative   \n",
              "6113   @SouthwestAir Thnx. Hopefully it's just on the...          negative   \n",
              "129    @VirginAmerica is flight 882 Cancelled Flightl...           neutral   \n",
              "12592  @AmericanAir @BoeingAirplanes I really would l...          positive   \n",
              "12160  @AmericanAir how about some rampers at gate b4...          negative   \n",
              "10614  @USAirways Sitting on the runway at phl for th...          negative   \n",
              "13201  @AmericanAir need help changing a flight. Plea...           neutral   \n",
              "6495   @SouthwestAir Any plans to make the southwest ...          negative   \n",
              "\n",
              "       label  \n",
              "10521      0  \n",
              "7980       1  \n",
              "12633      0  \n",
              "6113       0  \n",
              "129        1  \n",
              "12592      2  \n",
              "12160      0  \n",
              "10614      0  \n",
              "13201      1  \n",
              "6495       0  "
            ]
          },
          "execution_count": 5,
          "metadata": {},
          "output_type": "execute_result"
        }
      ],
      "source": [
        "# import dataset\n",
        "df = pd.read_csv(r'https://raw.githubusercontent.com/satyajeetkrjha/kaggle-Twitter-US-Airline-Sentiment-/master/Tweets.csv')[['text','airline_sentiment']]\n",
        "labelencoder = LabelEncoder()\n",
        "df['label'] = labelencoder.fit_transform(df['airline_sentiment'])\n",
        "\n",
        "# df = df.head(1000)\n",
        "print('Downloading dataset...')\n",
        "# Report the number of sentences.\n",
        "print('Number of training sentences: {:,}\\n'.format(df.shape[0]))\n",
        "\n",
        "# Display 10 random rows from the data.\n",
        "df.sample(10)"
      ]
    },
    {
      "cell_type": "code",
      "execution_count": 6,
      "metadata": {
        "colab": {
          "base_uri": "https://localhost:8080/",
          "height": 206
        },
        "id": "CqyyUsM_x7Zi",
        "outputId": "8a251441-bd95-4aab-b1d3-03a9127b89dc"
      },
      "outputs": [
        {
          "data": {
            "text/html": [
              "<div>\n",
              "<style scoped>\n",
              "    .dataframe tbody tr th:only-of-type {\n",
              "        vertical-align: middle;\n",
              "    }\n",
              "\n",
              "    .dataframe tbody tr th {\n",
              "        vertical-align: top;\n",
              "    }\n",
              "\n",
              "    .dataframe thead th {\n",
              "        text-align: right;\n",
              "    }\n",
              "</style>\n",
              "<table border=\"1\" class=\"dataframe\">\n",
              "  <thead>\n",
              "    <tr style=\"text-align: right;\">\n",
              "      <th></th>\n",
              "      <th>text</th>\n",
              "      <th>label</th>\n",
              "    </tr>\n",
              "  </thead>\n",
              "  <tbody>\n",
              "    <tr>\n",
              "      <th>10208</th>\n",
              "      <td>@USAirways took me 4+ hours to book flights ye...</td>\n",
              "      <td>0</td>\n",
              "    </tr>\n",
              "    <tr>\n",
              "      <th>2993</th>\n",
              "      <td>@united It is all good -- your 1K team has bee...</td>\n",
              "      <td>0</td>\n",
              "    </tr>\n",
              "    <tr>\n",
              "      <th>11140</th>\n",
              "      <td>@USAirways a year and every time with US Air s...</td>\n",
              "      <td>0</td>\n",
              "    </tr>\n",
              "    <tr>\n",
              "      <th>10731</th>\n",
              "      <td>@USAirways I know some folks have to use your ...</td>\n",
              "      <td>0</td>\n",
              "    </tr>\n",
              "    <tr>\n",
              "      <th>12858</th>\n",
              "      <td>@AmericanAir I fly American because of family ...</td>\n",
              "      <td>0</td>\n",
              "    </tr>\n",
              "  </tbody>\n",
              "</table>\n",
              "</div>"
            ],
            "text/plain": [
              "                                                    text  label\n",
              "10208  @USAirways took me 4+ hours to book flights ye...      0\n",
              "2993   @united It is all good -- your 1K team has bee...      0\n",
              "11140  @USAirways a year and every time with US Air s...      0\n",
              "10731  @USAirways I know some folks have to use your ...      0\n",
              "12858  @AmericanAir I fly American because of family ...      0"
            ]
          },
          "execution_count": 6,
          "metadata": {},
          "output_type": "execute_result"
        }
      ],
      "source": [
        "df.loc[df['label'] == 0].sample(5)[['text','label']]"
      ]
    },
    {
      "cell_type": "code",
      "execution_count": 7,
      "metadata": {
        "colab": {
          "base_uri": "https://localhost:8080/"
        },
        "id": "fndZVPWGx7Zj",
        "outputId": "6d058f75-ebf9-47ee-8e09-848632a242cb"
      },
      "outputs": [
        {
          "data": {
            "text/plain": [
              "(array(['@VirginAmerica What @dhepburn said.',\n",
              "        \"@VirginAmerica plus you've added commercials to the experience... tacky.\",\n",
              "        \"@VirginAmerica I didn't today... Must mean I need to take another trip!\",\n",
              "        ...,\n",
              "        '@AmericanAir Please bring American Airlines to #BlackBerry10',\n",
              "        \"@AmericanAir you have my money, you change my flight, and don't answer your phones! Any other suggestions so I can make my commitment??\",\n",
              "        '@AmericanAir we have 8 ppl so we need 2 know how many seats are on the next flight. Plz put us on standby for 4 people on the next flight?'],\n",
              "       dtype=object),\n",
              " array([1, 2, 1, ..., 1, 0, 1]))"
            ]
          },
          "execution_count": 7,
          "metadata": {},
          "output_type": "execute_result"
        }
      ],
      "source": [
        "sentences = df.text.values\n",
        "labels = df.label.values\n",
        "sentences, labels"
      ]
    },
    {
      "cell_type": "code",
      "execution_count": 8,
      "metadata": {
        "colab": {
          "base_uri": "https://localhost:8080/",
          "height": 113,
          "referenced_widgets": [
            "49b784683cfe4dcc8726e3fab3d5f16e",
            "9eb86b79f20f42638ec08206c3573ec6",
            "a1bd2e3b9d994b4fba7d14a4031a23e6",
            "b6f89f149254453fbb8c2fe6726de32e",
            "be5b9c24bedd47d793e608e711b4a0a0",
            "c8ca68b3593243e181e2951ec65afaa3",
            "4e379024bc1e45e5804e4526e451ae26",
            "7e22fa5a247a4c00b673614055eb23b2",
            "abbf4e2bd4d2429da50ecfd67113f444",
            "03a3e8b9cd2a47039eed2f332ee0b534",
            "5fcd6b2a24d74809926c919678190222",
            "d2ca3385e90d47b39de33b68fd06f5f0",
            "19c57b0a2eb54dcc96f041433b007582",
            "ade273b8412d42f5a1c71176c97be8f9",
            "564e2027d4354d4d82c8f8dcafd9f653",
            "95ae25a07a0540aaafec90c3272e157b",
            "a5ace41a0675451b90fc7297f3a68fca",
            "580bbad20a8947f9b9d98ecb06bfb8c4",
            "6aa70a88ea2145198cba9f093a447a5d",
            "074a2df8cfc24e138fd70fc3b5b818f0",
            "5e5b072b689d4dffb86f469f104f6b81",
            "01113b3606b748bbb3db668b414e3201",
            "efa2fa1d3fc54152a1a488f40e347dbb",
            "cc26b6ffd8744410808a0207613154b3",
            "8227893006074b85acbdcf5cb510a038",
            "a3626844ce4445a6823da704e3e9eea9",
            "baf3428ec2cd4ca7aebd8a9ab715dc9a",
            "4215e6b5c8b54240bf3f889a49d9e1c8",
            "a4e2bd8534d240d899fafa318dae83b1",
            "ddb1117287584027af903e5fe943fd5e",
            "32fbc0b643954595995827487d27773e",
            "e5b267402a304086a55785a2b8e09d59",
            "0ec839c6c8ee43348af633a25da123e6"
          ]
        },
        "id": "wcfzwCnqx7Zl",
        "outputId": "9468a1ba-4071-4609-c6fd-db4d637f552b"
      },
      "outputs": [],
      "source": [
        "tokenizer = BertTokenizer.from_pretrained('bert-base-uncased', do_lower_case=True)"
      ]
    },
    {
      "cell_type": "code",
      "execution_count": 9,
      "metadata": {
        "colab": {
          "base_uri": "https://localhost:8080/"
        },
        "id": "MeUgSnlUx7Zm",
        "outputId": "3bf89109-b6e8-4dc5-8098-1644e0630e82"
      },
      "outputs": [
        {
          "name": "stdout",
          "output_type": "stream",
          "text": [
            " Original:  @VirginAmerica What @dhepburn said.\n",
            "Tokenized:  ['@', 'virgin', '##ame', '##rica', 'what', '@', 'dh', '##ep', '##burn', 'said', '.']\n",
            "Token IDs:  [1030, 6261, 14074, 14735, 2054, 1030, 28144, 13699, 8022, 2056, 1012]\n"
          ]
        }
      ],
      "source": [
        "# Print the original sentence.\n",
        "print(' Original: ', sentences[0])\n",
        "\n",
        "# Print the sentence split into tokens.\n",
        "print('Tokenized: ', tokenizer.tokenize(sentences[0]))\n",
        "# Print the sentence mapped to token ids.\n",
        "print('Token IDs: ', tokenizer.convert_tokens_to_ids(tokenizer.tokenize(sentences[0])))"
      ]
    },
    {
      "attachments": {},
      "cell_type": "markdown",
      "metadata": {},
      "source": [
        "## Special Tokens & Tokenization"
      ]
    },
    {
      "cell_type": "code",
      "execution_count": 10,
      "metadata": {},
      "outputs": [
        {
          "name": "stdout",
          "output_type": "stream",
          "text": [
            "[CLS]           101\n",
            "@             1,030\n",
            "virgin        6,261\n",
            "##ame        14,074\n",
            "##rica       14,735\n",
            "what          2,054\n",
            "@             1,030\n",
            "dh           28,144\n",
            "##ep         13,699\n",
            "##burn        8,022\n",
            "said          2,056\n",
            ".             1,012\n",
            "[SEP]           102\n"
          ]
        }
      ],
      "source": [
        "text = sentences[0]\n",
        "\n",
        "# Add the special tokens.\n",
        "marked_text = \"[CLS] \" + text + \" [SEP]\"\n",
        "\n",
        "# Split the sentence into tokens.\n",
        "tokenized_text = tokenizer.tokenize(marked_text)\n",
        "\n",
        "# Map the token strings to their vocabulary indeces.\n",
        "indexed_tokens = tokenizer.convert_tokens_to_ids(tokenized_text)\n",
        "\n",
        "# Display the words with their indeces.\n",
        "for tup in zip(tokenized_text, indexed_tokens):\n",
        "    print('{:<12} {:>6,}'.format(tup[0], tup[1]))"
      ]
    },
    {
      "cell_type": "code",
      "execution_count": 11,
      "metadata": {
        "colab": {
          "base_uri": "https://localhost:8080/"
        },
        "id": "S8ELddhYx7Zn",
        "outputId": "e9a16d17-8478-4c55-fb24-92eab610c1cc"
      },
      "outputs": [
        {
          "name": "stdout",
          "output_type": "stream",
          "text": [
            "{'input_ids': [101, 1030, 6261, 14074, 14735, 2054, 1030, 28144, 13699, 8022, 2056, 1012, 102], 'token_type_ids': [0, 0, 0, 0, 0, 0, 0, 0, 0, 0, 0, 0, 0], 'attention_mask': [1, 1, 1, 1, 1, 1, 1, 1, 1, 1, 1, 1, 1]}\n",
            "[101, 1030, 6261, 14074, 14735, 2054, 1030, 28144, 13699, 8022, 2056, 1012, 102]\n"
          ]
        }
      ],
      "source": [
        "# show all\n",
        "print(tokenizer(sentences[0]))\n",
        "# input_ids\n",
        "print(tokenizer.encode(sentences[0]))"
      ]
    },
    {
      "cell_type": "code",
      "execution_count": 12,
      "metadata": {},
      "outputs": [
        {
          "data": {
            "text/plain": [
              "['knight',\n",
              " 'lap',\n",
              " 'survey',\n",
              " 'ma',\n",
              " '##ow',\n",
              " 'noise',\n",
              " 'billy',\n",
              " '##ium',\n",
              " 'shooting',\n",
              " 'guide',\n",
              " 'bedroom',\n",
              " 'priest',\n",
              " 'resistance',\n",
              " 'motor',\n",
              " 'homes',\n",
              " 'sounded',\n",
              " 'giant',\n",
              " '##mer',\n",
              " '150',\n",
              " 'scenes']"
            ]
          },
          "execution_count": 12,
          "metadata": {},
          "output_type": "execute_result"
        }
      ],
      "source": [
        "list(tokenizer.vocab.keys())[5000:5020]"
      ]
    },
    {
      "cell_type": "code",
      "execution_count": 13,
      "metadata": {
        "colab": {
          "base_uri": "https://localhost:8080/"
        },
        "id": "gn4B4Rlpx7Zo",
        "outputId": "a585d163-051a-424a-eec7-942b0e5d1369"
      },
      "outputs": [
        {
          "name": "stdout",
          "output_type": "stream",
          "text": [
            "Max sentence length:  67\n"
          ]
        }
      ],
      "source": [
        "max_length = 0\n",
        "for sentence in sentences:\n",
        "    max_length = max(max_length, len(tokenizer.encode(sentence, add_special_tokens=True)))\n",
        "    \n",
        "print('Max sentence length: ', max_length)\n"
      ]
    },
    {
      "attachments": {},
      "cell_type": "markdown",
      "metadata": {
        "id": "CHxwKdYyVRBD"
      },
      "source": [
        "## the old way have data type problem"
      ]
    },
    {
      "cell_type": "code",
      "execution_count": null,
      "metadata": {
        "colab": {
          "base_uri": "https://localhost:8080/"
        },
        "id": "SZGyMtABUfAJ",
        "outputId": "4be77203-70c2-49bc-88d7-8f309e212ade"
      },
      "outputs": [
        {
          "name": "stdout",
          "output_type": "stream",
          "text": [
            "Original:  @VirginAmerica What @dhepburn said.\n",
            "Token IDs: tensor([  101.,  1030.,  6261., 14074., 14735.,  2054.,  1030., 28144., 13699.,\n",
            "         8022.,  2056.,  1012.,   102.,     0.,     0.,     0.,     0.,     0.,\n",
            "            0.,     0.,     0.,     0.,     0.,     0.,     0.,     0.,     0.,\n",
            "            0.,     0.,     0.,     0.,     0.,     0.,     0.,     0.,     0.,\n",
            "            0.,     0.,     0.,     0.,     0.,     0.,     0.,     0.,     0.,\n",
            "            0.,     0.,     0.,     0.,     0.,     0.,     0.,     0.,     0.,\n",
            "            0.,     0.,     0.,     0.,     0.,     0.,     0.,     0.,     0.,\n",
            "            0.,     0.,     0.,     0.])\n"
          ]
        }
      ],
      "source": [
        "input_ids = []\n",
        "attention_masks = []\n",
        "for sentence in sentences[:2]:\n",
        "    encoded_dict = tokenizer.encode_plus(sentence, \n",
        "                                         add_special_tokens = True, \n",
        "                                         max_length = max_length,\n",
        "                                         padding='max_length')\n",
        "    \n",
        "    input_ids.append(encoded_dict['input_ids'])\n",
        "    attention_masks.append(encoded_dict['attention_mask'])\n",
        "    \n",
        "input_ids = torch.Tensor(input_ids)\n",
        "attention_masks = torch.Tensor(attention_masks)\n",
        "labels = torch.Tensor(labels)\n",
        "\n",
        "\n",
        "# Print sentence 0, now as a list of IDs.\n",
        "print('Original: ', sentences[0])\n",
        "print('Token IDs:', input_ids[0])"
      ]
    },
    {
      "cell_type": "code",
      "execution_count": null,
      "metadata": {
        "colab": {
          "base_uri": "https://localhost:8080/"
        },
        "id": "uCZAA_upU-0S",
        "outputId": "5a30cfb1-e793-43cf-fbd4-f452e20b83a9"
      },
      "outputs": [
        {
          "data": {
            "text/plain": [
              "(torch.float32, torch.float32, torch.float32)"
            ]
          },
          "execution_count": 200,
          "metadata": {},
          "output_type": "execute_result"
        }
      ],
      "source": [
        "input_ids[0].dtype, attention_masks[0].dtype, labels[0].dtype"
      ]
    },
    {
      "attachments": {},
      "cell_type": "markdown",
      "metadata": {
        "id": "8-ti0tvMDBrB"
      },
      "source": [
        "## Create new another way torch"
      ]
    },
    {
      "cell_type": "code",
      "execution_count": 16,
      "metadata": {
        "colab": {
          "base_uri": "https://localhost:8080/"
        },
        "id": "psskVy-Lx7Zq",
        "outputId": "ded2b100-2fb5-4979-bf80-a16dff233391"
      },
      "outputs": [
        {
          "name": "stdout",
          "output_type": "stream",
          "text": [
            "Original:  @VirginAmerica What @dhepburn said.\n",
            "Token IDs: tensor([  101,  1030,  6261, 14074, 14735,  2054,  1030, 28144, 13699,  8022,\n",
            "         2056,  1012,   102,     0,     0,     0,     0,     0,     0,     0,\n",
            "            0,     0,     0,     0,     0,     0,     0,     0,     0,     0,\n",
            "            0,     0,     0,     0,     0,     0,     0,     0,     0,     0,\n",
            "            0,     0,     0,     0,     0,     0,     0,     0,     0,     0,\n",
            "            0,     0,     0,     0,     0,     0,     0,     0,     0,     0,\n",
            "            0,     0,     0,     0,     0,     0,     0])\n"
          ]
        }
      ],
      "source": [
        "input_ids = []\n",
        "attention_masks = []\n",
        "for sentence in sentences:\n",
        "    encoded_dict = tokenizer.encode_plus(sentence, \n",
        "                                         add_special_tokens = True, \n",
        "                                         max_length = max_length,\n",
        "                                         padding='max_length',\n",
        "                                         return_tensors = 'pt')\n",
        "    \n",
        "    input_ids.append(encoded_dict['input_ids'])\n",
        "    attention_masks.append(encoded_dict['attention_mask'])\n",
        "    \n",
        "# input_ids = torch.Tensor(input_ids)\n",
        "# attention_masks = torch.Tensor(attention_masks)\n",
        "labels = torch.LongTensor(labels)\n",
        "\n",
        "input_ids = torch.cat(input_ids, dim=0)\n",
        "attention_masks = torch.cat(attention_masks, dim=0)\n",
        "\n",
        "\n",
        "# Print sentence 0, now as a list of IDs.\n",
        "print('Original: ', sentences[0])\n",
        "print('Token IDs:', input_ids[0])"
      ]
    },
    {
      "cell_type": "code",
      "execution_count": 17,
      "metadata": {
        "colab": {
          "base_uri": "https://localhost:8080/"
        },
        "id": "kKvSKkwjXDgP",
        "outputId": "ce262b7c-fb85-4527-96b8-0d7c56607a62"
      },
      "outputs": [
        {
          "data": {
            "text/plain": [
              "{'input_ids': tensor([[  101,  1030, 25988,  4313,  2057,  2031,  1022,  4903,  2140,  2061,\n",
              "          2057,  2342,  1016,  2113,  2129,  2116,  4272,  2024,  2006,  1996,\n",
              "          2279,  3462,  1012, 20228,  2480,  2404,  2149,  2006,  3233,  3762,\n",
              "          2005,  1018,  2111,  2006,  1996,  2279,  3462,  1029,   102,     0,\n",
              "             0,     0,     0,     0,     0,     0,     0,     0,     0,     0,\n",
              "             0,     0,     0,     0,     0,     0,     0,     0,     0,     0,\n",
              "             0,     0,     0,     0,     0,     0,     0]]), 'token_type_ids': tensor([[0, 0, 0, 0, 0, 0, 0, 0, 0, 0, 0, 0, 0, 0, 0, 0, 0, 0, 0, 0, 0, 0, 0, 0,\n",
              "         0, 0, 0, 0, 0, 0, 0, 0, 0, 0, 0, 0, 0, 0, 0, 0, 0, 0, 0, 0, 0, 0, 0, 0,\n",
              "         0, 0, 0, 0, 0, 0, 0, 0, 0, 0, 0, 0, 0, 0, 0, 0, 0, 0, 0]]), 'attention_mask': tensor([[1, 1, 1, 1, 1, 1, 1, 1, 1, 1, 1, 1, 1, 1, 1, 1, 1, 1, 1, 1, 1, 1, 1, 1,\n",
              "         1, 1, 1, 1, 1, 1, 1, 1, 1, 1, 1, 1, 1, 1, 1, 0, 0, 0, 0, 0, 0, 0, 0, 0,\n",
              "         0, 0, 0, 0, 0, 0, 0, 0, 0, 0, 0, 0, 0, 0, 0, 0, 0, 0, 0]])}"
            ]
          },
          "execution_count": 17,
          "metadata": {},
          "output_type": "execute_result"
        }
      ],
      "source": [
        "encoded_dict"
      ]
    },
    {
      "cell_type": "code",
      "execution_count": 18,
      "metadata": {
        "colab": {
          "base_uri": "https://localhost:8080/"
        },
        "id": "PEy_X2LHUSr7",
        "outputId": "f436518a-cde4-4066-b531-ed86716cd09c"
      },
      "outputs": [
        {
          "data": {
            "text/plain": [
              "(torch.int64, torch.int64, torch.int64)"
            ]
          },
          "execution_count": 18,
          "metadata": {},
          "output_type": "execute_result"
        }
      ],
      "source": [
        "input_ids[0].dtype, attention_masks[0].dtype, labels[0].dtype"
      ]
    },
    {
      "cell_type": "code",
      "execution_count": 19,
      "metadata": {
        "id": "69lW8HGNx7Zs"
      },
      "outputs": [],
      "source": [
        "from torch.utils.data import TensorDataset, random_split, DataLoader, RandomSampler, SequentialSampler"
      ]
    },
    {
      "cell_type": "code",
      "execution_count": 20,
      "metadata": {
        "colab": {
          "base_uri": "https://localhost:8080/"
        },
        "id": "DDC_trUzx7Zt",
        "outputId": "6df66c6e-884a-4a14-e5a9-4dc63e3bad7a"
      },
      "outputs": [
        {
          "data": {
            "text/plain": [
              "tensor([1, 2, 1,  ..., 1, 0, 1])"
            ]
          },
          "execution_count": 20,
          "metadata": {},
          "output_type": "execute_result"
        }
      ],
      "source": [
        "labels"
      ]
    },
    {
      "attachments": {},
      "cell_type": "markdown",
      "metadata": {},
      "source": [
        "## BERT extract word embeding"
      ]
    },
    {
      "cell_type": "code",
      "execution_count": 14,
      "metadata": {},
      "outputs": [
        {
          "name": "stderr",
          "output_type": "stream",
          "text": [
            "Some weights of the model checkpoint at bert-base-uncased were not used when initializing BertModel: ['cls.predictions.decoder.weight', 'cls.predictions.transform.LayerNorm.weight', 'cls.seq_relationship.weight', 'cls.seq_relationship.bias', 'cls.predictions.bias', 'cls.predictions.transform.dense.bias', 'cls.predictions.transform.LayerNorm.bias', 'cls.predictions.transform.dense.weight']\n",
            "- This IS expected if you are initializing BertModel from the checkpoint of a model trained on another task or with another architecture (e.g. initializing a BertForSequenceClassification model from a BertForPreTraining model).\n",
            "- This IS NOT expected if you are initializing BertModel from the checkpoint of a model that you expect to be exactly identical (initializing a BertForSequenceClassification model from a BertForSequenceClassification model).\n"
          ]
        },
        {
          "data": {
            "text/plain": [
              "BertModel(\n",
              "  (embeddings): BertEmbeddings(\n",
              "    (word_embeddings): Embedding(30522, 768, padding_idx=0)\n",
              "    (position_embeddings): Embedding(512, 768)\n",
              "    (token_type_embeddings): Embedding(2, 768)\n",
              "    (LayerNorm): LayerNorm((768,), eps=1e-12, elementwise_affine=True)\n",
              "    (dropout): Dropout(p=0.1, inplace=False)\n",
              "  )\n",
              "  (encoder): BertEncoder(\n",
              "    (layer): ModuleList(\n",
              "      (0-11): 12 x BertLayer(\n",
              "        (attention): BertAttention(\n",
              "          (self): BertSelfAttention(\n",
              "            (query): Linear(in_features=768, out_features=768, bias=True)\n",
              "            (key): Linear(in_features=768, out_features=768, bias=True)\n",
              "            (value): Linear(in_features=768, out_features=768, bias=True)\n",
              "            (dropout): Dropout(p=0.1, inplace=False)\n",
              "          )\n",
              "          (output): BertSelfOutput(\n",
              "            (dense): Linear(in_features=768, out_features=768, bias=True)\n",
              "            (LayerNorm): LayerNorm((768,), eps=1e-12, elementwise_affine=True)\n",
              "            (dropout): Dropout(p=0.1, inplace=False)\n",
              "          )\n",
              "        )\n",
              "        (intermediate): BertIntermediate(\n",
              "          (dense): Linear(in_features=768, out_features=3072, bias=True)\n",
              "          (intermediate_act_fn): GELUActivation()\n",
              "        )\n",
              "        (output): BertOutput(\n",
              "          (dense): Linear(in_features=3072, out_features=768, bias=True)\n",
              "          (LayerNorm): LayerNorm((768,), eps=1e-12, elementwise_affine=True)\n",
              "          (dropout): Dropout(p=0.1, inplace=False)\n",
              "        )\n",
              "      )\n",
              "    )\n",
              "  )\n",
              "  (pooler): BertPooler(\n",
              "    (dense): Linear(in_features=768, out_features=768, bias=True)\n",
              "    (activation): Tanh()\n",
              "  )\n",
              ")"
            ]
          },
          "execution_count": 14,
          "metadata": {},
          "output_type": "execute_result"
        }
      ],
      "source": [
        "# Load pre-trained model (weights)\n",
        "model_wordembeding = BertModel.from_pretrained('bert-base-uncased',\n",
        "                                  output_hidden_states = True, # Whether the model returns all hidden-states.\n",
        "                                  )\n",
        "\n",
        "# Put the model in \"evaluation\" mode, meaning feed-forward operation.\n",
        "model_wordembeding.eval()"
      ]
    },
    {
      "cell_type": "code",
      "execution_count": 61,
      "metadata": {},
      "outputs": [
        {
          "data": {
            "text/plain": [
              "BaseModelOutputWithPoolingAndCrossAttentions(last_hidden_state=tensor([[[ 0.0121, -0.0573,  0.3846,  ..., -0.2896,  0.7516,  0.2032],\n",
              "         [ 1.5905,  0.7797,  0.6360,  ..., -0.0330,  0.8121, -0.5305],\n",
              "         [ 0.2483, -0.4022,  0.9675,  ..., -0.0609,  0.8803,  0.3074],\n",
              "         ...,\n",
              "         [-0.1029, -0.5871,  0.3638,  ...,  0.4781,  0.2898, -0.2760],\n",
              "         [-0.0617, -0.8215,  0.7895,  ..., -0.0974,  0.3572, -0.2949],\n",
              "         [ 0.1083, -0.2814,  0.7425,  ...,  0.4173,  0.1751, -0.3131]]],\n",
              "       grad_fn=<NativeLayerNormBackward0>), pooler_output=tensor([[-0.7686, -0.4204, -0.6821,  0.5972,  0.5583, -0.2323,  0.4389,  0.3393,\n",
              "         -0.4607, -0.9999,  0.1165,  0.5736,  0.9770,  0.3192,  0.8722, -0.5209,\n",
              "          0.0439, -0.5390,  0.1786,  0.3740,  0.6138,  1.0000,  0.4436,  0.2134,\n",
              "          0.4436,  0.8363, -0.6924,  0.9203,  0.9442,  0.6660, -0.5761,  0.1754,\n",
              "         -0.9871, -0.2651, -0.8694, -0.9867,  0.3187, -0.6044, -0.2055,  0.1117,\n",
              "         -0.8564,  0.2343,  0.9999, -0.6311,  0.3438, -0.1756, -1.0000,  0.2437,\n",
              "         -0.8316,  0.4146,  0.3872,  0.2257,  0.1760,  0.3503,  0.4191,  0.0826,\n",
              "         -0.1449,  0.0901, -0.2773, -0.5218, -0.6181,  0.4220, -0.6297, -0.8402,\n",
              "          0.4104,  0.4149, -0.1867, -0.2558, -0.0934, -0.2554,  0.6739,  0.2542,\n",
              "          0.1848, -0.8762,  0.1932,  0.3421, -0.6661,  1.0000, -0.2185, -0.9672,\n",
              "          0.8663,  0.4736,  0.5764,  0.2505,  0.4034, -1.0000,  0.3637, -0.1402,\n",
              "         -0.9908,  0.1716,  0.5002, -0.2795,  0.7332,  0.6358, -0.5093, -0.2022,\n",
              "         -0.0850, -0.7133, -0.3542, -0.2081,  0.2244, -0.2264, -0.3794, -0.4141,\n",
              "          0.1907, -0.4060,  0.0726,  0.5899, -0.3262,  0.5810,  0.5965, -0.4245,\n",
              "          0.2000, -0.9338,  0.5325, -0.3767, -0.9842, -0.5412, -0.9843,  0.6733,\n",
              "         -0.1577, -0.2909,  0.9143, -0.2408,  0.4245, -0.0900, -0.4493, -1.0000,\n",
              "         -0.1733, -0.4182, -0.1279, -0.2089, -0.9692, -0.9676,  0.6184,  0.9360,\n",
              "          0.2740,  0.9997, -0.2464,  0.9403,  0.0913, -0.3994, -0.3761, -0.3728,\n",
              "          0.8242, -0.1272, -0.2059,  0.2175, -0.2095, -0.2597, -0.5188, -0.1284,\n",
              "         -0.3582, -0.9319, -0.2940,  0.9465, -0.1741, -0.7601,  0.3378, -0.1612,\n",
              "         -0.2379,  0.7282,  0.3970,  0.2684, -0.3406,  0.3631, -0.0334,  0.3609,\n",
              "         -0.6923,  0.4382,  0.3238, -0.2841, -0.7281, -0.9752, -0.2429,  0.4246,\n",
              "          0.9783,  0.6394,  0.4284, -0.0483, -0.3010, -0.0056, -0.9686,  0.9776,\n",
              "         -0.1564,  0.2786, -0.1844,  0.5771, -0.7514,  0.0046,  0.5287, -0.0010,\n",
              "         -0.7634, -0.1402, -0.5564, -0.3925, -0.7101,  0.2222, -0.2210, -0.3820,\n",
              "         -0.0304,  0.9457,  0.8585,  0.5132, -0.1094,  0.5925, -0.7338, -0.2769,\n",
              "          0.0456,  0.1916,  0.3262,  0.9821, -0.7552, -0.0228, -0.8759, -0.9790,\n",
              "         -0.1441, -0.7937, -0.0917, -0.5694,  0.5050, -0.1079, -0.0404,  0.3945,\n",
              "         -0.7911, -0.7225,  0.2405, -0.4950,  0.4924, -0.2211,  0.9075,  0.8343,\n",
              "         -0.5476, -0.0104,  0.9676, -0.8460, -0.7989,  0.3502, -0.2396,  0.7329,\n",
              "         -0.5682,  0.9863,  0.6555,  0.5718, -0.8591, -0.7145, -0.4696, -0.3755,\n",
              "         -0.0765, -0.2144,  0.4677,  0.6526,  0.3546,  0.5104, -0.3984,  0.9219,\n",
              "         -0.9333, -0.9515, -0.6747,  0.0197, -0.9852,  0.5837,  0.3613,  0.0928,\n",
              "         -0.4283, -0.5909, -0.9675,  0.4369, -0.0053,  0.8962, -0.1669, -0.6891,\n",
              "         -0.2567, -0.9422, -0.1299, -0.2321,  0.1954, -0.0427, -0.9162,  0.5008,\n",
              "          0.4668,  0.4220, -0.6575,  0.9809,  1.0000,  0.9640,  0.8549,  0.7512,\n",
              "         -0.9993, -0.7954,  1.0000, -0.9452, -1.0000, -0.8730, -0.3151,  0.2252,\n",
              "         -1.0000, -0.2517,  0.0623, -0.8608,  0.2337,  0.9694,  0.9062, -1.0000,\n",
              "          0.7433,  0.8564, -0.6697,  0.6700, -0.3079,  0.9478,  0.5891,  0.4175,\n",
              "         -0.3871,  0.5070, -0.9002, -0.7782, -0.1752, -0.6977,  0.9958,  0.0475,\n",
              "         -0.6336, -0.8802,  0.2201, -0.0561, -0.2054, -0.9585, -0.3300, -0.1445,\n",
              "          0.5847,  0.1879,  0.3120, -0.2682,  0.2983, -0.0826,  0.1713,  0.6892,\n",
              "         -0.9278, -0.0717,  0.1641, -0.4218, -0.4223, -0.9718,  0.9477, -0.3436,\n",
              "          0.2298,  1.0000,  0.1150, -0.7391,  0.6785,  0.1887, -0.3640,  1.0000,\n",
              "          0.7375, -0.9757, -0.6054,  0.6312, -0.5431, -0.5990,  0.9987, -0.2117,\n",
              "         -0.3143,  0.1818,  0.9827, -0.9851,  0.9895, -0.7720, -0.9587,  0.9612,\n",
              "          0.9152, -0.4778, -0.7193,  0.1760, -0.5376,  0.1814, -0.8119,  0.4601,\n",
              "          0.1247, -0.1437,  0.8458, -0.2604, -0.5358,  0.1334, -0.3678,  0.2606,\n",
              "          0.8787,  0.4331, -0.1942,  0.0783, -0.2735, -0.6196, -0.9738,  0.3462,\n",
              "          1.0000, -0.0748,  0.3270, -0.1672, -0.1057, -0.1223,  0.4365,  0.5204,\n",
              "         -0.2416, -0.7995,  0.4018, -0.8023, -0.9848,  0.4304,  0.1389, -0.3127,\n",
              "          0.9998,  0.5061,  0.1615,  0.2193,  0.7888,  0.1645,  0.3621,  0.5512,\n",
              "          0.9712, -0.2280,  0.5976,  0.4070, -0.5089, -0.3151, -0.5578,  0.0972,\n",
              "         -0.9353,  0.0196, -0.9370,  0.9512,  0.7442,  0.2684,  0.3399,  0.5268,\n",
              "          1.0000, -0.7076,  0.3769,  0.6292,  0.2978, -0.9993, -0.5724, -0.2905,\n",
              "          0.0033, -0.4975, -0.3259,  0.2890, -0.9485,  0.3786,  0.2712, -0.8922,\n",
              "         -0.9804,  0.2000,  0.4320,  0.0965, -0.9511, -0.4925, -0.5151, -0.1454,\n",
              "         -0.0906, -0.8862,  0.2460, -0.3503,  0.4773, -0.1677,  0.5771,  0.6389,\n",
              "          0.8532, -0.7928, -0.3786, -0.1606, -0.6922,  0.4787, -0.6690, -0.6990,\n",
              "         -0.1439,  1.0000, -0.4777,  0.7206,  0.5377,  0.2364, -0.1981,  0.1586,\n",
              "          0.9282,  0.4226, -0.3170, -0.1021,  0.4286, -0.4579,  0.5184,  0.4248,\n",
              "          0.5487,  0.6930,  0.7616,  0.0085, -0.0495,  0.0884,  0.9748, -0.1205,\n",
              "         -0.0390, -0.3581, -0.0923, -0.2599,  0.2370,  1.0000,  0.2537,  0.2697,\n",
              "         -0.9878, -0.5071, -0.7697,  1.0000,  0.7853, -0.6087,  0.5082,  0.2447,\n",
              "         -0.0785,  0.1608, -0.1433, -0.2582,  0.2107,  0.0405,  0.9199, -0.5221,\n",
              "         -0.9741, -0.6825,  0.2664, -0.9373,  0.9999, -0.4716, -0.2772, -0.3559,\n",
              "          0.0851, -0.6828, -0.1260, -0.9726, -0.1778,  0.1247,  0.9507,  0.2876,\n",
              "         -0.6783, -0.8812,  0.2658,  0.2896, -0.5255, -0.9041,  0.9495, -0.9580,\n",
              "          0.4263,  1.0000,  0.3277, -0.6574,  0.0797, -0.2545,  0.2813, -0.2801,\n",
              "          0.4157, -0.9451, -0.3643, -0.2255,  0.2943, -0.0534, -0.5637,  0.5557,\n",
              "          0.2552, -0.5889, -0.6134,  0.0683,  0.4230,  0.6757, -0.2950, -0.0527,\n",
              "          0.0186, -0.1423, -0.8593, -0.2509, -0.2647, -1.0000,  0.6143, -1.0000,\n",
              "          0.4785, -0.1935, -0.2552,  0.7412,  0.7276,  0.4718, -0.5359, -0.4482,\n",
              "          0.6913,  0.6674, -0.2043,  0.3968, -0.5510,  0.1609, -0.1209,  0.0576,\n",
              "         -0.2655,  0.7547, -0.1388,  1.0000,  0.1370, -0.3286, -0.7876,  0.1799,\n",
              "         -0.2813,  1.0000, -0.5884, -0.9503,  0.3485, -0.6514, -0.8370,  0.3414,\n",
              "          0.1893, -0.6188, -0.7535,  0.9153,  0.5823, -0.6452,  0.5041, -0.3298,\n",
              "         -0.3549,  0.1121,  0.5480,  0.9861,  0.3965,  0.6377, -0.3906, -0.2727,\n",
              "          0.9587,  0.2405, -0.2386,  0.0728,  1.0000,  0.3216, -0.8857,  0.4449,\n",
              "         -0.9393, -0.3109, -0.8950,  0.3199,  0.2653,  0.8722, -0.2319,  0.9094,\n",
              "         -0.2359, -0.0707,  0.0717,  0.0671,  0.3812, -0.9178, -0.9758, -0.9768,\n",
              "          0.3609, -0.4310, -0.0768,  0.2749,  0.0532,  0.3858,  0.4026, -1.0000,\n",
              "          0.9172,  0.2957,  0.7213,  0.9439,  0.5864,  0.2928,  0.2795, -0.9784,\n",
              "         -0.8359, -0.4007, -0.1176,  0.5132,  0.6021,  0.8651,  0.1845, -0.4375,\n",
              "         -0.2917, -0.2052, -0.8882, -0.9916,  0.4298,  0.0709, -0.7015,  0.9546,\n",
              "          0.0188, -0.1042,  0.2042, -0.7391,  0.6272,  0.7289,  0.1404,  0.1376,\n",
              "          0.3978,  0.8222,  0.8636,  0.9690, -0.6518,  0.6488, -0.1802,  0.5433,\n",
              "          0.7917, -0.9393,  0.1204,  0.4100, -0.2997,  0.2014, -0.2457, -0.7707,\n",
              "          0.3908, -0.2673,  0.3208, -0.4581,  0.0247, -0.4367, -0.0987, -0.6106,\n",
              "         -0.4294,  0.6588, -0.0803,  0.8580,  0.7487, -0.1551, -0.1361, -0.0734,\n",
              "         -0.3904, -0.9072,  0.4421, -0.0017, -0.0304,  0.5505, -0.1278,  0.8544,\n",
              "         -0.0391, -0.3342, -0.2127, -0.5595,  0.6653, -0.4128, -0.6013, -0.3656,\n",
              "          0.4117,  0.3503,  0.9999, -0.4840, -0.3389, -0.3378, -0.3422,  0.4796,\n",
              "         -0.4665, -1.0000,  0.0593, -0.2338,  0.5557,  0.1993,  0.7622,  0.0834,\n",
              "         -0.9032, -0.2490,  0.4023,  0.2924, -0.4337, -0.0298,  0.5215,  0.6507,\n",
              "          0.8254,  0.7344, -0.0625,  0.3368,  0.6310, -0.5452, -0.6844,  0.8540]],\n",
              "       grad_fn=<TanhBackward0>), hidden_states=(tensor([[[ 0.1686, -0.2858, -0.3261,  ..., -0.0276,  0.0383,  0.1640],\n",
              "         [ 0.2131, -0.8680, -0.8823,  ..., -0.5610,  0.4053, -0.2908],\n",
              "         [ 0.4114, -0.1364,  0.0461,  ...,  0.6755,  0.3249,  0.8570],\n",
              "         ...,\n",
              "         [ 0.3633, -0.7019,  0.1954,  ...,  0.0109, -0.2759,  0.2626],\n",
              "         [ 0.2141, -0.6549, -0.1916,  ..., -0.0753, -0.1228,  0.3469],\n",
              "         [ 0.1508, -0.6085, -0.0303,  ..., -0.1849, -0.1972,  0.3826]]],\n",
              "       grad_fn=<NativeLayerNormBackward0>), tensor([[[ 0.0383,  0.1234, -0.2131,  ...,  0.2363, -0.0108, -0.0280],\n",
              "         [ 0.4386, -0.7278, -0.6637,  ..., -0.6348,  0.6259, -0.2459],\n",
              "         [ 0.5781, -0.4173,  0.1871,  ...,  0.7087,  0.8009,  0.8770],\n",
              "         ...,\n",
              "         [-0.0934, -0.6105,  0.4109,  ...,  0.4072, -0.2169, -0.1340],\n",
              "         [-0.1618, -0.5720,  0.1678,  ...,  0.3273, -0.0997, -0.0808],\n",
              "         [-0.2094, -0.5222,  0.2869,  ...,  0.2746, -0.1665, -0.0667]]],\n",
              "       grad_fn=<NativeLayerNormBackward0>), tensor([[[-0.1501, -0.2371, -0.3534,  ...,  0.4175,  0.1756, -0.1169],\n",
              "         [ 0.4838, -1.4166, -0.3068,  ..., -0.0702,  1.2654, -0.3629],\n",
              "         [ 0.8243, -0.7921,  0.4920,  ...,  1.4157,  1.3394,  0.5737],\n",
              "         ...,\n",
              "         [-0.2967, -0.6980,  0.4105,  ...,  1.1230, -0.0690, -0.2680],\n",
              "         [-0.3699, -0.6452,  0.2004,  ...,  1.0094, -0.0474, -0.2600],\n",
              "         [-0.1494, -0.6514,  0.4261,  ...,  0.9340, -0.1563, -0.3766]]],\n",
              "       grad_fn=<NativeLayerNormBackward0>), tensor([[[-0.0399, -0.3075, -0.1519,  ...,  0.3692,  0.2394, -0.0733],\n",
              "         [ 0.5795, -1.4136,  0.0097,  ..., -0.0509,  0.5036, -0.3419],\n",
              "         [ 0.8359, -0.6853,  1.0529,  ...,  1.6869,  0.7056,  0.3850],\n",
              "         ...,\n",
              "         [-0.5632, -0.6593,  0.5130,  ...,  1.0891,  0.2011, -0.3394],\n",
              "         [-0.3059, -0.5157,  0.3752,  ...,  1.0012, -0.0286, -0.3900],\n",
              "         [-0.3329, -0.5772,  0.5270,  ...,  0.8589,  0.1760, -0.3953]]],\n",
              "       grad_fn=<NativeLayerNormBackward0>), tensor([[[ 0.0831, -0.6018, -0.3560,  ...,  0.3939,  0.3203,  0.0804],\n",
              "         [ 0.8971, -1.1768,  0.3101,  ...,  0.4852,  0.0121, -0.1749],\n",
              "         [ 0.7245, -0.2141,  0.7486,  ...,  1.3381,  0.4446,  0.6421],\n",
              "         ...,\n",
              "         [-0.6830, -1.2274,  0.8006,  ...,  0.4360, -0.0244, -0.2640],\n",
              "         [-0.3745, -1.1098,  0.9466,  ...,  0.5886, -0.1361, -0.4222],\n",
              "         [-0.4970, -1.2839,  0.9551,  ...,  0.4409, -0.0086, -0.2360]]],\n",
              "       grad_fn=<NativeLayerNormBackward0>), tensor([[[-0.0035, -0.5349, -0.1460,  ...,  0.0321,  0.2399,  0.1284],\n",
              "         [ 1.0701, -0.8715, -0.5608,  ...,  0.5005,  0.3542, -0.2539],\n",
              "         [ 0.9115, -0.6197,  1.0166,  ...,  1.0576,  0.5937,  0.8826],\n",
              "         ...,\n",
              "         [-0.3151, -1.1090,  0.6891,  ..., -0.0471,  0.1675, -0.6840],\n",
              "         [ 0.0519, -1.0980,  0.7460,  ...,  0.0599,  0.0051, -0.6039],\n",
              "         [-0.1355, -1.0366,  0.8352,  ..., -0.0085, -0.0083, -0.5623]]],\n",
              "       grad_fn=<NativeLayerNormBackward0>), tensor([[[ 0.3214, -0.9749, -0.0184,  ..., -0.0226,  0.4886,  0.1530],\n",
              "         [ 1.5384, -0.6972, -0.3449,  ...,  0.8056,  0.7567, -0.3369],\n",
              "         [ 0.8684, -0.9088,  0.9782,  ...,  0.6899,  0.3155,  0.6070],\n",
              "         ...,\n",
              "         [-0.2869, -0.8163,  0.7499,  ..., -0.0111, -0.1654, -0.5534],\n",
              "         [-0.0470, -1.0114,  0.9419,  ..., -0.0857,  0.0768, -0.6654],\n",
              "         [-0.1027, -0.7752,  1.1099,  ...,  0.0117, -0.2735, -0.6107]]],\n",
              "       grad_fn=<NativeLayerNormBackward0>), tensor([[[ 0.4863, -1.0050,  0.2397,  ..., -0.1667,  0.3247, -0.0311],\n",
              "         [ 1.7741, -0.3729, -0.5838,  ...,  0.7213,  0.6590, -0.3398],\n",
              "         [ 0.6414, -0.8290,  1.0506,  ..., -0.0472,  0.4980,  0.5459],\n",
              "         ...,\n",
              "         [ 0.2661, -1.0491,  0.8040,  ...,  0.0196, -0.0257, -0.4196],\n",
              "         [ 0.1382, -1.4184,  1.3651,  ...,  0.0095,  0.3750, -0.9458],\n",
              "         [ 0.3338, -0.8833,  1.6798,  ...,  0.3754, -0.2184, -0.5599]]],\n",
              "       grad_fn=<NativeLayerNormBackward0>), tensor([[[ 0.4882, -0.9333, -0.2150,  ..., -0.2097,  0.3607,  0.3324],\n",
              "         [ 1.7521,  0.2147, -0.1161,  ...,  0.2137,  0.9851, -0.2770],\n",
              "         [ 0.6184, -0.5762,  0.8004,  ...,  0.0305,  0.7253,  0.1071],\n",
              "         ...,\n",
              "         [-0.3604, -1.2041,  0.7342,  ..., -0.0124, -0.3473, -0.5761],\n",
              "         [ 0.2050, -1.6111,  1.4510,  ...,  0.2248,  0.4249, -1.1674],\n",
              "         [ 0.3070, -0.8616,  1.8518,  ...,  0.6484, -0.1858, -0.6915]]],\n",
              "       grad_fn=<NativeLayerNormBackward0>), tensor([[[ 0.4649, -0.6412,  0.1229,  ..., -0.1195,  0.2925,  0.1500],\n",
              "         [ 1.7264,  0.1980,  0.3492,  ...,  0.1265,  0.4580, -0.5268],\n",
              "         [ 0.6482, -0.4712,  0.7471,  ...,  0.1527,  0.7499,  0.0334],\n",
              "         ...,\n",
              "         [-0.0648, -0.8728,  0.4080,  ..., -0.0198, -0.4441, -0.7868],\n",
              "         [ 0.5519, -2.0507,  1.4467,  ...,  0.2097,  0.3796, -0.7197],\n",
              "         [ 0.6912, -0.8128,  1.5516,  ...,  0.6671, -0.5148, -0.7782]]],\n",
              "       grad_fn=<NativeLayerNormBackward0>), tensor([[[ 0.7753, -0.7695,  0.2237,  ..., -0.3538,  0.2568,  0.0063],\n",
              "         [ 2.4138,  0.2802,  0.8131,  ...,  0.0030,  0.7057, -0.5620],\n",
              "         [ 0.8130, -0.6220,  0.8743,  ..., -0.2310,  0.7517,  0.0552],\n",
              "         ...,\n",
              "         [-0.0919, -1.1050,  0.5481,  ...,  0.2070, -0.1567, -0.7172],\n",
              "         [ 0.0418, -2.0981,  1.4562,  ...,  0.3885, -0.0907, -1.4298],\n",
              "         [ 0.5815, -0.8736,  1.4589,  ...,  0.7722, -0.1100, -0.6139]]],\n",
              "       grad_fn=<NativeLayerNormBackward0>), tensor([[[ 0.4930, -0.4169,  0.2653,  ..., -0.4083,  0.3308, -0.0790],\n",
              "         [ 2.5055,  0.6295,  0.8872,  ..., -0.4197,  0.7256, -0.7002],\n",
              "         [ 0.8260, -0.5324,  0.7947,  ..., -0.1825,  0.8666,  0.2154],\n",
              "         ...,\n",
              "         [-0.1914, -1.0802,  0.5817,  ...,  0.2531, -0.0846, -1.0191],\n",
              "         [-0.1695, -2.3315,  1.5242,  ..., -0.3567,  0.2042, -1.2550],\n",
              "         [ 0.3745, -0.8078,  1.5391,  ...,  0.4857, -0.2486, -1.1106]]],\n",
              "       grad_fn=<NativeLayerNormBackward0>), tensor([[[ 0.0121, -0.0573,  0.3846,  ..., -0.2896,  0.7516,  0.2032],\n",
              "         [ 1.5905,  0.7797,  0.6360,  ..., -0.0330,  0.8121, -0.5305],\n",
              "         [ 0.2483, -0.4022,  0.9675,  ..., -0.0609,  0.8803,  0.3074],\n",
              "         ...,\n",
              "         [-0.1029, -0.5871,  0.3638,  ...,  0.4781,  0.2898, -0.2760],\n",
              "         [-0.0617, -0.8215,  0.7895,  ..., -0.0974,  0.3572, -0.2949],\n",
              "         [ 0.1083, -0.2814,  0.7425,  ...,  0.4173,  0.1751, -0.3131]]],\n",
              "       grad_fn=<NativeLayerNormBackward0>)), past_key_values=None, attentions=None, cross_attentions=None)"
            ]
          },
          "execution_count": 61,
          "metadata": {},
          "output_type": "execute_result"
        }
      ],
      "source": [
        "outputs"
      ]
    },
    {
      "cell_type": "code",
      "execution_count": 21,
      "metadata": {},
      "outputs": [
        {
          "data": {
            "text/plain": [
              "(torch.Size([1, 67, 768]),\n",
              " tensor([[[ 0.0121, -0.0573,  0.3846,  ..., -0.2896,  0.7516,  0.2032],\n",
              "          [ 1.5905,  0.7797,  0.6360,  ..., -0.0330,  0.8121, -0.5305],\n",
              "          [ 0.2483, -0.4022,  0.9675,  ..., -0.0609,  0.8803,  0.3074],\n",
              "          ...,\n",
              "          [-0.1029, -0.5871,  0.3638,  ...,  0.4781,  0.2898, -0.2760],\n",
              "          [-0.0617, -0.8215,  0.7895,  ..., -0.0974,  0.3572, -0.2949],\n",
              "          [ 0.1083, -0.2814,  0.7425,  ...,  0.4173,  0.1751, -0.3131]]]))"
            ]
          },
          "execution_count": 21,
          "metadata": {},
          "output_type": "execute_result"
        }
      ],
      "source": [
        "# Run the text through BERT, and collect all of the hidden states produced\n",
        "with torch.no_grad():\n",
        "    outputs = model_wordembeding(**encoded_dict)\n",
        "\n",
        "last_hidden_states = outputs.last_hidden_state\n",
        "last_hidden_states.size(), last_hidden_states"
      ]
    },
    {
      "cell_type": "code",
      "execution_count": 31,
      "metadata": {},
      "outputs": [
        {
          "name": "stdout",
          "output_type": "stream",
          "text": [
            "Original:  @VirginAmerica What @dhepburn said.\n",
            "Token IDs: tensor([  101,  1030,  6261, 14074, 14735,  2054,  1030, 28144, 13699,  8022,\n",
            "         2056,  1012,   102,     0,     0,     0,     0,     0,     0,     0,\n",
            "            0,     0,     0,     0,     0,     0,     0,     0,     0,     0,\n",
            "            0,     0,     0,     0,     0,     0,     0,     0,     0,     0,\n",
            "            0,     0,     0,     0,     0,     0,     0,     0,     0,     0,\n",
            "            0,     0,     0,     0,     0,     0,     0,     0,     0,     0,\n",
            "            0,     0,     0,     0,     0,     0,     0])\n",
            "Word Embeding: tensor([[-0.2078,  0.5304, -0.0119,  ..., -0.5982,  0.7270,  0.4766],\n",
            "        [ 0.5031,  1.2046, -0.0158,  ..., -0.4413,  0.4110,  0.3713],\n",
            "        [ 0.1319, -0.0150,  0.0089,  ..., -0.4280, -0.0124, -0.0497],\n",
            "        ...,\n",
            "        [ 0.0122,  0.1477,  0.1719,  ..., -0.2122,  0.1645,  0.0500],\n",
            "        [ 0.2474,  0.2329,  0.2534,  ...,  0.0416,  0.1467,  0.0064],\n",
            "        [-0.1140, -0.1827,  0.1488,  ...,  0.4139,  0.0932, -0.3923]])\n"
          ]
        }
      ],
      "source": [
        "input_ids = []\n",
        "attention_masks = []\n",
        "word_embeding = []\n",
        "for sentence in sentences[:3]:\n",
        "    encoded_dict = tokenizer.encode_plus(sentence, \n",
        "                                         add_special_tokens = True, \n",
        "                                         max_length = max_length,\n",
        "                                         padding='max_length',\n",
        "                                         return_tensors = 'pt')\n",
        "    \n",
        "    input_ids.append(encoded_dict['input_ids'])\n",
        "    attention_masks.append(encoded_dict['attention_mask'])\n",
        "    # Run the text through BERT, and collect all of the hidden states produced\n",
        "    with torch.no_grad():\n",
        "       outputs = model_wordembeding(**encoded_dict)\n",
        "\n",
        "    last_hidden_states = outputs.last_hidden_state\n",
        "    word_embeding.append(last_hidden_states[0])\n",
        "\n",
        "\n",
        "labels = torch.LongTensor(labels)\n",
        "\n",
        "input_ids = torch.cat(input_ids, dim=0)\n",
        "attention_masks = torch.cat(attention_masks, dim=0)\n",
        "\n",
        "\n",
        "# Print sentence 0, now as a list of IDs.\n",
        "print('Original: ', sentences[0])\n",
        "print('Token IDs:', input_ids[0])\n",
        "print('Word Embeding:', word_embeding[0])\n"
      ]
    },
    {
      "attachments": {},
      "cell_type": "markdown",
      "metadata": {
        "id": "gtBB-q77x7Zt"
      },
      "source": [
        "## Training Test Validation Split"
      ]
    },
    {
      "cell_type": "code",
      "execution_count": 16,
      "metadata": {
        "colab": {
          "base_uri": "https://localhost:8080/"
        },
        "id": "oRnbaCAHx7Z4",
        "outputId": "84b2694c-a18e-4e80-bd9c-6ce24acd833b"
      },
      "outputs": [
        {
          "name": "stdout",
          "output_type": "stream",
          "text": [
            "14,640 total samples\n",
            "10,248 training samples\n",
            "2,196 validation samples\n",
            "2,196 test samples\n"
          ]
        }
      ],
      "source": [
        "# Combine the training inputs into a TensorDataset.\n",
        "dataset = TensorDataset(input_ids, attention_masks, labels)\n",
        "\n",
        "# Create a 70-15-15 train-validation-test split.\n",
        "\n",
        "train_size = int(round(0.7*len(dataset)))\n",
        "val_size = int(round(0.15*len(dataset)))\n",
        "test_size = int(round(0.15*len(dataset)))\n",
        "\n",
        "# Divide the dataset by randomly selecting samples.\n",
        "train_dataset, val_dataset, test_dataset = random_split(dataset, [train_size, val_size, test_size])\n",
        "\n",
        "print('{:,} total samples'.format(len(dataset)))\n",
        "print('{:,} training samples'.format(len(train_dataset)))\n",
        "print('{:,} validation samples'.format(len(val_dataset)))\n",
        "print('{:,} test samples'.format(len(test_dataset)))"
      ]
    },
    {
      "cell_type": "code",
      "execution_count": 18,
      "metadata": {
        "id": "Mx51I70_x7Z6"
      },
      "outputs": [],
      "source": [
        "# The DataLoader needs to know our batch size for training, so we specify it \n",
        "# here. For fine-tuning BERT on a specific task, the authors recommend a batch \n",
        "# size of 16 or 32.\n",
        "# batch_size = 64\n",
        "batch_size = 8\n",
        "\n",
        "# Create the DataLoaders for our training and validation sets.\n",
        "# We'll take training samples in random order. \n",
        "train_dataloader = DataLoader(\n",
        "            train_dataset,  # The training samples.\n",
        "            sampler = RandomSampler(train_dataset), # Select batches randomly\n",
        "            batch_size = batch_size # Trains with this batch size.\n",
        "        )\n",
        "\n",
        "# For validation the order doesn't matter, so we'll just read them sequentially.\n",
        "validation_dataloader = DataLoader(\n",
        "            val_dataset, # The validation samples.\n",
        "            sampler = SequentialSampler(val_dataset), # Pull out batches sequentially.\n",
        "            batch_size = batch_size # Evaluate with this batch size.\n",
        "        )\n",
        "\n",
        "# For validation the order doesn't matter, so we'll just read them sequentially.\n",
        "test_dataloader = DataLoader(\n",
        "            test_dataset, # The validation samples.\n",
        "            sampler = SequentialSampler(test_dataset), # Pull out batches sequentially.\n",
        "            batch_size = batch_size # Evaluate with this batch size.\n",
        "        )"
      ]
    },
    {
      "attachments": {},
      "cell_type": "markdown",
      "metadata": {
        "id": "g9tkAlhPx7Z7"
      },
      "source": [
        "## Finetune BertModel"
      ]
    },
    {
      "cell_type": "code",
      "execution_count": 19,
      "metadata": {
        "colab": {
          "base_uri": "https://localhost:8080/",
          "height": 937,
          "referenced_widgets": [
            "3ae62f0b97e5463fa9149a607e3a57d9",
            "705a97558cdf47e7875bba99251423a1",
            "691ad9e6a5cc4665a6ee440a1fe67f72",
            "97df3e7720194c748eff0460ca441358",
            "e2fdadb7b2bf48d4885b144d8a5249d4",
            "f0969b98a5b649fbb3e268a78378441e",
            "c2e4a4c55569470a8cdc21ffebaa82af",
            "5e3617e3ba2c4d4aba73f93890dcacd5",
            "0a0bfd6a5ea14a87bc427347d7e9dc2b",
            "d31033dcd6524c80ab4292eca97d5c8d",
            "090a10298fac49228411498460a7f316"
          ]
        },
        "id": "xSxSP468x7Z7",
        "outputId": "031e63a7-f1cf-42db-840e-6c0cf01fda72"
      },
      "outputs": [
        {
          "name": "stderr",
          "output_type": "stream",
          "text": [
            "Some weights of the model checkpoint at bert-base-uncased were not used when initializing BertForSequenceClassification: ['cls.predictions.transform.LayerNorm.bias', 'cls.seq_relationship.weight', 'cls.predictions.transform.LayerNorm.weight', 'cls.seq_relationship.bias', 'cls.predictions.decoder.weight', 'cls.predictions.transform.dense.weight', 'cls.predictions.transform.dense.bias', 'cls.predictions.bias']\n",
            "- This IS expected if you are initializing BertForSequenceClassification from the checkpoint of a model trained on another task or with another architecture (e.g. initializing a BertForSequenceClassification model from a BertForPreTraining model).\n",
            "- This IS NOT expected if you are initializing BertForSequenceClassification from the checkpoint of a model that you expect to be exactly identical (initializing a BertForSequenceClassification model from a BertForSequenceClassification model).\n",
            "Some weights of BertForSequenceClassification were not initialized from the model checkpoint at bert-base-uncased and are newly initialized: ['classifier.bias', 'classifier.weight']\n",
            "You should probably TRAIN this model on a down-stream task to be able to use it for predictions and inference.\n"
          ]
        },
        {
          "data": {
            "text/plain": [
              "BertForSequenceClassification(\n",
              "  (bert): BertModel(\n",
              "    (embeddings): BertEmbeddings(\n",
              "      (word_embeddings): Embedding(30522, 768, padding_idx=0)\n",
              "      (position_embeddings): Embedding(512, 768)\n",
              "      (token_type_embeddings): Embedding(2, 768)\n",
              "      (LayerNorm): LayerNorm((768,), eps=1e-12, elementwise_affine=True)\n",
              "      (dropout): Dropout(p=0.1, inplace=False)\n",
              "    )\n",
              "    (encoder): BertEncoder(\n",
              "      (layer): ModuleList(\n",
              "        (0-11): 12 x BertLayer(\n",
              "          (attention): BertAttention(\n",
              "            (self): BertSelfAttention(\n",
              "              (query): Linear(in_features=768, out_features=768, bias=True)\n",
              "              (key): Linear(in_features=768, out_features=768, bias=True)\n",
              "              (value): Linear(in_features=768, out_features=768, bias=True)\n",
              "              (dropout): Dropout(p=0.1, inplace=False)\n",
              "            )\n",
              "            (output): BertSelfOutput(\n",
              "              (dense): Linear(in_features=768, out_features=768, bias=True)\n",
              "              (LayerNorm): LayerNorm((768,), eps=1e-12, elementwise_affine=True)\n",
              "              (dropout): Dropout(p=0.1, inplace=False)\n",
              "            )\n",
              "          )\n",
              "          (intermediate): BertIntermediate(\n",
              "            (dense): Linear(in_features=768, out_features=3072, bias=True)\n",
              "            (intermediate_act_fn): GELUActivation()\n",
              "          )\n",
              "          (output): BertOutput(\n",
              "            (dense): Linear(in_features=3072, out_features=768, bias=True)\n",
              "            (LayerNorm): LayerNorm((768,), eps=1e-12, elementwise_affine=True)\n",
              "            (dropout): Dropout(p=0.1, inplace=False)\n",
              "          )\n",
              "        )\n",
              "      )\n",
              "    )\n",
              "    (pooler): BertPooler(\n",
              "      (dense): Linear(in_features=768, out_features=768, bias=True)\n",
              "      (activation): Tanh()\n",
              "    )\n",
              "  )\n",
              "  (dropout): Dropout(p=0.1, inplace=False)\n",
              "  (classifier): Linear(in_features=768, out_features=3, bias=True)\n",
              ")"
            ]
          },
          "execution_count": 19,
          "metadata": {},
          "output_type": "execute_result"
        }
      ],
      "source": [
        "from transformers import BertForSequenceClassification, AdamW, BertConfig\n",
        "# torch.cuda.empty_cache()\n",
        "\n",
        "# Load BertForSequenceClassification, the pretrained BERT model with a single \n",
        "# linear classification layer on top. \n",
        "model = BertForSequenceClassification.from_pretrained(\n",
        "    \"bert-base-uncased\",#change model here # Use the 12-layer BERT model, with an uncased vocab.\n",
        "    num_labels = 3, # The number of output labels--3 for binary classification.\n",
        "                    # You can increase this for multi-class tasks.   \n",
        "    output_attentions = False, # Whether the model returns attentions weights.\n",
        "    output_hidden_states = False, # Whether the model returns all hidden-states.\n",
        ")\n",
        "\n",
        "# Tell pytorch to run this model on the GPU.\n",
        "model.cuda()"
      ]
    },
    {
      "cell_type": "code",
      "execution_count": 20,
      "metadata": {
        "colab": {
          "base_uri": "https://localhost:8080/"
        },
        "id": "DDS7vcSFx7Z9",
        "outputId": "c21b13c0-bd35-44c6-d920-e87a575ee044"
      },
      "outputs": [
        {
          "name": "stdout",
          "output_type": "stream",
          "text": [
            "The BERT model has 201 different named parameters.\n",
            "\n",
            "==== Embedding Layer ====\n",
            "\n",
            "bert.embeddings.word_embeddings.weight                  (30522, 768)\n",
            "bert.embeddings.position_embeddings.weight                (512, 768)\n",
            "bert.embeddings.token_type_embeddings.weight                (2, 768)\n",
            "bert.embeddings.LayerNorm.weight                              (768,)\n",
            "bert.embeddings.LayerNorm.bias                                (768,)\n",
            "\n",
            "==== First Transformer ====\n",
            "\n",
            "bert.encoder.layer.0.attention.self.query.weight          (768, 768)\n",
            "bert.encoder.layer.0.attention.self.query.bias                (768,)\n",
            "bert.encoder.layer.0.attention.self.key.weight            (768, 768)\n",
            "bert.encoder.layer.0.attention.self.key.bias                  (768,)\n",
            "bert.encoder.layer.0.attention.self.value.weight          (768, 768)\n",
            "bert.encoder.layer.0.attention.self.value.bias                (768,)\n",
            "bert.encoder.layer.0.attention.output.dense.weight        (768, 768)\n",
            "bert.encoder.layer.0.attention.output.dense.bias              (768,)\n",
            "bert.encoder.layer.0.attention.output.LayerNorm.weight        (768,)\n",
            "bert.encoder.layer.0.attention.output.LayerNorm.bias          (768,)\n",
            "bert.encoder.layer.0.intermediate.dense.weight           (3072, 768)\n",
            "bert.encoder.layer.0.intermediate.dense.bias                 (3072,)\n",
            "bert.encoder.layer.0.output.dense.weight                 (768, 3072)\n",
            "bert.encoder.layer.0.output.dense.bias                        (768,)\n",
            "bert.encoder.layer.0.output.LayerNorm.weight                  (768,)\n",
            "bert.encoder.layer.0.output.LayerNorm.bias                    (768,)\n",
            "\n",
            "==== Output Layer ====\n",
            "\n",
            "bert.pooler.dense.weight                                  (768, 768)\n",
            "bert.pooler.dense.bias                                        (768,)\n",
            "classifier.weight                                           (3, 768)\n",
            "classifier.bias                                                 (3,)\n"
          ]
        }
      ],
      "source": [
        "# Get all of the model's parameters as a list of tuples.\n",
        "params = list(model.named_parameters())\n",
        "\n",
        "print('The BERT model has {:} different named parameters.\\n'.format(len(params)))\n",
        "\n",
        "print('==== Embedding Layer ====\\n')\n",
        "\n",
        "for p in params[0:5]:\n",
        "    print(\"{:<55} {:>12}\".format(p[0], str(tuple(p[1].size()))))\n",
        "\n",
        "print('\\n==== First Transformer ====\\n')\n",
        "\n",
        "for p in params[5:21]:\n",
        "    print(\"{:<55} {:>12}\".format(p[0], str(tuple(p[1].size()))))\n",
        "\n",
        "print('\\n==== Output Layer ====\\n')\n",
        "\n",
        "for p in params[-4:]:\n",
        "    print(\"{:<55} {:>12}\".format(p[0], str(tuple(p[1].size()))))"
      ]
    },
    {
      "cell_type": "code",
      "execution_count": 21,
      "metadata": {
        "colab": {
          "base_uri": "https://localhost:8080/"
        },
        "id": "7mXVnOwEx7Z-",
        "outputId": "d9b839c6-f8c0-49e8-e88e-211b2eebe8d8"
      },
      "outputs": [
        {
          "name": "stderr",
          "output_type": "stream",
          "text": [
            "c:\\Users\\ADAWAS\\miniconda3\\envs\\pytorch\\lib\\site-packages\\transformers\\optimization.py:407: FutureWarning: This implementation of AdamW is deprecated and will be removed in a future version. Use the PyTorch implementation torch.optim.AdamW instead, or set `no_deprecation_warning=True` to disable this warning\n",
            "  warnings.warn(\n"
          ]
        }
      ],
      "source": [
        "# Note: AdamW is a class from the huggingface library (as opposed to pytorch) \n",
        "# I believe the 'W' stands for 'Weight Decay fix\"\n",
        "optimizer = AdamW(model.parameters(),\n",
        "                  lr = 5e-5, # args.learning_rate - default is 5e-5\n",
        "                  eps = 1e-8 # args.adam_epsilon  - default is 1e-8\n",
        "                )"
      ]
    },
    {
      "cell_type": "code",
      "execution_count": 22,
      "metadata": {
        "id": "x8xBlUq7x7Z_"
      },
      "outputs": [],
      "source": [
        "from transformers import get_linear_schedule_with_warmup\n",
        "\n",
        "epochs = 4\n",
        "\n",
        "total_step = len(train_dataloader) * epochs\n",
        "\n",
        "scheduler = get_linear_schedule_with_warmup(optimizer,\n",
        "                                            num_warmup_steps = 0,\n",
        "                                            num_training_steps = total_step)"
      ]
    },
    {
      "attachments": {},
      "cell_type": "markdown",
      "metadata": {
        "id": "MtPQcMH7x7Z_"
      },
      "source": [
        "## Train"
      ]
    },
    {
      "cell_type": "code",
      "execution_count": 23,
      "metadata": {
        "id": "NOEBAGqhx7aA"
      },
      "outputs": [],
      "source": [
        "import datetime\n",
        "import time\n",
        "def format_time(elapsed):\n",
        "    return str(datetime.timedelta(seconds=int(round(elapsed))))"
      ]
    },
    {
      "cell_type": "code",
      "execution_count": 24,
      "metadata": {
        "id": "BcTyLZ_Nx7aB"
      },
      "outputs": [],
      "source": [
        "# Function to calculate the accuracy of our predictions vs labels\n",
        "def flat_accuracy(preds, labels):\n",
        "    pred_flat = np.argmax(preds, axis=1).flatten()\n",
        "    labels_flat = labels.flatten()\n",
        "    return np.sum(pred_flat == labels_flat) / len(labels_flat)"
      ]
    },
    {
      "cell_type": "code",
      "execution_count": 25,
      "metadata": {
        "id": "vJZpaj8KQUgN"
      },
      "outputs": [],
      "source": [
        "torch.cuda.empty_cache()"
      ]
    },
    {
      "attachments": {},
      "cell_type": "markdown",
      "metadata": {
        "id": "j3LZ_g7maQNN"
      },
      "source": [
        "## try"
      ]
    },
    {
      "cell_type": "code",
      "execution_count": 45,
      "metadata": {
        "colab": {
          "base_uri": "https://localhost:8080/"
        },
        "id": "8EXrMYcYx7aB",
        "outputId": "aaa5edcd-2289-491f-964f-cd6efa9f7f0b"
      },
      "outputs": [
        {
          "name": "stdout",
          "output_type": "stream",
          "text": [
            "\n",
            "======== Epoch 1 / 4 ========\n",
            "Training...\n",
            "  Batch    40  of    161.    Elapsed: 0:00:00.\n",
            "  Batch    80  of    161.    Elapsed: 0:00:01.\n",
            "  Batch   120  of    161.    Elapsed: 0:00:01.\n",
            "  Batch   160  of    161.    Elapsed: 0:00:02.\n",
            "\n",
            "  Average training loss: 0.01\n",
            "  Training epcoh took: 0:00:02\n",
            "\n",
            "Running Validation...\n",
            "\n",
            "======== Epoch 2 / 4 ========\n",
            "Training...\n",
            "  Batch    40  of    161.    Elapsed: 0:00:00.\n",
            "  Batch    80  of    161.    Elapsed: 0:00:01.\n",
            "  Batch   120  of    161.    Elapsed: 0:00:01.\n",
            "  Batch   160  of    161.    Elapsed: 0:00:02.\n",
            "\n",
            "  Average training loss: 0.01\n",
            "  Training epcoh took: 0:00:02\n",
            "\n",
            "Running Validation...\n",
            "\n",
            "======== Epoch 3 / 4 ========\n",
            "Training...\n",
            "  Batch    40  of    161.    Elapsed: 0:00:00.\n",
            "  Batch    80  of    161.    Elapsed: 0:00:01.\n",
            "  Batch   120  of    161.    Elapsed: 0:00:01.\n",
            "  Batch   160  of    161.    Elapsed: 0:00:02.\n",
            "\n",
            "  Average training loss: 0.01\n",
            "  Training epcoh took: 0:00:02\n",
            "\n",
            "Running Validation...\n",
            "\n",
            "======== Epoch 4 / 4 ========\n",
            "Training...\n",
            "  Batch    40  of    161.    Elapsed: 0:00:00.\n",
            "  Batch    80  of    161.    Elapsed: 0:00:01.\n",
            "  Batch   120  of    161.    Elapsed: 0:00:02.\n",
            "  Batch   160  of    161.    Elapsed: 0:00:02.\n",
            "\n",
            "  Average training loss: 0.01\n",
            "  Training epcoh took: 0:00:02\n",
            "\n",
            "Running Validation...\n"
          ]
        }
      ],
      "source": [
        "training_stats = []\n",
        "total_t0 = time.time()\n",
        "\n",
        "for epoch_i in range(0,epochs):\n",
        "\n",
        "    print(\"\")\n",
        "    print('======== Epoch {:} / {:} ========'.format(epoch_i + 1, epochs))\n",
        "    print('Training...')\n",
        "\n",
        "    t0 = time.time()\n",
        "    total_train_loss = 0\n",
        "    \n",
        "    model.train()\n",
        "    for step, batch in enumerate(train_dataloader):\n",
        "        if step > 0 and step % 40 == 0:\n",
        "            # Calculate elapsed time in minutes.\n",
        "            elapsed = format_time(time.time() - t0)\n",
        "            \n",
        "            # Report progress.\n",
        "            print('  Batch {:>5,}  of  {:>5,}.    Elapsed: {:}.'.format(step, len(train_dataloader), elapsed))\n",
        "\n",
        "        b_input_ids = batch[0].to(device)\n",
        "        b_input_mask = batch[1].to(device)\n",
        "        b_labels = batch[2].to(device)\n",
        "\n",
        "        model.zero_grad()\n",
        "\n",
        "        outputs = model(b_input_ids,\n",
        "                          attention_mask=b_input_mask, \n",
        "                          labels=b_labels)\n",
        "        loss = outputs[0]\n",
        "        total_train_loss += loss.item()\n",
        "\n",
        "        loss.backward()\n",
        "\n",
        "        # Clip the norm to help prevent the \"exploding gradients\" problem.\n",
        "        torch.nn.utils.clip_grad_norm_(model.parameters(), 1.0)\n",
        "        # update weight\n",
        "        optimizer.step()\n",
        "        scheduler.step()\n",
        "        \n",
        "    avg_train_loss = total_train_loss / len(train_dataloader)\n",
        "\n",
        "    # Measure how long this epoch took.\n",
        "    training_time = format_time(time.time() - t0)\n",
        "\n",
        "    print(\"\")\n",
        "    print(\"  Average training loss: {0:.2f}\".format(avg_train_loss))\n",
        "    print(\"  Training epcoh took: {:}\".format(training_time))\n",
        "        \n",
        "    # ========================================\n",
        "    #               Validation\n",
        "    # ========================================\n",
        "    # After the completion of each training epoch, measure our performance on\n",
        "    # our validation set.\n",
        "    print(\"\")\n",
        "    print(\"Running Validation...\")\n",
        "\n",
        "    t0 = time.time()\n",
        "\n",
        "    # model.eval()\n",
        "\n"
      ]
    },
    {
      "attachments": {},
      "cell_type": "markdown",
      "metadata": {
        "id": "e3OOy3WXaR8t"
      },
      "source": [
        "## answers"
      ]
    },
    {
      "cell_type": "code",
      "execution_count": 26,
      "metadata": {
        "colab": {
          "base_uri": "https://localhost:8080/"
        },
        "id": "HXreKFrbx7aC",
        "outputId": "77b6178b-1707-4089-baa4-43224de33ef0"
      },
      "outputs": [
        {
          "name": "stdout",
          "output_type": "stream",
          "text": [
            "\n",
            "======== Epoch 1 / 4 ========\n",
            "Training...\n",
            "  Batch    40  of  1,281.    Elapsed: 0:00:20.\n",
            "  Batch    80  of  1,281.    Elapsed: 0:00:33.\n",
            "  Batch   120  of  1,281.    Elapsed: 0:00:45.\n",
            "  Batch   160  of  1,281.    Elapsed: 0:00:59.\n",
            "  Batch   200  of  1,281.    Elapsed: 0:01:12.\n",
            "  Batch   240  of  1,281.    Elapsed: 0:01:25.\n",
            "  Batch   280  of  1,281.    Elapsed: 0:01:43.\n",
            "  Batch   320  of  1,281.    Elapsed: 0:02:00.\n",
            "  Batch   360  of  1,281.    Elapsed: 0:02:16.\n",
            "  Batch   400  of  1,281.    Elapsed: 0:02:33.\n",
            "  Batch   440  of  1,281.    Elapsed: 0:02:50.\n",
            "  Batch   480  of  1,281.    Elapsed: 0:03:06.\n",
            "  Batch   520  of  1,281.    Elapsed: 0:03:23.\n",
            "  Batch   560  of  1,281.    Elapsed: 0:03:40.\n",
            "  Batch   600  of  1,281.    Elapsed: 0:03:56.\n",
            "  Batch   640  of  1,281.    Elapsed: 0:04:13.\n",
            "  Batch   680  of  1,281.    Elapsed: 0:04:29.\n",
            "  Batch   720  of  1,281.    Elapsed: 0:04:46.\n",
            "  Batch   760  of  1,281.    Elapsed: 0:05:03.\n",
            "  Batch   800  of  1,281.    Elapsed: 0:05:19.\n",
            "  Batch   840  of  1,281.    Elapsed: 0:05:36.\n",
            "  Batch   880  of  1,281.    Elapsed: 0:05:53.\n",
            "  Batch   920  of  1,281.    Elapsed: 0:06:09.\n",
            "  Batch   960  of  1,281.    Elapsed: 0:06:26.\n",
            "  Batch 1,000  of  1,281.    Elapsed: 0:06:42.\n",
            "  Batch 1,040  of  1,281.    Elapsed: 0:06:59.\n",
            "  Batch 1,080  of  1,281.    Elapsed: 0:07:16.\n",
            "  Batch 1,120  of  1,281.    Elapsed: 0:07:32.\n",
            "  Batch 1,160  of  1,281.    Elapsed: 0:07:49.\n",
            "  Batch 1,200  of  1,281.    Elapsed: 0:08:06.\n",
            "  Batch 1,240  of  1,281.    Elapsed: 0:08:22.\n",
            "  Batch 1,280  of  1,281.    Elapsed: 0:08:39.\n",
            "\n",
            "  Average training loss: 0.53\n",
            "  Training epcoh took: 0:08:40\n",
            "\n",
            "Running Validation...\n",
            "  Accuracy: 0.83\n",
            "  Validation Loss: 0.53\n",
            "  Validation took: 0:00:37\n",
            "\n",
            "======== Epoch 2 / 4 ========\n",
            "Training...\n",
            "  Batch    40  of  1,281.    Elapsed: 0:00:17.\n",
            "  Batch    80  of  1,281.    Elapsed: 0:00:33.\n",
            "  Batch   120  of  1,281.    Elapsed: 0:00:50.\n",
            "  Batch   160  of  1,281.    Elapsed: 0:01:07.\n",
            "  Batch   200  of  1,281.    Elapsed: 0:01:24.\n",
            "  Batch   240  of  1,281.    Elapsed: 0:01:41.\n",
            "  Batch   280  of  1,281.    Elapsed: 0:01:59.\n",
            "  Batch   320  of  1,281.    Elapsed: 0:02:16.\n",
            "  Batch   360  of  1,281.    Elapsed: 0:02:33.\n",
            "  Batch   400  of  1,281.    Elapsed: 0:02:50.\n",
            "  Batch   440  of  1,281.    Elapsed: 0:03:07.\n",
            "  Batch   480  of  1,281.    Elapsed: 0:03:24.\n",
            "  Batch   520  of  1,281.    Elapsed: 0:03:41.\n",
            "  Batch   560  of  1,281.    Elapsed: 0:03:58.\n",
            "  Batch   600  of  1,281.    Elapsed: 0:04:16.\n",
            "  Batch   640  of  1,281.    Elapsed: 0:04:33.\n",
            "  Batch   680  of  1,281.    Elapsed: 0:04:50.\n",
            "  Batch   720  of  1,281.    Elapsed: 0:05:07.\n",
            "  Batch   760  of  1,281.    Elapsed: 0:05:24.\n",
            "  Batch   800  of  1,281.    Elapsed: 0:05:41.\n",
            "  Batch   840  of  1,281.    Elapsed: 0:05:58.\n",
            "  Batch   880  of  1,281.    Elapsed: 0:06:15.\n",
            "  Batch   920  of  1,281.    Elapsed: 0:06:33.\n",
            "  Batch   960  of  1,281.    Elapsed: 0:06:50.\n",
            "  Batch 1,000  of  1,281.    Elapsed: 0:07:07.\n",
            "  Batch 1,040  of  1,281.    Elapsed: 0:07:24.\n",
            "  Batch 1,080  of  1,281.    Elapsed: 0:07:41.\n",
            "  Batch 1,120  of  1,281.    Elapsed: 0:07:58.\n",
            "  Batch 1,160  of  1,281.    Elapsed: 0:08:15.\n",
            "  Batch 1,200  of  1,281.    Elapsed: 0:08:32.\n",
            "  Batch 1,240  of  1,281.    Elapsed: 0:08:50.\n",
            "  Batch 1,280  of  1,281.    Elapsed: 0:09:07.\n",
            "\n",
            "  Average training loss: 0.34\n",
            "  Training epcoh took: 0:09:07\n",
            "\n",
            "Running Validation...\n",
            "  Accuracy: 0.84\n",
            "  Validation Loss: 0.51\n",
            "  Validation took: 0:00:36\n",
            "\n",
            "======== Epoch 3 / 4 ========\n",
            "Training...\n",
            "  Batch    40  of  1,281.    Elapsed: 0:00:17.\n",
            "  Batch    80  of  1,281.    Elapsed: 0:00:34.\n",
            "  Batch   120  of  1,281.    Elapsed: 0:00:51.\n",
            "  Batch   160  of  1,281.    Elapsed: 0:01:08.\n",
            "  Batch   200  of  1,281.    Elapsed: 0:01:26.\n",
            "  Batch   240  of  1,281.    Elapsed: 0:01:43.\n",
            "  Batch   280  of  1,281.    Elapsed: 0:02:00.\n",
            "  Batch   320  of  1,281.    Elapsed: 0:02:17.\n",
            "  Batch   360  of  1,281.    Elapsed: 0:02:34.\n",
            "  Batch   400  of  1,281.    Elapsed: 0:02:51.\n",
            "  Batch   440  of  1,281.    Elapsed: 0:03:08.\n",
            "  Batch   480  of  1,281.    Elapsed: 0:03:25.\n",
            "  Batch   520  of  1,281.    Elapsed: 0:03:42.\n",
            "  Batch   560  of  1,281.    Elapsed: 0:04:00.\n",
            "  Batch   600  of  1,281.    Elapsed: 0:04:17.\n",
            "  Batch   640  of  1,281.    Elapsed: 0:04:34.\n",
            "  Batch   680  of  1,281.    Elapsed: 0:04:51.\n",
            "  Batch   720  of  1,281.    Elapsed: 0:05:08.\n",
            "  Batch   760  of  1,281.    Elapsed: 0:05:25.\n",
            "  Batch   800  of  1,281.    Elapsed: 0:05:42.\n",
            "  Batch   840  of  1,281.    Elapsed: 0:05:59.\n",
            "  Batch   880  of  1,281.    Elapsed: 0:06:17.\n",
            "  Batch   920  of  1,281.    Elapsed: 0:06:33.\n",
            "  Batch   960  of  1,281.    Elapsed: 0:06:50.\n",
            "  Batch 1,000  of  1,281.    Elapsed: 0:07:07.\n",
            "  Batch 1,040  of  1,281.    Elapsed: 0:07:23.\n",
            "  Batch 1,080  of  1,281.    Elapsed: 0:07:40.\n",
            "  Batch 1,120  of  1,281.    Elapsed: 0:07:56.\n",
            "  Batch 1,160  of  1,281.    Elapsed: 0:08:13.\n",
            "  Batch 1,200  of  1,281.    Elapsed: 0:08:30.\n",
            "  Batch 1,240  of  1,281.    Elapsed: 0:08:46.\n",
            "  Batch 1,280  of  1,281.    Elapsed: 0:09:03.\n",
            "\n",
            "  Average training loss: 0.18\n",
            "  Training epcoh took: 0:09:03\n",
            "\n",
            "Running Validation...\n",
            "  Accuracy: 0.84\n",
            "  Validation Loss: 0.78\n",
            "  Validation took: 0:00:35\n",
            "\n",
            "======== Epoch 4 / 4 ========\n",
            "Training...\n",
            "  Batch    40  of  1,281.    Elapsed: 0:00:17.\n",
            "  Batch    80  of  1,281.    Elapsed: 0:00:33.\n",
            "  Batch   120  of  1,281.    Elapsed: 0:00:50.\n",
            "  Batch   160  of  1,281.    Elapsed: 0:01:06.\n",
            "  Batch   200  of  1,281.    Elapsed: 0:01:23.\n",
            "  Batch   240  of  1,281.    Elapsed: 0:01:40.\n",
            "  Batch   280  of  1,281.    Elapsed: 0:01:56.\n",
            "  Batch   320  of  1,281.    Elapsed: 0:02:13.\n",
            "  Batch   360  of  1,281.    Elapsed: 0:02:29.\n",
            "  Batch   400  of  1,281.    Elapsed: 0:02:46.\n",
            "  Batch   440  of  1,281.    Elapsed: 0:03:03.\n",
            "  Batch   480  of  1,281.    Elapsed: 0:03:19.\n",
            "  Batch   520  of  1,281.    Elapsed: 0:03:36.\n",
            "  Batch   560  of  1,281.    Elapsed: 0:03:52.\n",
            "  Batch   600  of  1,281.    Elapsed: 0:04:09.\n",
            "  Batch   640  of  1,281.    Elapsed: 0:04:26.\n",
            "  Batch   680  of  1,281.    Elapsed: 0:04:42.\n",
            "  Batch   720  of  1,281.    Elapsed: 0:04:59.\n",
            "  Batch   760  of  1,281.    Elapsed: 0:05:16.\n",
            "  Batch   800  of  1,281.    Elapsed: 0:05:32.\n",
            "  Batch   840  of  1,281.    Elapsed: 0:05:49.\n",
            "  Batch   880  of  1,281.    Elapsed: 0:06:06.\n",
            "  Batch   920  of  1,281.    Elapsed: 0:06:25.\n",
            "  Batch   960  of  1,281.    Elapsed: 0:06:42.\n",
            "  Batch 1,000  of  1,281.    Elapsed: 0:07:00.\n",
            "  Batch 1,040  of  1,281.    Elapsed: 0:07:17.\n",
            "  Batch 1,080  of  1,281.    Elapsed: 0:07:34.\n",
            "  Batch 1,120  of  1,281.    Elapsed: 0:07:53.\n",
            "  Batch 1,160  of  1,281.    Elapsed: 0:08:11.\n",
            "  Batch 1,200  of  1,281.    Elapsed: 0:08:29.\n",
            "  Batch 1,240  of  1,281.    Elapsed: 0:08:48.\n",
            "  Batch 1,280  of  1,281.    Elapsed: 0:09:06.\n",
            "\n",
            "  Average training loss: 0.09\n",
            "  Training epcoh took: 0:09:06\n",
            "\n",
            "Running Validation...\n",
            "  Accuracy: 0.85\n",
            "  Validation Loss: 0.82\n",
            "  Validation took: 0:00:37\n",
            "\n",
            "Training complete!\n",
            "Total training took 0:38:21 (h:mm:ss)\n"
          ]
        }
      ],
      "source": [
        "# We'll store a number of quantities such as training and validation loss, \n",
        "# validation accuracy, and timings.\n",
        "training_stats = []\n",
        "\n",
        "# Measure the total training time for the whole run.\n",
        "total_t0 = time.time()\n",
        "\n",
        "# For each epoch...\n",
        "for epoch_i in range(0, epochs):\n",
        "    \n",
        "    # ========================================\n",
        "    #               Training\n",
        "    # ========================================\n",
        "    \n",
        "    # Perform one full pass over the training set.\n",
        "\n",
        "    print(\"\")\n",
        "    print('======== Epoch {:} / {:} ========'.format(epoch_i + 1, epochs))\n",
        "    print('Training...')\n",
        "\n",
        "    # Measure how long the training epoch takes.\n",
        "    t0 = time.time()\n",
        "\n",
        "    # Reset the total loss for this epoch.\n",
        "    total_train_loss = 0\n",
        "\n",
        "    model.train()\n",
        "    # For each batch of training data...\n",
        "    for step, batch in enumerate(train_dataloader):\n",
        "\n",
        "        # Progress update every 40 batches.\n",
        "        if step % 40 == 0 and not step == 0:\n",
        "            # Calculate elapsed time in minutes.\n",
        "            elapsed = format_time(time.time() - t0)\n",
        "            \n",
        "            # Report progress.\n",
        "            print('  Batch {:>5,}  of  {:>5,}.    Elapsed: {:}.'.format(step, len(train_dataloader), elapsed))\n",
        "\n",
        "        # Unpack this training batch from our dataloader. \n",
        "        b_input_ids = batch[0].to(device)\n",
        "        b_input_mask = batch[1].to(device)\n",
        "        b_labels = batch[2].type(torch.LongTensor).to(device)\n",
        "\n",
        "        model.zero_grad()        \n",
        "\n",
        "        out           = model(b_input_ids,\n",
        "                             attention_mask=b_input_mask, \n",
        "                             labels=b_labels)\n",
        "\n",
        "        total_train_loss += out[0].item()\n",
        "\n",
        "        out[0].backward()\n",
        "\n",
        "        # Clip the norm to help prevent the \"exploding gradients\" problem.\n",
        "        torch.nn.utils.clip_grad_norm_(model.parameters(), 1.0)\n",
        "        # update weight\n",
        "        optimizer.step()\n",
        "        scheduler.step()\n",
        "\n",
        "    # Calculate the average loss over all of the batches.\n",
        "    avg_train_loss = total_train_loss / len(train_dataloader)            \n",
        "    \n",
        "    # Measure how long this epoch took.\n",
        "    training_time = format_time(time.time() - t0)\n",
        "\n",
        "    print(\"\")\n",
        "    print(\"  Average training loss: {0:.2f}\".format(avg_train_loss))\n",
        "    print(\"  Training epcoh took: {:}\".format(training_time))\n",
        "        \n",
        "    # ========================================\n",
        "    #               Validation\n",
        "    # ========================================\n",
        "    # After the completion of each training epoch, measure our performance on\n",
        "    # our validation set.\n",
        "    print(\"\")\n",
        "    print(\"Running Validation...\")\n",
        "\n",
        "    t0 = time.time()\n",
        "\n",
        "    # Put the model in evaluation mode--the dropout layers behave differently\n",
        "    # during evaluation.\n",
        "    model.eval()\n",
        "\n",
        "    # Tracking variables \n",
        "    total_eval_accuracy = 0\n",
        "    total_eval_loss = 0\n",
        "    nb_eval_steps = 0\n",
        "\n",
        "    # Evaluate data for one epoch\n",
        "    for batch in validation_dataloader:\n",
        "        b_input_ids = batch[0].to(device)\n",
        "        b_input_mask = batch[1].to(device)\n",
        "        b_labels = batch[2].type(torch.LongTensor).to(device)\n",
        "        \n",
        "        # Tell pytorch not to bother with constructing the compute graph during\n",
        "        # the forward pass, since this is only needed for backprop (training).\n",
        "        with torch.no_grad():        \n",
        "\n",
        "            out            = model(b_input_ids, \n",
        "                                   attention_mask=b_input_mask,\n",
        "                                   labels=b_labels)\n",
        "            \n",
        "        # Accumulate the validation loss.\n",
        "        total_eval_loss += out[0].item()\n",
        "\n",
        "        # Move logits and labels to CPU\n",
        "        logits = out[1].detach().cpu().numpy()\n",
        "        label_ids = b_labels.to('cpu').numpy()\n",
        "\n",
        "        # Calculate the accuracy for this batch of test sentences, and\n",
        "        # accumulate it over all batches.\n",
        "        total_eval_accuracy += flat_accuracy(logits, label_ids)\n",
        "        \n",
        "\n",
        "    # Report the final accuracy for this validation run.\n",
        "    avg_val_accuracy = total_eval_accuracy / len(validation_dataloader)\n",
        "    print(\"  Accuracy: {0:.2f}\".format(avg_val_accuracy))\n",
        "\n",
        "    # Calculate the average loss over all of the batches.\n",
        "    avg_val_loss = total_eval_loss / len(validation_dataloader)\n",
        "    \n",
        "    # Measure how long the validation run took.\n",
        "    validation_time = format_time(time.time() - t0)\n",
        "    \n",
        "    print(\"  Validation Loss: {0:.2f}\".format(avg_val_loss))\n",
        "    print(\"  Validation took: {:}\".format(validation_time))\n",
        "\n",
        "    # Record all statistics from this epoch.\n",
        "    training_stats.append(\n",
        "        {\n",
        "            'epoch': epoch_i + 1,\n",
        "            'Training Loss': avg_train_loss,\n",
        "            'Valid. Loss': avg_val_loss,\n",
        "            'Valid. Accur.': avg_val_accuracy,\n",
        "            'Training Time': training_time,\n",
        "            'Validation Time': validation_time\n",
        "        }\n",
        "    )\n",
        "\n",
        "print(\"\")\n",
        "print(\"Training complete!\")\n",
        "\n",
        "print(\"Total training took {:} (h:mm:ss)\".format(format_time(time.time()-total_t0)))"
      ]
    },
    {
      "cell_type": "code",
      "execution_count": 27,
      "metadata": {
        "colab": {
          "base_uri": "https://localhost:8080/",
          "height": 206
        },
        "id": "fWQAvQO0x7aG",
        "outputId": "920edd25-0b2a-478c-96d2-31503c65fcdd"
      },
      "outputs": [
        {
          "data": {
            "text/html": [
              "<div>\n",
              "<style scoped>\n",
              "    .dataframe tbody tr th:only-of-type {\n",
              "        vertical-align: middle;\n",
              "    }\n",
              "\n",
              "    .dataframe tbody tr th {\n",
              "        vertical-align: top;\n",
              "    }\n",
              "\n",
              "    .dataframe thead th {\n",
              "        text-align: right;\n",
              "    }\n",
              "</style>\n",
              "<table border=\"1\" class=\"dataframe\">\n",
              "  <thead>\n",
              "    <tr style=\"text-align: right;\">\n",
              "      <th></th>\n",
              "      <th>Training Loss</th>\n",
              "      <th>Valid. Loss</th>\n",
              "      <th>Valid. Accur.</th>\n",
              "      <th>Training Time</th>\n",
              "      <th>Validation Time</th>\n",
              "    </tr>\n",
              "    <tr>\n",
              "      <th>epoch</th>\n",
              "      <th></th>\n",
              "      <th></th>\n",
              "      <th></th>\n",
              "      <th></th>\n",
              "      <th></th>\n",
              "    </tr>\n",
              "  </thead>\n",
              "  <tbody>\n",
              "    <tr>\n",
              "      <th>1</th>\n",
              "      <td>0.529470</td>\n",
              "      <td>0.525645</td>\n",
              "      <td>0.829091</td>\n",
              "      <td>0:08:40</td>\n",
              "      <td>0:00:37</td>\n",
              "    </tr>\n",
              "    <tr>\n",
              "      <th>2</th>\n",
              "      <td>0.335063</td>\n",
              "      <td>0.510805</td>\n",
              "      <td>0.844545</td>\n",
              "      <td>0:09:07</td>\n",
              "      <td>0:00:36</td>\n",
              "    </tr>\n",
              "    <tr>\n",
              "      <th>3</th>\n",
              "      <td>0.182522</td>\n",
              "      <td>0.784870</td>\n",
              "      <td>0.837727</td>\n",
              "      <td>0:09:03</td>\n",
              "      <td>0:00:35</td>\n",
              "    </tr>\n",
              "    <tr>\n",
              "      <th>4</th>\n",
              "      <td>0.088640</td>\n",
              "      <td>0.823965</td>\n",
              "      <td>0.846364</td>\n",
              "      <td>0:09:06</td>\n",
              "      <td>0:00:37</td>\n",
              "    </tr>\n",
              "  </tbody>\n",
              "</table>\n",
              "</div>"
            ],
            "text/plain": [
              "       Training Loss  Valid. Loss  Valid. Accur. Training Time Validation Time\n",
              "epoch                                                                         \n",
              "1           0.529470     0.525645       0.829091       0:08:40         0:00:37\n",
              "2           0.335063     0.510805       0.844545       0:09:07         0:00:36\n",
              "3           0.182522     0.784870       0.837727       0:09:03         0:00:35\n",
              "4           0.088640     0.823965       0.846364       0:09:06         0:00:37"
            ]
          },
          "execution_count": 27,
          "metadata": {},
          "output_type": "execute_result"
        }
      ],
      "source": [
        "# Create a DataFrame from our training statistics.\n",
        "df_stats = pd.DataFrame(data=training_stats)\n",
        "\n",
        "# Use the 'epoch' as the row index.\n",
        "df_stats = df_stats.set_index('epoch')\n",
        "\n",
        "# Display the table.\n",
        "df_stats"
      ]
    },
    {
      "cell_type": "code",
      "execution_count": 28,
      "metadata": {
        "colab": {
          "base_uri": "https://localhost:8080/",
          "height": 592
        },
        "id": "-TDXMIKXx7aG",
        "outputId": "8ea43aae-400c-4040-e4e4-7649c97135dc"
      },
      "outputs": [
        {
          "data": {
            "image/png": "[encoded data removed]",
            "text/plain": [
              "<Figure size 1200x600 with 1 Axes>"
            ]
          },
          "metadata": {},
          "output_type": "display_data"
        }
      ],
      "source": [
        "# Use plot styling from seaborn.\n",
        "sns.set(style='darkgrid')\n",
        "\n",
        "# Increase the plot size and font size.\n",
        "sns.set(font_scale=1.5)\n",
        "plt.rcParams[\"figure.figsize\"] = (12,6)\n",
        "\n",
        "# Plot the learning curve.\n",
        "plt.plot(df_stats['Training Loss'], 'b-o', label=\"Training\")\n",
        "plt.plot(df_stats['Valid. Loss'], 'g-o', label=\"Validation\")\n",
        "\n",
        "# Label the plot.\n",
        "plt.title(\"Training & Validation Loss\")\n",
        "plt.xlabel(\"Epoch\")\n",
        "plt.ylabel(\"Loss\")\n",
        "plt.legend()\n",
        "plt.xticks([1, 2, 3, 4])\n",
        "\n",
        "plt.show()"
      ]
    },
    {
      "cell_type": "code",
      "execution_count": null,
      "metadata": {
        "id": "CeFgnXdqfuUw"
      },
      "outputs": [],
      "source": []
    }
  ],
  "metadata": {
    "accelerator": "GPU",
    "colab": {
      "gpuType": "T4",
      "provenance": [],
      "toc_visible": true
    },
    "gpuClass": "standard",
    "kernelspec": {
      "display_name": "pytorch",
      "language": "python",
      "name": "python3"
    },
    "language_info": {
      "codemirror_mode": {
        "name": "ipython",
        "version": 3
      },
      "file_extension": ".py",
      "mimetype": "text/x-python",
      "name": "python",
      "nbconvert_exporter": "python",
      "pygments_lexer": "ipython3",
      "version": "3.9.16"
    },
    "orig_nbformat": 4,
    "widgets": {
      "application/vnd.jupyter.widget-state+json": {
        "01113b3606b748bbb3db668b414e3201": {
          "model_module": "@jupyter-widgets/controls",
          "model_module_version": "1.5.0",
          "model_name": "DescriptionStyleModel",
          "state": {
            "_model_module": "@jupyter-widgets/controls",
            "_model_module_version": "1.5.0",
            "_model_name": "DescriptionStyleModel",
            "_view_count": null,
            "_view_module": "@jupyter-widgets/base",
            "_view_module_version": "1.2.0",
            "_view_name": "StyleView",
            "description_width": ""
          }
        },
        "03a3e8b9cd2a47039eed2f332ee0b534": {
          "model_module": "@jupyter-widgets/base",
          "model_module_version": "1.2.0",
          "model_name": "LayoutModel",
          "state": {
            "_model_module": "@jupyter-widgets/base",
            "_model_module_version": "1.2.0",
            "_model_name": "LayoutModel",
            "_view_count": null,
            "_view_module": "@jupyter-widgets/base",
            "_view_module_version": "1.2.0",
            "_view_name": "LayoutView",
            "align_content": null,
            "align_items": null,
            "align_self": null,
            "border": null,
            "bottom": null,
            "display": null,
            "flex": null,
            "flex_flow": null,
            "grid_area": null,
            "grid_auto_columns": null,
            "grid_auto_flow": null,
            "grid_auto_rows": null,
            "grid_column": null,
            "grid_gap": null,
            "grid_row": null,
            "grid_template_areas": null,
            "grid_template_columns": null,
            "grid_template_rows": null,
            "height": null,
            "justify_content": null,
            "justify_items": null,
            "left": null,
            "margin": null,
            "max_height": null,
            "max_width": null,
            "min_height": null,
            "min_width": null,
            "object_fit": null,
            "object_position": null,
            "order": null,
            "overflow": null,
            "overflow_x": null,
            "overflow_y": null,
            "padding": null,
            "right": null,
            "top": null,
            "visibility": null,
            "width": null
          }
        },
        "074a2df8cfc24e138fd70fc3b5b818f0": {
          "model_module": "@jupyter-widgets/controls",
          "model_module_version": "1.5.0",
          "model_name": "ProgressStyleModel",
          "state": {
            "_model_module": "@jupyter-widgets/controls",
            "_model_module_version": "1.5.0",
            "_model_name": "ProgressStyleModel",
            "_view_count": null,
            "_view_module": "@jupyter-widgets/base",
            "_view_module_version": "1.2.0",
            "_view_name": "StyleView",
            "bar_color": null,
            "description_width": ""
          }
        },
        "090a10298fac49228411498460a7f316": {
          "model_module": "@jupyter-widgets/controls",
          "model_module_version": "1.5.0",
          "model_name": "DescriptionStyleModel",
          "state": {
            "_model_module": "@jupyter-widgets/controls",
            "_model_module_version": "1.5.0",
            "_model_name": "DescriptionStyleModel",
            "_view_count": null,
            "_view_module": "@jupyter-widgets/base",
            "_view_module_version": "1.2.0",
            "_view_name": "StyleView",
            "description_width": ""
          }
        },
        "0a0bfd6a5ea14a87bc427347d7e9dc2b": {
          "model_module": "@jupyter-widgets/controls",
          "model_module_version": "1.5.0",
          "model_name": "ProgressStyleModel",
          "state": {
            "_model_module": "@jupyter-widgets/controls",
            "_model_module_version": "1.5.0",
            "_model_name": "ProgressStyleModel",
            "_view_count": null,
            "_view_module": "@jupyter-widgets/base",
            "_view_module_version": "1.2.0",
            "_view_name": "StyleView",
            "bar_color": null,
            "description_width": ""
          }
        },
        "0ec839c6c8ee43348af633a25da123e6": {
          "model_module": "@jupyter-widgets/controls",
          "model_module_version": "1.5.0",
          "model_name": "DescriptionStyleModel",
          "state": {
            "_model_module": "@jupyter-widgets/controls",
            "_model_module_version": "1.5.0",
            "_model_name": "DescriptionStyleModel",
            "_view_count": null,
            "_view_module": "@jupyter-widgets/base",
            "_view_module_version": "1.2.0",
            "_view_name": "StyleView",
            "description_width": ""
          }
        },
        "19c57b0a2eb54dcc96f041433b007582": {
          "model_module": "@jupyter-widgets/controls",
          "model_module_version": "1.5.0",
          "model_name": "HTMLModel",
          "state": {
            "_dom_classes": [],
            "_model_module": "@jupyter-widgets/controls",
            "_model_module_version": "1.5.0",
            "_model_name": "HTMLModel",
            "_view_count": null,
            "_view_module": "@jupyter-widgets/controls",
            "_view_module_version": "1.5.0",
            "_view_name": "HTMLView",
            "description": "",
            "description_tooltip": null,
            "layout": "IPY_MODEL_a5ace41a0675451b90fc7297f3a68fca",
            "placeholder": "​",
            "style": "IPY_MODEL_580bbad20a8947f9b9d98ecb06bfb8c4",
            "value": "Downloading (…)okenizer_config.json: 100%"
          }
        },
        "32fbc0b643954595995827487d27773e": {
          "model_module": "@jupyter-widgets/controls",
          "model_module_version": "1.5.0",
          "model_name": "ProgressStyleModel",
          "state": {
            "_model_module": "@jupyter-widgets/controls",
            "_model_module_version": "1.5.0",
            "_model_name": "ProgressStyleModel",
            "_view_count": null,
            "_view_module": "@jupyter-widgets/base",
            "_view_module_version": "1.2.0",
            "_view_name": "StyleView",
            "bar_color": null,
            "description_width": ""
          }
        },
        "3ae62f0b97e5463fa9149a607e3a57d9": {
          "model_module": "@jupyter-widgets/controls",
          "model_module_version": "1.5.0",
          "model_name": "HBoxModel",
          "state": {
            "_dom_classes": [],
            "_model_module": "@jupyter-widgets/controls",
            "_model_module_version": "1.5.0",
            "_model_name": "HBoxModel",
            "_view_count": null,
            "_view_module": "@jupyter-widgets/controls",
            "_view_module_version": "1.5.0",
            "_view_name": "HBoxView",
            "box_style": "",
            "children": [
              "IPY_MODEL_705a97558cdf47e7875bba99251423a1",
              "IPY_MODEL_691ad9e6a5cc4665a6ee440a1fe67f72",
              "IPY_MODEL_97df3e7720194c748eff0460ca441358"
            ],
            "layout": "IPY_MODEL_e2fdadb7b2bf48d4885b144d8a5249d4"
          }
        },
        "4215e6b5c8b54240bf3f889a49d9e1c8": {
          "model_module": "@jupyter-widgets/base",
          "model_module_version": "1.2.0",
          "model_name": "LayoutModel",
          "state": {
            "_model_module": "@jupyter-widgets/base",
            "_model_module_version": "1.2.0",
            "_model_name": "LayoutModel",
            "_view_count": null,
            "_view_module": "@jupyter-widgets/base",
            "_view_module_version": "1.2.0",
            "_view_name": "LayoutView",
            "align_content": null,
            "align_items": null,
            "align_self": null,
            "border": null,
            "bottom": null,
            "display": null,
            "flex": null,
            "flex_flow": null,
            "grid_area": null,
            "grid_auto_columns": null,
            "grid_auto_flow": null,
            "grid_auto_rows": null,
            "grid_column": null,
            "grid_gap": null,
            "grid_row": null,
            "grid_template_areas": null,
            "grid_template_columns": null,
            "grid_template_rows": null,
            "height": null,
            "justify_content": null,
            "justify_items": null,
            "left": null,
            "margin": null,
            "max_height": null,
            "max_width": null,
            "min_height": null,
            "min_width": null,
            "object_fit": null,
            "object_position": null,
            "order": null,
            "overflow": null,
            "overflow_x": null,
            "overflow_y": null,
            "padding": null,
            "right": null,
            "top": null,
            "visibility": null,
            "width": null
          }
        },
        "49b784683cfe4dcc8726e3fab3d5f16e": {
          "model_module": "@jupyter-widgets/controls",
          "model_module_version": "1.5.0",
          "model_name": "HBoxModel",
          "state": {
            "_dom_classes": [],
            "_model_module": "@jupyter-widgets/controls",
            "_model_module_version": "1.5.0",
            "_model_name": "HBoxModel",
            "_view_count": null,
            "_view_module": "@jupyter-widgets/controls",
            "_view_module_version": "1.5.0",
            "_view_name": "HBoxView",
            "box_style": "",
            "children": [
              "IPY_MODEL_9eb86b79f20f42638ec08206c3573ec6",
              "IPY_MODEL_a1bd2e3b9d994b4fba7d14a4031a23e6",
              "IPY_MODEL_b6f89f149254453fbb8c2fe6726de32e"
            ],
            "layout": "IPY_MODEL_be5b9c24bedd47d793e608e711b4a0a0"
          }
        },
        "4e379024bc1e45e5804e4526e451ae26": {
          "model_module": "@jupyter-widgets/controls",
          "model_module_version": "1.5.0",
          "model_name": "DescriptionStyleModel",
          "state": {
            "_model_module": "@jupyter-widgets/controls",
            "_model_module_version": "1.5.0",
            "_model_name": "DescriptionStyleModel",
            "_view_count": null,
            "_view_module": "@jupyter-widgets/base",
            "_view_module_version": "1.2.0",
            "_view_name": "StyleView",
            "description_width": ""
          }
        },
        "564e2027d4354d4d82c8f8dcafd9f653": {
          "model_module": "@jupyter-widgets/controls",
          "model_module_version": "1.5.0",
          "model_name": "HTMLModel",
          "state": {
            "_dom_classes": [],
            "_model_module": "@jupyter-widgets/controls",
            "_model_module_version": "1.5.0",
            "_model_name": "HTMLModel",
            "_view_count": null,
            "_view_module": "@jupyter-widgets/controls",
            "_view_module_version": "1.5.0",
            "_view_name": "HTMLView",
            "description": "",
            "description_tooltip": null,
            "layout": "IPY_MODEL_5e5b072b689d4dffb86f469f104f6b81",
            "placeholder": "​",
            "style": "IPY_MODEL_01113b3606b748bbb3db668b414e3201",
            "value": " 28.0/28.0 [00:00&lt;00:00, 1.90kB/s]"
          }
        },
        "580bbad20a8947f9b9d98ecb06bfb8c4": {
          "model_module": "@jupyter-widgets/controls",
          "model_module_version": "1.5.0",
          "model_name": "DescriptionStyleModel",
          "state": {
            "_model_module": "@jupyter-widgets/controls",
            "_model_module_version": "1.5.0",
            "_model_name": "DescriptionStyleModel",
            "_view_count": null,
            "_view_module": "@jupyter-widgets/base",
            "_view_module_version": "1.2.0",
            "_view_name": "StyleView",
            "description_width": ""
          }
        },
        "5e3617e3ba2c4d4aba73f93890dcacd5": {
          "model_module": "@jupyter-widgets/base",
          "model_module_version": "1.2.0",
          "model_name": "LayoutModel",
          "state": {
            "_model_module": "@jupyter-widgets/base",
            "_model_module_version": "1.2.0",
            "_model_name": "LayoutModel",
            "_view_count": null,
            "_view_module": "@jupyter-widgets/base",
            "_view_module_version": "1.2.0",
            "_view_name": "LayoutView",
            "align_content": null,
            "align_items": null,
            "align_self": null,
            "border": null,
            "bottom": null,
            "display": null,
            "flex": null,
            "flex_flow": null,
            "grid_area": null,
            "grid_auto_columns": null,
            "grid_auto_flow": null,
            "grid_auto_rows": null,
            "grid_column": null,
            "grid_gap": null,
            "grid_row": null,
            "grid_template_areas": null,
            "grid_template_columns": null,
            "grid_template_rows": null,
            "height": null,
            "justify_content": null,
            "justify_items": null,
            "left": null,
            "margin": null,
            "max_height": null,
            "max_width": null,
            "min_height": null,
            "min_width": null,
            "object_fit": null,
            "object_position": null,
            "order": null,
            "overflow": null,
            "overflow_x": null,
            "overflow_y": null,
            "padding": null,
            "right": null,
            "top": null,
            "visibility": null,
            "width": null
          }
        },
        "5e5b072b689d4dffb86f469f104f6b81": {
          "model_module": "@jupyter-widgets/base",
          "model_module_version": "1.2.0",
          "model_name": "LayoutModel",
          "state": {
            "_model_module": "@jupyter-widgets/base",
            "_model_module_version": "1.2.0",
            "_model_name": "LayoutModel",
            "_view_count": null,
            "_view_module": "@jupyter-widgets/base",
            "_view_module_version": "1.2.0",
            "_view_name": "LayoutView",
            "align_content": null,
            "align_items": null,
            "align_self": null,
            "border": null,
            "bottom": null,
            "display": null,
            "flex": null,
            "flex_flow": null,
            "grid_area": null,
            "grid_auto_columns": null,
            "grid_auto_flow": null,
            "grid_auto_rows": null,
            "grid_column": null,
            "grid_gap": null,
            "grid_row": null,
            "grid_template_areas": null,
            "grid_template_columns": null,
            "grid_template_rows": null,
            "height": null,
            "justify_content": null,
            "justify_items": null,
            "left": null,
            "margin": null,
            "max_height": null,
            "max_width": null,
            "min_height": null,
            "min_width": null,
            "object_fit": null,
            "object_position": null,
            "order": null,
            "overflow": null,
            "overflow_x": null,
            "overflow_y": null,
            "padding": null,
            "right": null,
            "top": null,
            "visibility": null,
            "width": null
          }
        },
        "5fcd6b2a24d74809926c919678190222": {
          "model_module": "@jupyter-widgets/controls",
          "model_module_version": "1.5.0",
          "model_name": "DescriptionStyleModel",
          "state": {
            "_model_module": "@jupyter-widgets/controls",
            "_model_module_version": "1.5.0",
            "_model_name": "DescriptionStyleModel",
            "_view_count": null,
            "_view_module": "@jupyter-widgets/base",
            "_view_module_version": "1.2.0",
            "_view_name": "StyleView",
            "description_width": ""
          }
        },
        "691ad9e6a5cc4665a6ee440a1fe67f72": {
          "model_module": "@jupyter-widgets/controls",
          "model_module_version": "1.5.0",
          "model_name": "FloatProgressModel",
          "state": {
            "_dom_classes": [],
            "_model_module": "@jupyter-widgets/controls",
            "_model_module_version": "1.5.0",
            "_model_name": "FloatProgressModel",
            "_view_count": null,
            "_view_module": "@jupyter-widgets/controls",
            "_view_module_version": "1.5.0",
            "_view_name": "ProgressView",
            "bar_style": "success",
            "description": "",
            "description_tooltip": null,
            "layout": "IPY_MODEL_5e3617e3ba2c4d4aba73f93890dcacd5",
            "max": 440473133,
            "min": 0,
            "orientation": "horizontal",
            "style": "IPY_MODEL_0a0bfd6a5ea14a87bc427347d7e9dc2b",
            "value": 440473133
          }
        },
        "6aa70a88ea2145198cba9f093a447a5d": {
          "model_module": "@jupyter-widgets/base",
          "model_module_version": "1.2.0",
          "model_name": "LayoutModel",
          "state": {
            "_model_module": "@jupyter-widgets/base",
            "_model_module_version": "1.2.0",
            "_model_name": "LayoutModel",
            "_view_count": null,
            "_view_module": "@jupyter-widgets/base",
            "_view_module_version": "1.2.0",
            "_view_name": "LayoutView",
            "align_content": null,
            "align_items": null,
            "align_self": null,
            "border": null,
            "bottom": null,
            "display": null,
            "flex": null,
            "flex_flow": null,
            "grid_area": null,
            "grid_auto_columns": null,
            "grid_auto_flow": null,
            "grid_auto_rows": null,
            "grid_column": null,
            "grid_gap": null,
            "grid_row": null,
            "grid_template_areas": null,
            "grid_template_columns": null,
            "grid_template_rows": null,
            "height": null,
            "justify_content": null,
            "justify_items": null,
            "left": null,
            "margin": null,
            "max_height": null,
            "max_width": null,
            "min_height": null,
            "min_width": null,
            "object_fit": null,
            "object_position": null,
            "order": null,
            "overflow": null,
            "overflow_x": null,
            "overflow_y": null,
            "padding": null,
            "right": null,
            "top": null,
            "visibility": null,
            "width": null
          }
        },
        "705a97558cdf47e7875bba99251423a1": {
          "model_module": "@jupyter-widgets/controls",
          "model_module_version": "1.5.0",
          "model_name": "HTMLModel",
          "state": {
            "_dom_classes": [],
            "_model_module": "@jupyter-widgets/controls",
            "_model_module_version": "1.5.0",
            "_model_name": "HTMLModel",
            "_view_count": null,
            "_view_module": "@jupyter-widgets/controls",
            "_view_module_version": "1.5.0",
            "_view_name": "HTMLView",
            "description": "",
            "description_tooltip": null,
            "layout": "IPY_MODEL_f0969b98a5b649fbb3e268a78378441e",
            "placeholder": "​",
            "style": "IPY_MODEL_c2e4a4c55569470a8cdc21ffebaa82af",
            "value": "Downloading pytorch_model.bin: 100%"
          }
        },
        "7e22fa5a247a4c00b673614055eb23b2": {
          "model_module": "@jupyter-widgets/base",
          "model_module_version": "1.2.0",
          "model_name": "LayoutModel",
          "state": {
            "_model_module": "@jupyter-widgets/base",
            "_model_module_version": "1.2.0",
            "_model_name": "LayoutModel",
            "_view_count": null,
            "_view_module": "@jupyter-widgets/base",
            "_view_module_version": "1.2.0",
            "_view_name": "LayoutView",
            "align_content": null,
            "align_items": null,
            "align_self": null,
            "border": null,
            "bottom": null,
            "display": null,
            "flex": null,
            "flex_flow": null,
            "grid_area": null,
            "grid_auto_columns": null,
            "grid_auto_flow": null,
            "grid_auto_rows": null,
            "grid_column": null,
            "grid_gap": null,
            "grid_row": null,
            "grid_template_areas": null,
            "grid_template_columns": null,
            "grid_template_rows": null,
            "height": null,
            "justify_content": null,
            "justify_items": null,
            "left": null,
            "margin": null,
            "max_height": null,
            "max_width": null,
            "min_height": null,
            "min_width": null,
            "object_fit": null,
            "object_position": null,
            "order": null,
            "overflow": null,
            "overflow_x": null,
            "overflow_y": null,
            "padding": null,
            "right": null,
            "top": null,
            "visibility": null,
            "width": null
          }
        },
        "8227893006074b85acbdcf5cb510a038": {
          "model_module": "@jupyter-widgets/controls",
          "model_module_version": "1.5.0",
          "model_name": "FloatProgressModel",
          "state": {
            "_dom_classes": [],
            "_model_module": "@jupyter-widgets/controls",
            "_model_module_version": "1.5.0",
            "_model_name": "FloatProgressModel",
            "_view_count": null,
            "_view_module": "@jupyter-widgets/controls",
            "_view_module_version": "1.5.0",
            "_view_name": "ProgressView",
            "bar_style": "success",
            "description": "",
            "description_tooltip": null,
            "layout": "IPY_MODEL_ddb1117287584027af903e5fe943fd5e",
            "max": 570,
            "min": 0,
            "orientation": "horizontal",
            "style": "IPY_MODEL_32fbc0b643954595995827487d27773e",
            "value": 570
          }
        },
        "95ae25a07a0540aaafec90c3272e157b": {
          "model_module": "@jupyter-widgets/base",
          "model_module_version": "1.2.0",
          "model_name": "LayoutModel",
          "state": {
            "_model_module": "@jupyter-widgets/base",
            "_model_module_version": "1.2.0",
            "_model_name": "LayoutModel",
            "_view_count": null,
            "_view_module": "@jupyter-widgets/base",
            "_view_module_version": "1.2.0",
            "_view_name": "LayoutView",
            "align_content": null,
            "align_items": null,
            "align_self": null,
            "border": null,
            "bottom": null,
            "display": null,
            "flex": null,
            "flex_flow": null,
            "grid_area": null,
            "grid_auto_columns": null,
            "grid_auto_flow": null,
            "grid_auto_rows": null,
            "grid_column": null,
            "grid_gap": null,
            "grid_row": null,
            "grid_template_areas": null,
            "grid_template_columns": null,
            "grid_template_rows": null,
            "height": null,
            "justify_content": null,
            "justify_items": null,
            "left": null,
            "margin": null,
            "max_height": null,
            "max_width": null,
            "min_height": null,
            "min_width": null,
            "object_fit": null,
            "object_position": null,
            "order": null,
            "overflow": null,
            "overflow_x": null,
            "overflow_y": null,
            "padding": null,
            "right": null,
            "top": null,
            "visibility": null,
            "width": null
          }
        },
        "97df3e7720194c748eff0460ca441358": {
          "model_module": "@jupyter-widgets/controls",
          "model_module_version": "1.5.0",
          "model_name": "HTMLModel",
          "state": {
            "_dom_classes": [],
            "_model_module": "@jupyter-widgets/controls",
            "_model_module_version": "1.5.0",
            "_model_name": "HTMLModel",
            "_view_count": null,
            "_view_module": "@jupyter-widgets/controls",
            "_view_module_version": "1.5.0",
            "_view_name": "HTMLView",
            "description": "",
            "description_tooltip": null,
            "layout": "IPY_MODEL_d31033dcd6524c80ab4292eca97d5c8d",
            "placeholder": "​",
            "style": "IPY_MODEL_090a10298fac49228411498460a7f316",
            "value": " 440M/440M [00:02&lt;00:00, 219MB/s]"
          }
        },
        "9eb86b79f20f42638ec08206c3573ec6": {
          "model_module": "@jupyter-widgets/controls",
          "model_module_version": "1.5.0",
          "model_name": "HTMLModel",
          "state": {
            "_dom_classes": [],
            "_model_module": "@jupyter-widgets/controls",
            "_model_module_version": "1.5.0",
            "_model_name": "HTMLModel",
            "_view_count": null,
            "_view_module": "@jupyter-widgets/controls",
            "_view_module_version": "1.5.0",
            "_view_name": "HTMLView",
            "description": "",
            "description_tooltip": null,
            "layout": "IPY_MODEL_c8ca68b3593243e181e2951ec65afaa3",
            "placeholder": "​",
            "style": "IPY_MODEL_4e379024bc1e45e5804e4526e451ae26",
            "value": "Downloading (…)solve/main/vocab.txt: 100%"
          }
        },
        "a1bd2e3b9d994b4fba7d14a4031a23e6": {
          "model_module": "@jupyter-widgets/controls",
          "model_module_version": "1.5.0",
          "model_name": "FloatProgressModel",
          "state": {
            "_dom_classes": [],
            "_model_module": "@jupyter-widgets/controls",
            "_model_module_version": "1.5.0",
            "_model_name": "FloatProgressModel",
            "_view_count": null,
            "_view_module": "@jupyter-widgets/controls",
            "_view_module_version": "1.5.0",
            "_view_name": "ProgressView",
            "bar_style": "success",
            "description": "",
            "description_tooltip": null,
            "layout": "IPY_MODEL_7e22fa5a247a4c00b673614055eb23b2",
            "max": 231508,
            "min": 0,
            "orientation": "horizontal",
            "style": "IPY_MODEL_abbf4e2bd4d2429da50ecfd67113f444",
            "value": 231508
          }
        },
        "a3626844ce4445a6823da704e3e9eea9": {
          "model_module": "@jupyter-widgets/controls",
          "model_module_version": "1.5.0",
          "model_name": "HTMLModel",
          "state": {
            "_dom_classes": [],
            "_model_module": "@jupyter-widgets/controls",
            "_model_module_version": "1.5.0",
            "_model_name": "HTMLModel",
            "_view_count": null,
            "_view_module": "@jupyter-widgets/controls",
            "_view_module_version": "1.5.0",
            "_view_name": "HTMLView",
            "description": "",
            "description_tooltip": null,
            "layout": "IPY_MODEL_e5b267402a304086a55785a2b8e09d59",
            "placeholder": "​",
            "style": "IPY_MODEL_0ec839c6c8ee43348af633a25da123e6",
            "value": " 570/570 [00:00&lt;00:00, 38.8kB/s]"
          }
        },
        "a4e2bd8534d240d899fafa318dae83b1": {
          "model_module": "@jupyter-widgets/controls",
          "model_module_version": "1.5.0",
          "model_name": "DescriptionStyleModel",
          "state": {
            "_model_module": "@jupyter-widgets/controls",
            "_model_module_version": "1.5.0",
            "_model_name": "DescriptionStyleModel",
            "_view_count": null,
            "_view_module": "@jupyter-widgets/base",
            "_view_module_version": "1.2.0",
            "_view_name": "StyleView",
            "description_width": ""
          }
        },
        "a5ace41a0675451b90fc7297f3a68fca": {
          "model_module": "@jupyter-widgets/base",
          "model_module_version": "1.2.0",
          "model_name": "LayoutModel",
          "state": {
            "_model_module": "@jupyter-widgets/base",
            "_model_module_version": "1.2.0",
            "_model_name": "LayoutModel",
            "_view_count": null,
            "_view_module": "@jupyter-widgets/base",
            "_view_module_version": "1.2.0",
            "_view_name": "LayoutView",
            "align_content": null,
            "align_items": null,
            "align_self": null,
            "border": null,
            "bottom": null,
            "display": null,
            "flex": null,
            "flex_flow": null,
            "grid_area": null,
            "grid_auto_columns": null,
            "grid_auto_flow": null,
            "grid_auto_rows": null,
            "grid_column": null,
            "grid_gap": null,
            "grid_row": null,
            "grid_template_areas": null,
            "grid_template_columns": null,
            "grid_template_rows": null,
            "height": null,
            "justify_content": null,
            "justify_items": null,
            "left": null,
            "margin": null,
            "max_height": null,
            "max_width": null,
            "min_height": null,
            "min_width": null,
            "object_fit": null,
            "object_position": null,
            "order": null,
            "overflow": null,
            "overflow_x": null,
            "overflow_y": null,
            "padding": null,
            "right": null,
            "top": null,
            "visibility": null,
            "width": null
          }
        },
        "abbf4e2bd4d2429da50ecfd67113f444": {
          "model_module": "@jupyter-widgets/controls",
          "model_module_version": "1.5.0",
          "model_name": "ProgressStyleModel",
          "state": {
            "_model_module": "@jupyter-widgets/controls",
            "_model_module_version": "1.5.0",
            "_model_name": "ProgressStyleModel",
            "_view_count": null,
            "_view_module": "@jupyter-widgets/base",
            "_view_module_version": "1.2.0",
            "_view_name": "StyleView",
            "bar_color": null,
            "description_width": ""
          }
        },
        "ade273b8412d42f5a1c71176c97be8f9": {
          "model_module": "@jupyter-widgets/controls",
          "model_module_version": "1.5.0",
          "model_name": "FloatProgressModel",
          "state": {
            "_dom_classes": [],
            "_model_module": "@jupyter-widgets/controls",
            "_model_module_version": "1.5.0",
            "_model_name": "FloatProgressModel",
            "_view_count": null,
            "_view_module": "@jupyter-widgets/controls",
            "_view_module_version": "1.5.0",
            "_view_name": "ProgressView",
            "bar_style": "success",
            "description": "",
            "description_tooltip": null,
            "layout": "IPY_MODEL_6aa70a88ea2145198cba9f093a447a5d",
            "max": 28,
            "min": 0,
            "orientation": "horizontal",
            "style": "IPY_MODEL_074a2df8cfc24e138fd70fc3b5b818f0",
            "value": 28
          }
        },
        "b6f89f149254453fbb8c2fe6726de32e": {
          "model_module": "@jupyter-widgets/controls",
          "model_module_version": "1.5.0",
          "model_name": "HTMLModel",
          "state": {
            "_dom_classes": [],
            "_model_module": "@jupyter-widgets/controls",
            "_model_module_version": "1.5.0",
            "_model_name": "HTMLModel",
            "_view_count": null,
            "_view_module": "@jupyter-widgets/controls",
            "_view_module_version": "1.5.0",
            "_view_name": "HTMLView",
            "description": "",
            "description_tooltip": null,
            "layout": "IPY_MODEL_03a3e8b9cd2a47039eed2f332ee0b534",
            "placeholder": "​",
            "style": "IPY_MODEL_5fcd6b2a24d74809926c919678190222",
            "value": " 232k/232k [00:00&lt;00:00, 5.82MB/s]"
          }
        },
        "baf3428ec2cd4ca7aebd8a9ab715dc9a": {
          "model_module": "@jupyter-widgets/base",
          "model_module_version": "1.2.0",
          "model_name": "LayoutModel",
          "state": {
            "_model_module": "@jupyter-widgets/base",
            "_model_module_version": "1.2.0",
            "_model_name": "LayoutModel",
            "_view_count": null,
            "_view_module": "@jupyter-widgets/base",
            "_view_module_version": "1.2.0",
            "_view_name": "LayoutView",
            "align_content": null,
            "align_items": null,
            "align_self": null,
            "border": null,
            "bottom": null,
            "display": null,
            "flex": null,
            "flex_flow": null,
            "grid_area": null,
            "grid_auto_columns": null,
            "grid_auto_flow": null,
            "grid_auto_rows": null,
            "grid_column": null,
            "grid_gap": null,
            "grid_row": null,
            "grid_template_areas": null,
            "grid_template_columns": null,
            "grid_template_rows": null,
            "height": null,
            "justify_content": null,
            "justify_items": null,
            "left": null,
            "margin": null,
            "max_height": null,
            "max_width": null,
            "min_height": null,
            "min_width": null,
            "object_fit": null,
            "object_position": null,
            "order": null,
            "overflow": null,
            "overflow_x": null,
            "overflow_y": null,
            "padding": null,
            "right": null,
            "top": null,
            "visibility": null,
            "width": null
          }
        },
        "be5b9c24bedd47d793e608e711b4a0a0": {
          "model_module": "@jupyter-widgets/base",
          "model_module_version": "1.2.0",
          "model_name": "LayoutModel",
          "state": {
            "_model_module": "@jupyter-widgets/base",
            "_model_module_version": "1.2.0",
            "_model_name": "LayoutModel",
            "_view_count": null,
            "_view_module": "@jupyter-widgets/base",
            "_view_module_version": "1.2.0",
            "_view_name": "LayoutView",
            "align_content": null,
            "align_items": null,
            "align_self": null,
            "border": null,
            "bottom": null,
            "display": null,
            "flex": null,
            "flex_flow": null,
            "grid_area": null,
            "grid_auto_columns": null,
            "grid_auto_flow": null,
            "grid_auto_rows": null,
            "grid_column": null,
            "grid_gap": null,
            "grid_row": null,
            "grid_template_areas": null,
            "grid_template_columns": null,
            "grid_template_rows": null,
            "height": null,
            "justify_content": null,
            "justify_items": null,
            "left": null,
            "margin": null,
            "max_height": null,
            "max_width": null,
            "min_height": null,
            "min_width": null,
            "object_fit": null,
            "object_position": null,
            "order": null,
            "overflow": null,
            "overflow_x": null,
            "overflow_y": null,
            "padding": null,
            "right": null,
            "top": null,
            "visibility": null,
            "width": null
          }
        },
        "c2e4a4c55569470a8cdc21ffebaa82af": {
          "model_module": "@jupyter-widgets/controls",
          "model_module_version": "1.5.0",
          "model_name": "DescriptionStyleModel",
          "state": {
            "_model_module": "@jupyter-widgets/controls",
            "_model_module_version": "1.5.0",
            "_model_name": "DescriptionStyleModel",
            "_view_count": null,
            "_view_module": "@jupyter-widgets/base",
            "_view_module_version": "1.2.0",
            "_view_name": "StyleView",
            "description_width": ""
          }
        },
        "c8ca68b3593243e181e2951ec65afaa3": {
          "model_module": "@jupyter-widgets/base",
          "model_module_version": "1.2.0",
          "model_name": "LayoutModel",
          "state": {
            "_model_module": "@jupyter-widgets/base",
            "_model_module_version": "1.2.0",
            "_model_name": "LayoutModel",
            "_view_count": null,
            "_view_module": "@jupyter-widgets/base",
            "_view_module_version": "1.2.0",
            "_view_name": "LayoutView",
            "align_content": null,
            "align_items": null,
            "align_self": null,
            "border": null,
            "bottom": null,
            "display": null,
            "flex": null,
            "flex_flow": null,
            "grid_area": null,
            "grid_auto_columns": null,
            "grid_auto_flow": null,
            "grid_auto_rows": null,
            "grid_column": null,
            "grid_gap": null,
            "grid_row": null,
            "grid_template_areas": null,
            "grid_template_columns": null,
            "grid_template_rows": null,
            "height": null,
            "justify_content": null,
            "justify_items": null,
            "left": null,
            "margin": null,
            "max_height": null,
            "max_width": null,
            "min_height": null,
            "min_width": null,
            "object_fit": null,
            "object_position": null,
            "order": null,
            "overflow": null,
            "overflow_x": null,
            "overflow_y": null,
            "padding": null,
            "right": null,
            "top": null,
            "visibility": null,
            "width": null
          }
        },
        "cc26b6ffd8744410808a0207613154b3": {
          "model_module": "@jupyter-widgets/controls",
          "model_module_version": "1.5.0",
          "model_name": "HTMLModel",
          "state": {
            "_dom_classes": [],
            "_model_module": "@jupyter-widgets/controls",
            "_model_module_version": "1.5.0",
            "_model_name": "HTMLModel",
            "_view_count": null,
            "_view_module": "@jupyter-widgets/controls",
            "_view_module_version": "1.5.0",
            "_view_name": "HTMLView",
            "description": "",
            "description_tooltip": null,
            "layout": "IPY_MODEL_4215e6b5c8b54240bf3f889a49d9e1c8",
            "placeholder": "​",
            "style": "IPY_MODEL_a4e2bd8534d240d899fafa318dae83b1",
            "value": "Downloading (…)lve/main/config.json: 100%"
          }
        },
        "d2ca3385e90d47b39de33b68fd06f5f0": {
          "model_module": "@jupyter-widgets/controls",
          "model_module_version": "1.5.0",
          "model_name": "HBoxModel",
          "state": {
            "_dom_classes": [],
            "_model_module": "@jupyter-widgets/controls",
            "_model_module_version": "1.5.0",
            "_model_name": "HBoxModel",
            "_view_count": null,
            "_view_module": "@jupyter-widgets/controls",
            "_view_module_version": "1.5.0",
            "_view_name": "HBoxView",
            "box_style": "",
            "children": [
              "IPY_MODEL_19c57b0a2eb54dcc96f041433b007582",
              "IPY_MODEL_ade273b8412d42f5a1c71176c97be8f9",
              "IPY_MODEL_564e2027d4354d4d82c8f8dcafd9f653"
            ],
            "layout": "IPY_MODEL_95ae25a07a0540aaafec90c3272e157b"
          }
        },
        "d31033dcd6524c80ab4292eca97d5c8d": {
          "model_module": "@jupyter-widgets/base",
          "model_module_version": "1.2.0",
          "model_name": "LayoutModel",
          "state": {
            "_model_module": "@jupyter-widgets/base",
            "_model_module_version": "1.2.0",
            "_model_name": "LayoutModel",
            "_view_count": null,
            "_view_module": "@jupyter-widgets/base",
            "_view_module_version": "1.2.0",
            "_view_name": "LayoutView",
            "align_content": null,
            "align_items": null,
            "align_self": null,
            "border": null,
            "bottom": null,
            "display": null,
            "flex": null,
            "flex_flow": null,
            "grid_area": null,
            "grid_auto_columns": null,
            "grid_auto_flow": null,
            "grid_auto_rows": null,
            "grid_column": null,
            "grid_gap": null,
            "grid_row": null,
            "grid_template_areas": null,
            "grid_template_columns": null,
            "grid_template_rows": null,
            "height": null,
            "justify_content": null,
            "justify_items": null,
            "left": null,
            "margin": null,
            "max_height": null,
            "max_width": null,
            "min_height": null,
            "min_width": null,
            "object_fit": null,
            "object_position": null,
            "order": null,
            "overflow": null,
            "overflow_x": null,
            "overflow_y": null,
            "padding": null,
            "right": null,
            "top": null,
            "visibility": null,
            "width": null
          }
        },
        "ddb1117287584027af903e5fe943fd5e": {
          "model_module": "@jupyter-widgets/base",
          "model_module_version": "1.2.0",
          "model_name": "LayoutModel",
          "state": {
            "_model_module": "@jupyter-widgets/base",
            "_model_module_version": "1.2.0",
            "_model_name": "LayoutModel",
            "_view_count": null,
            "_view_module": "@jupyter-widgets/base",
            "_view_module_version": "1.2.0",
            "_view_name": "LayoutView",
            "align_content": null,
            "align_items": null,
            "align_self": null,
            "border": null,
            "bottom": null,
            "display": null,
            "flex": null,
            "flex_flow": null,
            "grid_area": null,
            "grid_auto_columns": null,
            "grid_auto_flow": null,
            "grid_auto_rows": null,
            "grid_column": null,
            "grid_gap": null,
            "grid_row": null,
            "grid_template_areas": null,
            "grid_template_columns": null,
            "grid_template_rows": null,
            "height": null,
            "justify_content": null,
            "justify_items": null,
            "left": null,
            "margin": null,
            "max_height": null,
            "max_width": null,
            "min_height": null,
            "min_width": null,
            "object_fit": null,
            "object_position": null,
            "order": null,
            "overflow": null,
            "overflow_x": null,
            "overflow_y": null,
            "padding": null,
            "right": null,
            "top": null,
            "visibility": null,
            "width": null
          }
        },
        "e2fdadb7b2bf48d4885b144d8a5249d4": {
          "model_module": "@jupyter-widgets/base",
          "model_module_version": "1.2.0",
          "model_name": "LayoutModel",
          "state": {
            "_model_module": "@jupyter-widgets/base",
            "_model_module_version": "1.2.0",
            "_model_name": "LayoutModel",
            "_view_count": null,
            "_view_module": "@jupyter-widgets/base",
            "_view_module_version": "1.2.0",
            "_view_name": "LayoutView",
            "align_content": null,
            "align_items": null,
            "align_self": null,
            "border": null,
            "bottom": null,
            "display": null,
            "flex": null,
            "flex_flow": null,
            "grid_area": null,
            "grid_auto_columns": null,
            "grid_auto_flow": null,
            "grid_auto_rows": null,
            "grid_column": null,
            "grid_gap": null,
            "grid_row": null,
            "grid_template_areas": null,
            "grid_template_columns": null,
            "grid_template_rows": null,
            "height": null,
            "justify_content": null,
            "justify_items": null,
            "left": null,
            "margin": null,
            "max_height": null,
            "max_width": null,
            "min_height": null,
            "min_width": null,
            "object_fit": null,
            "object_position": null,
            "order": null,
            "overflow": null,
            "overflow_x": null,
            "overflow_y": null,
            "padding": null,
            "right": null,
            "top": null,
            "visibility": null,
            "width": null
          }
        },
        "e5b267402a304086a55785a2b8e09d59": {
          "model_module": "@jupyter-widgets/base",
          "model_module_version": "1.2.0",
          "model_name": "LayoutModel",
          "state": {
            "_model_module": "@jupyter-widgets/base",
            "_model_module_version": "1.2.0",
            "_model_name": "LayoutModel",
            "_view_count": null,
            "_view_module": "@jupyter-widgets/base",
            "_view_module_version": "1.2.0",
            "_view_name": "LayoutView",
            "align_content": null,
            "align_items": null,
            "align_self": null,
            "border": null,
            "bottom": null,
            "display": null,
            "flex": null,
            "flex_flow": null,
            "grid_area": null,
            "grid_auto_columns": null,
            "grid_auto_flow": null,
            "grid_auto_rows": null,
            "grid_column": null,
            "grid_gap": null,
            "grid_row": null,
            "grid_template_areas": null,
            "grid_template_columns": null,
            "grid_template_rows": null,
            "height": null,
            "justify_content": null,
            "justify_items": null,
            "left": null,
            "margin": null,
            "max_height": null,
            "max_width": null,
            "min_height": null,
            "min_width": null,
            "object_fit": null,
            "object_position": null,
            "order": null,
            "overflow": null,
            "overflow_x": null,
            "overflow_y": null,
            "padding": null,
            "right": null,
            "top": null,
            "visibility": null,
            "width": null
          }
        },
        "efa2fa1d3fc54152a1a488f40e347dbb": {
          "model_module": "@jupyter-widgets/controls",
          "model_module_version": "1.5.0",
          "model_name": "HBoxModel",
          "state": {
            "_dom_classes": [],
            "_model_module": "@jupyter-widgets/controls",
            "_model_module_version": "1.5.0",
            "_model_name": "HBoxModel",
            "_view_count": null,
            "_view_module": "@jupyter-widgets/controls",
            "_view_module_version": "1.5.0",
            "_view_name": "HBoxView",
            "box_style": "",
            "children": [
              "IPY_MODEL_cc26b6ffd8744410808a0207613154b3",
              "IPY_MODEL_8227893006074b85acbdcf5cb510a038",
              "IPY_MODEL_a3626844ce4445a6823da704e3e9eea9"
            ],
            "layout": "IPY_MODEL_baf3428ec2cd4ca7aebd8a9ab715dc9a"
          }
        },
        "f0969b98a5b649fbb3e268a78378441e": {
          "model_module": "@jupyter-widgets/base",
          "model_module_version": "1.2.0",
          "model_name": "LayoutModel",
          "state": {
            "_model_module": "@jupyter-widgets/base",
            "_model_module_version": "1.2.0",
            "_model_name": "LayoutModel",
            "_view_count": null,
            "_view_module": "@jupyter-widgets/base",
            "_view_module_version": "1.2.0",
            "_view_name": "LayoutView",
            "align_content": null,
            "align_items": null,
            "align_self": null,
            "border": null,
            "bottom": null,
            "display": null,
            "flex": null,
            "flex_flow": null,
            "grid_area": null,
            "grid_auto_columns": null,
            "grid_auto_flow": null,
            "grid_auto_rows": null,
            "grid_column": null,
            "grid_gap": null,
            "grid_row": null,
            "grid_template_areas": null,
            "grid_template_columns": null,
            "grid_template_rows": null,
            "height": null,
            "justify_content": null,
            "justify_items": null,
            "left": null,
            "margin": null,
            "max_height": null,
            "max_width": null,
            "min_height": null,
            "min_width": null,
            "object_fit": null,
            "object_position": null,
            "order": null,
            "overflow": null,
            "overflow_x": null,
            "overflow_y": null,
            "padding": null,
            "right": null,
            "top": null,
            "visibility": null,
            "width": null
          }
        }
      }
    }
  },
  "nbformat": 4,
  "nbformat_minor": 0
}
