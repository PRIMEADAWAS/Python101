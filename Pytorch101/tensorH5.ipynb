{
 "cells": [
  {
   "attachments": {},
   "cell_type": "markdown",
   "metadata": {},
   "source": [
    "## Bert"
   ]
  },
  {
   "cell_type": "code",
   "execution_count": 108,
   "metadata": {},
   "outputs": [],
   "source": [
    "import numpy as np\n",
    "import pandas as pd\n",
    "import seaborn as sns\n",
    "import matplotlib.pyplot as plt\n",
    "from sklearn.preprocessing import LabelEncoder\n",
    "import transformers\n",
    "import torch\n",
    "import logging\n",
    "logging.basicConfig(level=logging.INFO)\n",
    "from transformers import BertTokenizer, BertForSequenceClassification, BertModel"
   ]
  },
  {
   "cell_type": "code",
   "execution_count": 109,
   "metadata": {},
   "outputs": [
    {
     "name": "stdout",
     "output_type": "stream",
     "text": [
      "Tue May 23 22:52:45 2023       \n",
      "+---------------------------------------------------------------------------------------+\n",
      "| NVIDIA-SMI 531.14                 Driver Version: 531.14       CUDA Version: 12.1     |\n",
      "|-----------------------------------------+----------------------+----------------------+\n",
      "| GPU  Name                      TCC/WDDM | Bus-Id        Disp.A | Volatile Uncorr. ECC |\n",
      "| Fan  Temp  Perf            Pwr:Usage/Cap|         Memory-Usage | GPU-Util  Compute M. |\n",
      "|                                         |                      |               MIG M. |\n",
      "|=========================================+======================+======================|\n",
      "|   0  NVIDIA GeForce GTX 1650       WDDM | 00000000:01:00.0  On |                  N/A |\n",
      "| N/A   50C    P5                6W /  N/A|    774MiB /  4096MiB |     40%      Default |\n",
      "|                                         |                      |                  N/A |\n",
      "+-----------------------------------------+----------------------+----------------------+\n",
      "                                                                                         \n",
      "+---------------------------------------------------------------------------------------+\n",
      "| Processes:                                                                            |\n",
      "|  GPU   GI   CI        PID   Type   Process name                            GPU Memory |\n",
      "|        ID   ID                                                             Usage      |\n",
      "|=======================================================================================|\n",
      "|    0   N/A  N/A      9876    C+G   ...Programs\\Microsoft VS Code\\Code.exe    N/A      |\n",
      "|    0   N/A  N/A      9992    C+G   C:\\Windows\\explorer.exe                   N/A      |\n",
      "|    0   N/A  N/A     11272    C+G   ...2txyewy\\StartMenuExperienceHost.exe    N/A      |\n",
      "|    0   N/A  N/A     11720    C+G   ....Search_cw5n1h2txyewy\\SearchApp.exe    N/A      |\n",
      "|    0   N/A  N/A     11904    C+G   ...t.LockApp_cw5n1h2txyewy\\LockApp.exe    N/A      |\n",
      "|    0   N/A  N/A     13244    C+G   ...CBS_cw5n1h2txyewy\\TextInputHost.exe    N/A      |\n",
      "|    0   N/A  N/A     14728    C+G   ...oogle\\Chrome\\Application\\chrome.exe    N/A      |\n",
      "|    0   N/A  N/A     17444    C+G   ...gin\\LineCall\\1.0.0.663\\LineCall.exe    N/A      |\n",
      "|    0   N/A  N/A     17620    C+G   ...ata\\Local\\LINE\\bin\\current\\LINE.exe    N/A      |\n",
      "|    0   N/A  N/A     19060    C+G   ...5n1h2txyewy\\ShellExperienceHost.exe    N/A      |\n",
      "|    0   N/A  N/A     19844    C+G   C:\\Windows\\System32\\svchost.exe           N/A      |\n",
      "|    0   N/A  N/A     21400    C+G   ....Search_cw5n1h2txyewy\\SearchApp.exe    N/A      |\n",
      "+---------------------------------------------------------------------------------------+\n"
     ]
    }
   ],
   "source": [
    "!nvidia-smi"
   ]
  },
  {
   "cell_type": "code",
   "execution_count": 110,
   "metadata": {},
   "outputs": [
    {
     "name": "stdout",
     "output_type": "stream",
     "text": [
      "There are 1 GPU(s) available.\n",
      "We will use the GPU: NVIDIA GeForce GTX 1650\n"
     ]
    }
   ],
   "source": [
    "# =============================================================================\n",
    "# ## check GPU\n",
    "# =============================================================================\n",
    "if torch.cuda.is_available():    \n",
    "    # Tell PyTorch to use the GPU.    \n",
    "    device = torch.device(\"cuda\")\n",
    "    print('There are %d GPU(s) available.' % torch.cuda.device_count())\n",
    "    print('We will use the GPU:', torch.cuda.get_device_name(0))\n",
    "# If not...\n",
    "else:\n",
    "    print('No GPU available, using the CPU instead.')\n",
    "    device = torch.device(\"cpu\")"
   ]
  },
  {
   "attachments": {},
   "cell_type": "markdown",
   "metadata": {},
   "source": [
    "# Import data"
   ]
  },
  {
   "cell_type": "code",
   "execution_count": 111,
   "metadata": {},
   "outputs": [],
   "source": [
    "url = r'mtsamples.csv'"
   ]
  },
  {
   "cell_type": "code",
   "execution_count": 112,
   "metadata": {},
   "outputs": [
    {
     "data": {
      "text/html": [
       "<div>\n",
       "<style scoped>\n",
       "    .dataframe tbody tr th:only-of-type {\n",
       "        vertical-align: middle;\n",
       "    }\n",
       "\n",
       "    .dataframe tbody tr th {\n",
       "        vertical-align: top;\n",
       "    }\n",
       "\n",
       "    .dataframe thead th {\n",
       "        text-align: right;\n",
       "    }\n",
       "</style>\n",
       "<table border=\"1\" class=\"dataframe\">\n",
       "  <thead>\n",
       "    <tr style=\"text-align: right;\">\n",
       "      <th></th>\n",
       "      <th>description</th>\n",
       "      <th>medical_specialty</th>\n",
       "      <th>sample_name</th>\n",
       "      <th>transcription</th>\n",
       "      <th>keywords</th>\n",
       "    </tr>\n",
       "  </thead>\n",
       "  <tbody>\n",
       "    <tr>\n",
       "      <th>2284</th>\n",
       "      <td>Right carpal tunnel release and right index a...</td>\n",
       "      <td>Orthopedic</td>\n",
       "      <td>Carpal Tunnel Release - 8</td>\n",
       "      <td>PREOPERATIVE DIAGNOSES:,1.  Right carpal tunne...</td>\n",
       "      <td>orthopedic, compressed median nerve, stenosing...</td>\n",
       "    </tr>\n",
       "    <tr>\n",
       "      <th>4445</th>\n",
       "      <td>Patient reports a rotational sensation upon a...</td>\n",
       "      <td>Consult - History and Phy.</td>\n",
       "      <td>Dizziness - Recurrent</td>\n",
       "      <td>CHIEF COMPLAINT:,  Recurrent dizziness x1 mont...</td>\n",
       "      <td>NaN</td>\n",
       "    </tr>\n",
       "    <tr>\n",
       "      <th>3002</th>\n",
       "      <td>Left partial nephrectomy due to left renal mass.</td>\n",
       "      <td>Nephrology</td>\n",
       "      <td>Nephrectomy - Partial</td>\n",
       "      <td>PREOPERATIVE DIAGNOSIS:,  Left renal mass, 5 c...</td>\n",
       "      <td>nephrology, renal mass, bovie, finochietto ret...</td>\n",
       "    </tr>\n",
       "    <tr>\n",
       "      <th>3117</th>\n",
       "      <td>The patient is a 67-year-old white female wit...</td>\n",
       "      <td>Hematology - Oncology</td>\n",
       "      <td>Uterine Papillary Serous Carcinoma</td>\n",
       "      <td>HISTORY OF PRESENT ILLNESS:,  The patient is a...</td>\n",
       "      <td>hematology - oncology, chemotherapy, uterine p...</td>\n",
       "    </tr>\n",
       "    <tr>\n",
       "      <th>1980</th>\n",
       "      <td>She is a 14-year-old Hispanic female with his...</td>\n",
       "      <td>Pain Management</td>\n",
       "      <td>Knee Injection - 2</td>\n",
       "      <td>INDICATIONS FOR PROCEDURE: , The patient was h...</td>\n",
       "      <td>pain management, arthralgias, aristospan, pauc...</td>\n",
       "    </tr>\n",
       "  </tbody>\n",
       "</table>\n",
       "</div>"
      ],
      "text/plain": [
       "                                            description   \n",
       "2284   Right carpal tunnel release and right index a...  \\\n",
       "4445   Patient reports a rotational sensation upon a...   \n",
       "3002   Left partial nephrectomy due to left renal mass.   \n",
       "3117   The patient is a 67-year-old white female wit...   \n",
       "1980   She is a 14-year-old Hispanic female with his...   \n",
       "\n",
       "                medical_specialty                           sample_name   \n",
       "2284                   Orthopedic            Carpal Tunnel Release - 8   \\\n",
       "4445   Consult - History and Phy.                Dizziness - Recurrent    \n",
       "3002                   Nephrology                Nephrectomy - Partial    \n",
       "3117        Hematology - Oncology   Uterine Papillary Serous Carcinoma    \n",
       "1980              Pain Management                   Knee Injection - 2    \n",
       "\n",
       "                                          transcription   \n",
       "2284  PREOPERATIVE DIAGNOSES:,1.  Right carpal tunne...  \\\n",
       "4445  CHIEF COMPLAINT:,  Recurrent dizziness x1 mont...   \n",
       "3002  PREOPERATIVE DIAGNOSIS:,  Left renal mass, 5 c...   \n",
       "3117  HISTORY OF PRESENT ILLNESS:,  The patient is a...   \n",
       "1980  INDICATIONS FOR PROCEDURE: , The patient was h...   \n",
       "\n",
       "                                               keywords  \n",
       "2284  orthopedic, compressed median nerve, stenosing...  \n",
       "4445                                                NaN  \n",
       "3002  nephrology, renal mass, bovie, finochietto ret...  \n",
       "3117  hematology - oncology, chemotherapy, uterine p...  \n",
       "1980  pain management, arthralgias, aristospan, pauc...  "
      ]
     },
     "execution_count": 112,
     "metadata": {},
     "output_type": "execute_result"
    }
   ],
   "source": [
    "df = pd.read_csv(url)\n",
    "df.sample(5)"
   ]
  },
  {
   "cell_type": "code",
   "execution_count": 113,
   "metadata": {},
   "outputs": [
    {
     "data": {
      "text/html": [
       "<div>\n",
       "<style scoped>\n",
       "    .dataframe tbody tr th:only-of-type {\n",
       "        vertical-align: middle;\n",
       "    }\n",
       "\n",
       "    .dataframe tbody tr th {\n",
       "        vertical-align: top;\n",
       "    }\n",
       "\n",
       "    .dataframe thead th {\n",
       "        text-align: right;\n",
       "    }\n",
       "</style>\n",
       "<table border=\"1\" class=\"dataframe\">\n",
       "  <thead>\n",
       "    <tr style=\"text-align: right;\">\n",
       "      <th></th>\n",
       "      <th>transcription</th>\n",
       "      <th>medical_specialty</th>\n",
       "      <th>label</th>\n",
       "    </tr>\n",
       "  </thead>\n",
       "  <tbody>\n",
       "    <tr>\n",
       "      <th>0</th>\n",
       "      <td>SUBJECTIVE:,  This 23-year-old white female pr...</td>\n",
       "      <td>Allergy / Immunology</td>\n",
       "      <td>0</td>\n",
       "    </tr>\n",
       "    <tr>\n",
       "      <th>1</th>\n",
       "      <td>PAST MEDICAL HISTORY:, He has difficulty climb...</td>\n",
       "      <td>Bariatrics</td>\n",
       "      <td>2</td>\n",
       "    </tr>\n",
       "    <tr>\n",
       "      <th>2</th>\n",
       "      <td>HISTORY OF PRESENT ILLNESS: , I have seen ABC ...</td>\n",
       "      <td>Bariatrics</td>\n",
       "      <td>2</td>\n",
       "    </tr>\n",
       "    <tr>\n",
       "      <th>3</th>\n",
       "      <td>2-D M-MODE: , ,1.  Left atrial enlargement wit...</td>\n",
       "      <td>Cardiovascular / Pulmonary</td>\n",
       "      <td>3</td>\n",
       "    </tr>\n",
       "    <tr>\n",
       "      <th>4</th>\n",
       "      <td>1.  The left ventricular cavity size and wall ...</td>\n",
       "      <td>Cardiovascular / Pulmonary</td>\n",
       "      <td>3</td>\n",
       "    </tr>\n",
       "    <tr>\n",
       "      <th>...</th>\n",
       "      <td>...</td>\n",
       "      <td>...</td>\n",
       "      <td>...</td>\n",
       "    </tr>\n",
       "    <tr>\n",
       "      <th>4994</th>\n",
       "      <td>HISTORY:,  I had the pleasure of meeting and e...</td>\n",
       "      <td>Allergy / Immunology</td>\n",
       "      <td>0</td>\n",
       "    </tr>\n",
       "    <tr>\n",
       "      <th>4995</th>\n",
       "      <td>ADMITTING DIAGNOSIS: , Kawasaki disease.,DISCH...</td>\n",
       "      <td>Allergy / Immunology</td>\n",
       "      <td>0</td>\n",
       "    </tr>\n",
       "    <tr>\n",
       "      <th>4996</th>\n",
       "      <td>SUBJECTIVE: , This is a 42-year-old white fema...</td>\n",
       "      <td>Allergy / Immunology</td>\n",
       "      <td>0</td>\n",
       "    </tr>\n",
       "    <tr>\n",
       "      <th>4997</th>\n",
       "      <td>CHIEF COMPLAINT: , This 5-year-old male presen...</td>\n",
       "      <td>Allergy / Immunology</td>\n",
       "      <td>0</td>\n",
       "    </tr>\n",
       "    <tr>\n",
       "      <th>4998</th>\n",
       "      <td>HISTORY: , A 34-year-old male presents today s...</td>\n",
       "      <td>Allergy / Immunology</td>\n",
       "      <td>0</td>\n",
       "    </tr>\n",
       "  </tbody>\n",
       "</table>\n",
       "<p>4999 rows × 3 columns</p>\n",
       "</div>"
      ],
      "text/plain": [
       "                                          transcription   \n",
       "0     SUBJECTIVE:,  This 23-year-old white female pr...  \\\n",
       "1     PAST MEDICAL HISTORY:, He has difficulty climb...   \n",
       "2     HISTORY OF PRESENT ILLNESS: , I have seen ABC ...   \n",
       "3     2-D M-MODE: , ,1.  Left atrial enlargement wit...   \n",
       "4     1.  The left ventricular cavity size and wall ...   \n",
       "...                                                 ...   \n",
       "4994  HISTORY:,  I had the pleasure of meeting and e...   \n",
       "4995  ADMITTING DIAGNOSIS: , Kawasaki disease.,DISCH...   \n",
       "4996  SUBJECTIVE: , This is a 42-year-old white fema...   \n",
       "4997  CHIEF COMPLAINT: , This 5-year-old male presen...   \n",
       "4998  HISTORY: , A 34-year-old male presents today s...   \n",
       "\n",
       "                medical_specialty  label  \n",
       "0            Allergy / Immunology      0  \n",
       "1                      Bariatrics      2  \n",
       "2                      Bariatrics      2  \n",
       "3      Cardiovascular / Pulmonary      3  \n",
       "4      Cardiovascular / Pulmonary      3  \n",
       "...                           ...    ...  \n",
       "4994         Allergy / Immunology      0  \n",
       "4995         Allergy / Immunology      0  \n",
       "4996         Allergy / Immunology      0  \n",
       "4997         Allergy / Immunology      0  \n",
       "4998         Allergy / Immunology      0  \n",
       "\n",
       "[4999 rows x 3 columns]"
      ]
     },
     "execution_count": 113,
     "metadata": {},
     "output_type": "execute_result"
    }
   ],
   "source": [
    "# use only two column transcription, medical_specialty\n",
    "df = df[['transcription', 'medical_specialty']] \n",
    "# clean medical_specialty column contain spacebar in front of text\n",
    "df['medical_specialty'].str.strip()\n",
    "# creat LabelEncoder\n",
    "from sklearn.preprocessing import LabelEncoder\n",
    "labelencoder = LabelEncoder()\n",
    "df['label'] = labelencoder.fit_transform(df['medical_specialty'])\n",
    "df"
   ]
  },
  {
   "cell_type": "code",
   "execution_count": 114,
   "metadata": {},
   "outputs": [
    {
     "data": {
      "text/html": [
       "<div>\n",
       "<style scoped>\n",
       "    .dataframe tbody tr th:only-of-type {\n",
       "        vertical-align: middle;\n",
       "    }\n",
       "\n",
       "    .dataframe tbody tr th {\n",
       "        vertical-align: top;\n",
       "    }\n",
       "\n",
       "    .dataframe thead th {\n",
       "        text-align: right;\n",
       "    }\n",
       "</style>\n",
       "<table border=\"1\" class=\"dataframe\">\n",
       "  <thead>\n",
       "    <tr style=\"text-align: right;\">\n",
       "      <th></th>\n",
       "      <th>transcription</th>\n",
       "      <th>label</th>\n",
       "    </tr>\n",
       "  </thead>\n",
       "  <tbody>\n",
       "    <tr>\n",
       "      <th>0</th>\n",
       "      <td>SUBJECTIVE:,  This 23-year-old white female pr...</td>\n",
       "      <td>0</td>\n",
       "    </tr>\n",
       "    <tr>\n",
       "      <th>4995</th>\n",
       "      <td>ADMITTING DIAGNOSIS: , Kawasaki disease.,DISCH...</td>\n",
       "      <td>0</td>\n",
       "    </tr>\n",
       "    <tr>\n",
       "      <th>4996</th>\n",
       "      <td>SUBJECTIVE: , This is a 42-year-old white fema...</td>\n",
       "      <td>0</td>\n",
       "    </tr>\n",
       "    <tr>\n",
       "      <th>4998</th>\n",
       "      <td>HISTORY: , A 34-year-old male presents today s...</td>\n",
       "      <td>0</td>\n",
       "    </tr>\n",
       "    <tr>\n",
       "      <th>4994</th>\n",
       "      <td>HISTORY:,  I had the pleasure of meeting and e...</td>\n",
       "      <td>0</td>\n",
       "    </tr>\n",
       "  </tbody>\n",
       "</table>\n",
       "</div>"
      ],
      "text/plain": [
       "                                          transcription  label\n",
       "0     SUBJECTIVE:,  This 23-year-old white female pr...      0\n",
       "4995  ADMITTING DIAGNOSIS: , Kawasaki disease.,DISCH...      0\n",
       "4996  SUBJECTIVE: , This is a 42-year-old white fema...      0\n",
       "4998  HISTORY: , A 34-year-old male presents today s...      0\n",
       "4994  HISTORY:,  I had the pleasure of meeting and e...      0"
      ]
     },
     "execution_count": 114,
     "metadata": {},
     "output_type": "execute_result"
    }
   ],
   "source": [
    "df.loc[df['label'] == 0].sample(5)[['transcription','label']]"
   ]
  },
  {
   "cell_type": "code",
   "execution_count": 115,
   "metadata": {},
   "outputs": [],
   "source": [
    "df.dropna(inplace=True)"
   ]
  },
  {
   "cell_type": "code",
   "execution_count": 116,
   "metadata": {},
   "outputs": [
    {
     "data": {
      "text/plain": [
       "(array(['SUBJECTIVE:,  This 23-year-old white female presents with complaint of allergies.  She used to have allergies when she lived in Seattle but she thinks they are worse here.  In the past, she has tried Claritin, and Zyrtec.  Both worked for short time but then seemed to lose effectiveness.  She has used Allegra also.  She used that last summer and she began using it again two weeks ago.  It does not appear to be working very well.  She has used over-the-counter sprays but no prescription nasal sprays.  She does have asthma but doest not require daily medication for this and does not think it is flaring up.,MEDICATIONS: , Her only medication currently is Ortho Tri-Cyclen and the Allegra.,ALLERGIES: , She has no known medicine allergies.,OBJECTIVE:,Vitals:  Weight was 130 pounds and blood pressure 124/78.,HEENT:  Her throat was mildly erythematous without exudate.  Nasal mucosa was erythematous and swollen.  Only clear drainage was seen.  TMs were clear.,Neck:  Supple without adenopathy.,Lungs:  Clear.,ASSESSMENT:,  Allergic rhinitis.,PLAN:,1.  She will try Zyrtec instead of Allegra again.  Another option will be to use loratadine.  She does not think she has prescription coverage so that might be cheaper.,2.  Samples of Nasonex two sprays in each nostril given for three weeks.  A prescription was written as well.',\n",
       "        'PAST MEDICAL HISTORY:, He has difficulty climbing stairs, difficulty with airline seats, tying shoes, used to public seating, and lifting objects off the floor.  He exercises three times a week at home and does cardio.  He has difficulty walking two blocks or five flights of stairs.  Difficulty with snoring.  He has muscle and joint pains including knee pain, back pain, foot and ankle pain, and swelling.  He has gastroesophageal reflux disease.,PAST SURGICAL HISTORY:, Includes reconstructive surgery on his right hand 13 years ago.  ,SOCIAL HISTORY:, He is currently single.  He has about ten drinks a year.  He had smoked significantly up until several months ago.  He now smokes less than three cigarettes a day.,FAMILY HISTORY:, Heart disease in both grandfathers, grandmother with stroke, and a grandmother with diabetes.  Denies obesity and hypertension in other family members.,CURRENT MEDICATIONS:, None.,ALLERGIES:,  He is allergic to Penicillin.,MISCELLANEOUS/EATING HISTORY:, He has been going to support groups for seven months with Lynn Holmberg in Greenwich and he is from Eastchester, New York and he feels that we are the appropriate program.  He had a poor experience with the Greenwich program.  Eating history, he is not an emotional eater.  Does not like sweets.  He likes big portions and carbohydrates.  He likes chicken and not steak.  He currently weighs 312 pounds.  Ideal body weight would be 170 pounds.  He is 142 pounds overweight.  If ,he lost 60% of his excess body weight that would be 84 pounds and he should weigh about 228.,REVIEW OF SYSTEMS: ,Negative for head, neck, heart, lungs, GI, GU, orthopedic, and skin.  Specifically denies chest pain, heart attack, coronary artery disease, congestive heart failure, arrhythmia, atrial fibrillation, pacemaker, high cholesterol, pulmonary embolism, high blood pressure, CVA, venous insufficiency, thrombophlebitis, asthma, shortness of breath, COPD, emphysema, sleep apnea, diabetes, leg and foot swelling, osteoarthritis, rheumatoid arthritis, hiatal hernia, peptic ulcer disease, gallstones, infected gallbladder, pancreatitis, fatty liver, hepatitis, hemorrhoids, rectal bleeding, polyps, incontinence of stool, urinary stress incontinence, or cancer.  Denies cellulitis, pseudotumor cerebri, meningitis, or encephalitis.,PHYSICAL EXAMINATION:, He is alert and oriented x 3.  Cranial nerves II-XII are intact.  Afebrile.  Vital Signs are stable.',\n",
       "        'HISTORY OF PRESENT ILLNESS: , I have seen ABC today.  He is a very pleasant gentleman who is 42 years old, 344 pounds.  He is 5\\'9\".  He has a BMI of 51.  He has been overweight for ten years since the age of 33, at his highest he was 358 pounds, at his lowest 260.  He is pursuing surgical attempts of weight loss to feel good, get healthy, and begin to exercise again.  He wants to be able to exercise and play volleyball.  Physically, he is sluggish.  He gets tired quickly.  He does not go out often.  When he loses weight he always regains it and he gains back more than he lost.  His biggest weight loss is 25 pounds and it was three months before he gained it back.  He did six months of not drinking alcohol and not taking in many calories.  He has been on multiple commercial weight loss programs including Slim Fast for one month one year ago and Atkin\\'s Diet for one month two years ago.,PAST MEDICAL HISTORY: , He has difficulty climbing stairs, difficulty with airline seats, tying shoes, used to public seating, difficulty walking, high cholesterol, and high blood pressure.  He has asthma and difficulty walking two blocks or going eight to ten steps.  He has sleep apnea and snoring.  He is a diabetic, on medication.  He has joint pain, knee pain, back pain, foot and ankle pain, leg and foot swelling.  He has hemorrhoids.,PAST SURGICAL HISTORY: , Includes orthopedic or knee surgery.,SOCIAL HISTORY: , He is currently single.  He drinks alcohol ten to twelve drinks a week, but does not drink five days a week and then will binge drink.  He smokes one and a half pack a day for 15 years, but he has recently stopped smoking for the past two weeks.,FAMILY HISTORY: , Obesity, heart disease, and diabetes.  Family history is negative for hypertension and stroke.,CURRENT MEDICATIONS:,  Include Diovan, Crestor, and Tricor.,MISCELLANEOUS/EATING HISTORY:  ,He says a couple of friends of his have had heart attacks and have had died.  He used to drink everyday, but stopped two years ago.  He now only drinks on weekends.  He is on his second week of Chantix, which is a medication to come off smoking completely.  Eating, he eats bad food.  He is single.  He eats things like bacon, eggs, and cheese, cheeseburgers, fast food, eats four times a day, seven in the morning, at noon, 9 p.m., and 2 a.m.  He currently weighs 344 pounds and 5\\'9\".  His ideal body weight is 160 pounds.  He is 184 pounds overweight.  If he lost 70% of his excess body weight that would be 129 pounds and that would get him down to 215.,REVIEW OF SYSTEMS: , Negative for head, neck, heart, lungs, GI, GU, orthopedic, or skin.  He also is positive for gout.  He denies chest pain, heart attack, coronary artery disease, congestive heart failure, arrhythmia, atrial fibrillation, pacemaker, pulmonary embolism, or CVA.  He denies venous insufficiency or thrombophlebitis.  Denies shortness of breath, COPD, or emphysema.  Denies thyroid problems, hip pain, osteoarthritis, rheumatoid arthritis, GERD, hiatal hernia, peptic ulcer disease, gallstones, infected gallbladder, pancreatitis, fatty liver, hepatitis, rectal bleeding, polyps, incontinence of stool, urinary stress incontinence, or cancer.  He denies cellulitis, pseudotumor cerebri, meningitis, or encephalitis.,PHYSICAL EXAMINATION:  ,He is alert and oriented x 3.  Cranial nerves II-XII are intact.  Neck is soft and supple.  Lungs:  He has positive wheezing bilaterally.  Heart is regular rhythm and rate.  His abdomen is soft.  Extremities:  He has 1+ pitting edema.,IMPRESSION/PLAN:,  I have explained to him the risks and potential complications of laparoscopic gastric bypass in detail and these include bleeding, infection, deep venous thrombosis, pulmonary embolism, leakage from the gastrojejuno-anastomosis, jejunojejuno-anastomosis, and possible bowel obstruction among other potential complications.  He understands.  He wants to proceed with workup and evaluation for laparoscopic Roux-en-Y gastric bypass.  He will need to get a letter of approval from Dr. XYZ.  He will need to see a nutritionist and mental health worker.  He will need an upper endoscopy by either Dr. XYZ.  He will need to go to Dr. XYZ as he previously had a sleep study.  We will need another sleep study.  He will need H. pylori testing, thyroid function tests, LFTs, glycosylated hemoglobin, and fasting blood sugar.  After this is performed, we will submit him for insurance approval.',\n",
       "        ...,\n",
       "        'SUBJECTIVE: , This is a 42-year-old white female who comes in today for a complete physical and follow up on asthma.  She says her asthma has been worse over the last three months.  She has been using her inhaler daily.  Her allergies seem to be a little bit worse as well.  Her husband has been hauling corn and this seems to aggravate things.  She has not been taking Allegra daily but when she does take it, it seems to help somewhat.  She has not been taking her Flonase which has helped her in the past.  She also notes that in the past she was on Advair but she got some vaginal irritation with that.,She had been noticing increasing symptoms of irritability and PMS around her menstrual cycle.  She has been more impatient around that time.  Says otherwise her mood is normal during the rest of the month.  It usually is worse the week before her cycle and improves the day her menstrual cycle starts.  Menses have been regular but somewhat shorter than in the past.  Occasionally she will get some spotting after her cycles.  She denies any hot flashes or night sweats with this.  In reviewing the chart it is noted that she did have 3+ blood with what appeared to be a urinary tract infection previously.  Her urine has not been rechecked.  She recently had lab work and cholesterol drawn for a life insurance application and is going to send me those results when available.,REVIEW OF SYSTEMS: , As above.  No fevers, no headaches, no shortness of breath currently.  No chest pain or tightness.  No abdominal pain, no heartburn, no constipation, diarrhea or dysuria.  Occasional stress incontinence.  No muscle or joint pain.  No concerns about her skin.  No polyphagia, polydipsia or polyuria.,PAST MEDICAL HISTORY: , Significant for asthma, allergic rhinitis and cervical dysplasia.,SOCIAL HISTORY: , She is married.  She is a nonsmoker.,MEDICATIONS: , Proventil and Allegra.,ALLERGIES: , Sulfa.,OBJECTIVE:,Vital signs:  Her weight is 151 pounds.  Blood pressure is 110/60.  Pulse is 72.  Temperature is 97.1 degrees.  Respirations are 20.,General:  This is a well-developed, well-nourished 42-year-old white female, alert and oriented in no acute distress.  Affect is appropriate and is pleasant.,HEENT:  Normocephalic, atraumatic.  Tympanic membranes are clear.  Conjunctivae are clear.  Pupils are equal, round and reactive to light.  Nares without turbinate edema.  Oropharynx is nonerythematous.,Neck:  Supple without lymphadenopathy, thyromegaly, carotid bruit or JVD.,Chest:  Clear to auscultation bilaterally.,Cardiovascular:  Regular rate and rhythm without murmur.,Abdomen:  Soft, nontender, nondistended.  Normoactive bowel sounds.  No masses or organomegaly to palpation.,Extremities:  Without cyanosis or edema.,Skin:  Without abnormalities.,Breasts:  Normal symmetrical breasts without dimpling or retraction.  No nipple discharge.  No masses or lesions to palpation.  No axillary masses or lymphadenopathy.,Genitourinary:  Normal external genitalia.  The walls of the vaginal vault are visualized with normal pink rugae with no lesions noted.  Cervix is visualized without lesion.  She has a moderate amount of thick white/yellow vaginal discharge in the vaginal vault.  No cervical motion tenderness.  No adnexal tenderness or fullness.,ASSESSMENT/PLAN:,1.  Asthma.  Seems to be worse than in the past.  She is just using her Proventil inhaler but is using it daily.  We will add Flovent 44 mcg two puffs p.o. b.i.d.  May need to increase the dose.  She did get some vaginal irritation with Advair in the past but she is willing to retry that if it is necessary.  May also need to consider Singulair.  She is to call me if she is not improving.  If her shortness of breath worsens she is to call me or go into the emergency department.  We will plan on following up for reevaluation in one month.,2.  Allergic rhinitis.  We will plan on restarting Allegra and Flonase daily for the time being.,3.  Premenstrual dysphoric disorder.  She may have some perimenopausal symptoms.  We will start her on fluoxetine 20 mg one tablet p.o. q.d.,4.  Hematuria.  Likely this is secondary to urinary tract infection but we will repeat a UA to document clearing.  She does have some frequent dysuria but is not having it currently.,5.  Cervical dysplasia.  Pap smear is taken.  We will notify the patient of results.  If normal we will go back to yearly Pap smear.  She is scheduled for screening mammogram and instructed on monthly self-breast exam techniques.  Recommend she get 1200 mg of calcium and 400 U of vitamin D a day.',\n",
       "        'CHIEF COMPLAINT: , This 5-year-old male presents to Children\\'s Hospital Emergency Department by the mother with \"have asthma.\"  Mother states he has been wheezing and coughing.  They saw their primary medical doctor.  He was evaluated at the clinic, given the breathing treatment and discharged home, was not having asthma, prescribed prednisone and an antibiotic.  They told to go to the ER if he got worse.  He has had some vomiting and some abdominal pain.  His peak flows on the morning are normal at 150, but in the morning, they were down to 100 and subsequently decreased to 75 over the course of the day.,PAST MEDICAL HISTORY:,  Asthma with his last admission in 07/2007.  Also inclusive of frequent pneumonia by report.,IMMUNIZATIONS: , Up-to-date.,ALLERGIES: , Denied.,MEDICATIONS:  ,Advair, Nasonex, Xopenex, Zicam, Zithromax, prednisone, and albuterol.,PAST SURGICAL HISTORY: , Denied.,SOCIAL HISTORY: , Lives at home, here in the ED with the mother and there is no smoking in the home.,FAMILY HISTORY: , No noted exposures.,REVIEW OF SYSTEMS:  ,Documented on the template.  Systems reviewed on the template.,PHYSICAL EXAMINATION:,VITAL SIGNS:  Temperature 98.7, pulse 105, respiration is 28, blood pressure 112/65, and weight of 16.5 kg.  Oxygen saturation low at 91% on room air.,GENERAL:  This is a well-developed male who is cooperative, alert, active with oxygen by facemask.,HEENT:  Head is atraumatic and normocephalic.  Pupils are equal, round, and reactive to light.  Extraocular motions are intact and conjugate.  Clear TMs, nose, and oropharynx.,NECK:  Supple.  Full painless nontender range of motion.,CHEST:  Tight wheezing and retractions heard bilaterally.,HEART:  Regular without rubs or murmurs.,ABDOMEN:  Soft, nontender.  No masses.  No hepatosplenomegaly.,GENITALIA:  Male genitalia is present on a visual examination.,SKIN:  No significant bruising, lesions or rash.,EXTREMITIES:  Moves all extremities without difficulty, nontender.  No deformity.,NEUROLOGIC:  Symmetric face, cooperative, and age appropriate.,MEDICAL DECISION MAKING:,  The differential entertained on this patient includes reactive airways disease, viral syndrome, and foreign body pneumonia.  He is evaluated in the emergency department with continuous high-dose albuterol, Decadron by mouth, pulse oximetry, and close observation.  Chest x-ray reveals bronchial thickening, otherwise no definite infiltrate.  She is further treated in the emergency department with continued breathing treatments.  At 0048 hours, he has continued tight wheezes with saturations 99%, but ED sats are 92% with coughing spells.  Based on the above, the hospitalist was consulted and accepts this patient for admission to the hospital with the working diagnosis of respiratory distress and asthma.',\n",
       "        'HISTORY: , A 34-year-old male presents today self-referred at the recommendation of Emergency Room physicians and his nephrologist to pursue further allergy evaluation and treatment.  Please refer to chart for history and physical, as well as the medical records regarding his allergic reaction treatment at ABC Medical Center for further details and studies.  In summary, the patient had an acute event of perioral swelling, etiology uncertain, occurring on 05/03/2008 requiring transfer from ABC Medical Center to XYZ Medical Center due to a history of renal failure requiring dialysis and he was admitted and treated and felt that his allergy reaction was to Keflex, which was being used to treat a skin cellulitis dialysis shunt infection.  In summary, the patient states he has some problems with tolerating grass allergies, environmental and inhalant allergies occasionally, but has never had anaphylactic or angioedema reactions.  He currently is not taking any medication for allergies.  He is taking atenolol for blood pressure control.  No further problems have been noted upon his discharge and treatment, which included corticosteroid therapy and antihistamine therapy and monitoring.,PAST MEDICAL HISTORY:,  History of urticaria, history of renal failure with hypertension possible source of renal failure, history of dialysis times 2 years and a history of hypertension.,PAST SURGICAL HISTORY:,  PermCath insertion times 3 and peritoneal dialysis.,FAMILY HISTORY: , Strong for heart disease, carcinoma, and a history of food allergies, and there is also a history of hypertension.,CURRENT MEDICATIONS: , Atenolol, sodium bicarbonate, Lovaza, and Dialyvite.,ALLERGIES: , Heparin causing thrombocytopenia.,SOCIAL HISTORY: , Denies tobacco or alcohol use.,PHYSICAL EXAMINATION:  ,VITAL SIGNS:  Age 34, blood pressure 128/78, pulse 70, temperature is 97.8, weight is 207 pounds, and height is 5 feet 7 inches.,GENERAL:  The patient is healthy appearing; alert and oriented to person, place and time; responds appropriately; in no acute distress.,HEAD:  Normocephalic.  No masses or lesions noted.,FACE:  No facial tenderness or asymmetry noted.,EYES:  Pupils are equal, round and reactive to light and accommodation bilaterally.  Extraocular movements are intact bilaterally.,EARS:  The tympanic membranes are intact bilaterally with a good light reflex.  The external auditory canals are clear with no lesions or masses noted.  Weber and Rinne tests are within normal limits.,NOSE:  The nasal cavities are patent bilaterally.  The nasal septum is midline.  There are no nasal discharges.  No masses or lesions noted.,THROAT:  The oral mucosa appears healthy.  Dental hygiene is maintained well.  No oropharyngeal masses or lesions noted.  No postnasal drip noted.,NECK:  The neck is supple with no adenopathy or masses palpated.  The trachea is midline.  The thyroid gland is of normal size with no nodules.,NEUROLOGIC:  Facial nerve is intact bilaterally.  The remaining cranial nerves are intact without focal deficit.,LUNGS:  Clear to auscultation bilaterally.  No wheeze noted.,HEART:  Regular rate and rhythm.  No murmur noted.,IMPRESSION:  ,1.  Acute allergic reaction, etiology uncertain, however, suspicious for Keflex.,2.  Renal failure requiring dialysis.,3.  Hypertension.,RECOMMENDATIONS:  ,RAST allergy testing for both food and environmental allergies was performed, and we will get the results back to the patient with further recommendations to follow.  If there is any specific food or inhalant allergen that is found to be quite high on the sensitivity scale, we would probably recommend the patient to avoid the offending agent to hold off on any further reactions.  At this point, I would recommend the patient stopping any further use of cephalosporin antibiotics, which may be the cause of his allergic reaction, and I would consider this an allergy.  Being on atenolol, the patient has a more difficult time treating acute anaphylaxis, but I do think this is medically necessary at this time and hopefully we can find specific causes for his allergic reactions.  An EpiPen was also prescribed in the event of acute angioedema or allergic reaction or sensation of impending allergic reaction and he is aware he needs to proceed directly to the emergency room for further evaluation and treatment recommendations after administration of an EpiPen.'],\n",
       "       dtype=object),\n",
       " array([0, 2, 2, ..., 0, 0, 0]))"
      ]
     },
     "execution_count": 116,
     "metadata": {},
     "output_type": "execute_result"
    }
   ],
   "source": [
    "sentences = df.transcription.values\n",
    "labels = df.label.values\n",
    "sentences, labels"
   ]
  },
  {
   "cell_type": "code",
   "execution_count": 117,
   "metadata": {},
   "outputs": [],
   "source": [
    "tokenizer = BertTokenizer.from_pretrained('bert-base-uncased', do_lower_case=True)"
   ]
  },
  {
   "cell_type": "code",
   "execution_count": 118,
   "metadata": {},
   "outputs": [
    {
     "name": "stdout",
     "output_type": "stream",
     "text": [
      " Original:  SUBJECTIVE:,  This 23-year-old white female presents with complaint of allergies.  She used to have allergies when she lived in Seattle but she thinks they are worse here.  In the past, she has tried Claritin, and Zyrtec.  Both worked for short time but then seemed to lose effectiveness.  She has used Allegra also.  She used that last summer and she began using it again two weeks ago.  It does not appear to be working very well.  She has used over-the-counter sprays but no prescription nasal sprays.  She does have asthma but doest not require daily medication for this and does not think it is flaring up.,MEDICATIONS: , Her only medication currently is Ortho Tri-Cyclen and the Allegra.,ALLERGIES: , She has no known medicine allergies.,OBJECTIVE:,Vitals:  Weight was 130 pounds and blood pressure 124/78.,HEENT:  Her throat was mildly erythematous without exudate.  Nasal mucosa was erythematous and swollen.  Only clear drainage was seen.  TMs were clear.,Neck:  Supple without adenopathy.,Lungs:  Clear.,ASSESSMENT:,  Allergic rhinitis.,PLAN:,1.  She will try Zyrtec instead of Allegra again.  Another option will be to use loratadine.  She does not think she has prescription coverage so that might be cheaper.,2.  Samples of Nasonex two sprays in each nostril given for three weeks.  A prescription was written as well.\n",
      "Tokenized:  ['subjective', ':', ',', 'this', '23', '-', 'year', '-', 'old', 'white', 'female', 'presents', 'with', 'complaint', 'of', 'all', '##er', '##gies', '.', 'she', 'used', 'to', 'have', 'all', '##er', '##gies', 'when', 'she', 'lived', 'in', 'seattle', 'but', 'she', 'thinks', 'they', 'are', 'worse', 'here', '.', 'in', 'the', 'past', ',', 'she', 'has', 'tried', 'cl', '##ari', '##tin', ',', 'and', 'z', '##yr', '##tec', '.', 'both', 'worked', 'for', 'short', 'time', 'but', 'then', 'seemed', 'to', 'lose', 'effectiveness', '.', 'she', 'has', 'used', 'all', '##eg', '##ra', 'also', '.', 'she', 'used', 'that', 'last', 'summer', 'and', 'she', 'began', 'using', 'it', 'again', 'two', 'weeks', 'ago', '.', 'it', 'does', 'not', 'appear', 'to', 'be', 'working', 'very', 'well', '.', 'she', 'has', 'used', 'over', '-', 'the', '-', 'counter', 'spray', '##s', 'but', 'no', 'prescription', 'nasal', 'spray', '##s', '.', 'she', 'does', 'have', 'asthma', 'but', 'does', '##t', 'not', 'require', 'daily', 'medication', 'for', 'this', 'and', 'does', 'not', 'think', 'it', 'is', 'fl', '##aring', 'up', '.', ',', 'medications', ':', ',', 'her', 'only', 'medication', 'currently', 'is', 'or', '##th', '##o', 'tri', '-', 'cycle', '##n', 'and', 'the', 'all', '##eg', '##ra', '.', ',', 'all', '##er', '##gies', ':', ',', 'she', 'has', 'no', 'known', 'medicine', 'all', '##er', '##gies', '.', ',', 'objective', ':', ',', 'vital', '##s', ':', 'weight', 'was', '130', 'pounds', 'and', 'blood', 'pressure', '124', '/', '78', '.', ',', 'hee', '##nt', ':', 'her', 'throat', 'was', 'mildly', 'er', '##ythe', '##mat', '##ous', 'without', 'ex', '##uda', '##te', '.', 'nasal', 'mu', '##cos', '##a', 'was', 'er', '##ythe', '##mat', '##ous', 'and', 'swollen', '.', 'only', 'clear', 'drainage', 'was', 'seen', '.', 't', '##ms', 'were', 'clear', '.', ',', 'neck', ':', 'su', '##pp', '##le', 'without', 'aden', '##opa', '##thy', '.', ',', 'lungs', ':', 'clear', '.', ',', 'assessment', ':', ',', 'allergic', 'r', '##hini', '##tis', '.', ',', 'plan', ':', ',', '1', '.', 'she', 'will', 'try', 'z', '##yr', '##tec', 'instead', 'of', 'all', '##eg', '##ra', 'again', '.', 'another', 'option', 'will', 'be', 'to', 'use', 'lo', '##rata', '##dine', '.', 'she', 'does', 'not', 'think', 'she', 'has', 'prescription', 'coverage', 'so', 'that', 'might', 'be', 'cheaper', '.', ',', '2', '.', 'samples', 'of', 'nas', '##one', '##x', 'two', 'spray', '##s', 'in', 'each', 'nos', '##tri', '##l', 'given', 'for', 'three', 'weeks', '.', 'a', 'prescription', 'was', 'written', 'as', 'well', '.']\n",
      "Token IDs:  [20714, 1024, 1010, 2023, 2603, 1011, 2095, 1011, 2214, 2317, 2931, 7534, 2007, 12087, 1997, 2035, 2121, 17252, 1012, 2016, 2109, 2000, 2031, 2035, 2121, 17252, 2043, 2016, 2973, 1999, 5862, 2021, 2016, 6732, 2027, 2024, 4788, 2182, 1012, 1999, 1996, 2627, 1010, 2016, 2038, 2699, 18856, 8486, 7629, 1010, 1998, 1062, 12541, 26557, 1012, 2119, 2499, 2005, 2460, 2051, 2021, 2059, 2790, 2000, 4558, 12353, 1012, 2016, 2038, 2109, 2035, 13910, 2527, 2036, 1012, 2016, 2109, 2008, 2197, 2621, 1998, 2016, 2211, 2478, 2009, 2153, 2048, 3134, 3283, 1012, 2009, 2515, 2025, 3711, 2000, 2022, 2551, 2200, 2092, 1012, 2016, 2038, 2109, 2058, 1011, 1996, 1011, 4675, 12509, 2015, 2021, 2053, 20422, 19077, 12509, 2015, 1012, 2016, 2515, 2031, 26180, 2021, 2515, 2102, 2025, 5478, 3679, 14667, 2005, 2023, 1998, 2515, 2025, 2228, 2009, 2003, 13109, 22397, 2039, 1012, 1010, 20992, 1024, 1010, 2014, 2069, 14667, 2747, 2003, 2030, 2705, 2080, 13012, 1011, 5402, 2078, 1998, 1996, 2035, 13910, 2527, 1012, 1010, 2035, 2121, 17252, 1024, 1010, 2016, 2038, 2053, 2124, 4200, 2035, 2121, 17252, 1012, 1010, 7863, 1024, 1010, 8995, 2015, 1024, 3635, 2001, 7558, 7038, 1998, 2668, 3778, 13412, 1013, 6275, 1012, 1010, 18235, 3372, 1024, 2014, 3759, 2001, 19499, 9413, 26688, 18900, 3560, 2302, 4654, 14066, 2618, 1012, 19077, 14163, 13186, 2050, 2001, 9413, 26688, 18900, 3560, 1998, 13408, 1012, 2069, 3154, 11987, 2001, 2464, 1012, 1056, 5244, 2020, 3154, 1012, 1010, 3300, 1024, 10514, 9397, 2571, 2302, 16298, 29477, 16921, 1012, 1010, 8948, 1024, 3154, 1012, 1010, 7667, 1024, 1010, 27395, 1054, 20535, 7315, 1012, 1010, 2933, 1024, 1010, 1015, 1012, 2016, 2097, 3046, 1062, 12541, 26557, 2612, 1997, 2035, 13910, 2527, 2153, 1012, 2178, 5724, 2097, 2022, 2000, 2224, 8840, 14660, 10672, 1012, 2016, 2515, 2025, 2228, 2016, 2038, 20422, 6325, 2061, 2008, 2453, 2022, 16269, 1012, 1010, 1016, 1012, 8168, 1997, 17235, 5643, 2595, 2048, 12509, 2015, 1999, 2169, 16839, 18886, 2140, 2445, 2005, 2093, 3134, 1012, 1037, 20422, 2001, 2517, 2004, 2092, 1012]\n"
     ]
    }
   ],
   "source": [
    "# Print the original sentence.\n",
    "print(' Original: ', sentences[0])\n",
    "\n",
    "# Print the sentence split into tokens.\n",
    "print('Tokenized: ', tokenizer.tokenize(sentences[0]))\n",
    "# Print the sentence mapped to token ids.\n",
    "print('Token IDs: ', tokenizer.convert_tokens_to_ids(tokenizer.tokenize(sentences[0])))"
   ]
  },
  {
   "attachments": {},
   "cell_type": "markdown",
   "metadata": {},
   "source": [
    "# Convert text file into word embedding array"
   ]
  },
  {
   "cell_type": "code",
   "execution_count": 119,
   "metadata": {},
   "outputs": [
    {
     "name": "stderr",
     "output_type": "stream",
     "text": [
      "Token indices sequence length is longer than the specified maximum sequence length for this model (588 > 512). Running this sequence through the model will result in indexing errors\n"
     ]
    },
    {
     "name": "stdout",
     "output_type": "stream",
     "text": [
      "Max sentence length:  512\n"
     ]
    }
   ],
   "source": [
    "max_length = 0\n",
    "for sentence in sentences:\n",
    "    max_length = max(max_length, len(tokenizer.encode(sentence, add_special_tokens=True)))\n",
    "    if max_length >= 512:\n",
    "        max_length = 512\n",
    "        break\n",
    "\n",
    "print('Max sentence length: ', max_length)\n"
   ]
  },
  {
   "attachments": {},
   "cell_type": "markdown",
   "metadata": {},
   "source": [
    "## BERT extract word embedding"
   ]
  },
  {
   "cell_type": "code",
   "execution_count": 120,
   "metadata": {},
   "outputs": [
    {
     "name": "stderr",
     "output_type": "stream",
     "text": [
      "Some weights of the model checkpoint at bert-base-uncased were not used when initializing BertModel: ['cls.predictions.bias', 'cls.seq_relationship.bias', 'cls.seq_relationship.weight', 'cls.predictions.transform.dense.bias', 'cls.predictions.decoder.weight', 'cls.predictions.transform.LayerNorm.weight', 'cls.predictions.transform.dense.weight', 'cls.predictions.transform.LayerNorm.bias']\n",
      "- This IS expected if you are initializing BertModel from the checkpoint of a model trained on another task or with another architecture (e.g. initializing a BertForSequenceClassification model from a BertForPreTraining model).\n",
      "- This IS NOT expected if you are initializing BertModel from the checkpoint of a model that you expect to be exactly identical (initializing a BertForSequenceClassification model from a BertForSequenceClassification model).\n"
     ]
    },
    {
     "data": {
      "text/plain": [
       "BertModel(\n",
       "  (embeddings): BertEmbeddings(\n",
       "    (word_embeddings): Embedding(30522, 768, padding_idx=0)\n",
       "    (position_embeddings): Embedding(512, 768)\n",
       "    (token_type_embeddings): Embedding(2, 768)\n",
       "    (LayerNorm): LayerNorm((768,), eps=1e-12, elementwise_affine=True)\n",
       "    (dropout): Dropout(p=0.1, inplace=False)\n",
       "  )\n",
       "  (encoder): BertEncoder(\n",
       "    (layer): ModuleList(\n",
       "      (0-11): 12 x BertLayer(\n",
       "        (attention): BertAttention(\n",
       "          (self): BertSelfAttention(\n",
       "            (query): Linear(in_features=768, out_features=768, bias=True)\n",
       "            (key): Linear(in_features=768, out_features=768, bias=True)\n",
       "            (value): Linear(in_features=768, out_features=768, bias=True)\n",
       "            (dropout): Dropout(p=0.1, inplace=False)\n",
       "          )\n",
       "          (output): BertSelfOutput(\n",
       "            (dense): Linear(in_features=768, out_features=768, bias=True)\n",
       "            (LayerNorm): LayerNorm((768,), eps=1e-12, elementwise_affine=True)\n",
       "            (dropout): Dropout(p=0.1, inplace=False)\n",
       "          )\n",
       "        )\n",
       "        (intermediate): BertIntermediate(\n",
       "          (dense): Linear(in_features=768, out_features=3072, bias=True)\n",
       "          (intermediate_act_fn): GELUActivation()\n",
       "        )\n",
       "        (output): BertOutput(\n",
       "          (dense): Linear(in_features=3072, out_features=768, bias=True)\n",
       "          (LayerNorm): LayerNorm((768,), eps=1e-12, elementwise_affine=True)\n",
       "          (dropout): Dropout(p=0.1, inplace=False)\n",
       "        )\n",
       "      )\n",
       "    )\n",
       "  )\n",
       "  (pooler): BertPooler(\n",
       "    (dense): Linear(in_features=768, out_features=768, bias=True)\n",
       "    (activation): Tanh()\n",
       "  )\n",
       ")"
      ]
     },
     "execution_count": 120,
     "metadata": {},
     "output_type": "execute_result"
    }
   ],
   "source": [
    "# Load pre-trained model (weights)\n",
    "model_wordembedding = BertModel.from_pretrained('bert-base-uncased',\n",
    "                                  output_hidden_states = True, # Whether the model returns all hidden-states.\n",
    "                                  )\n",
    "\n",
    "# Put the model in \"evaluation\" mode, meaning feed-forward operation.\n",
    "model_wordembedding.eval()"
   ]
  },
  {
   "cell_type": "code",
   "execution_count": 121,
   "metadata": {},
   "outputs": [
    {
     "name": "stdout",
     "output_type": "stream",
     "text": [
      "1331\n",
      "2431\n",
      "4422\n",
      "Original:  SUBJECTIVE:,  This 23-year-old white female presents with complaint of allergies.  She used to have allergies when she lived in Seattle but she thinks they are worse here.  In the past, she has tried Claritin, and Zyrtec.  Both worked for short time but then seemed to lose effectiveness.  She has used Allegra also.  She used that last summer and she began using it again two weeks ago.  It does not appear to be working very well.  She has used over-the-counter sprays but no prescription nasal sprays.  She does have asthma but doest not require daily medication for this and does not think it is flaring up.,MEDICATIONS: , Her only medication currently is Ortho Tri-Cyclen and the Allegra.,ALLERGIES: , She has no known medicine allergies.,OBJECTIVE:,Vitals:  Weight was 130 pounds and blood pressure 124/78.,HEENT:  Her throat was mildly erythematous without exudate.  Nasal mucosa was erythematous and swollen.  Only clear drainage was seen.  TMs were clear.,Neck:  Supple without adenopathy.,Lungs:  Clear.,ASSESSMENT:,  Allergic rhinitis.,PLAN:,1.  She will try Zyrtec instead of Allegra again.  Another option will be to use loratadine.  She does not think she has prescription coverage so that might be cheaper.,2.  Samples of Nasonex two sprays in each nostril given for three weeks.  A prescription was written as well.\n",
      "Token IDs: tensor([  101, 20714,  1024,  1010,  2023,  2603,  1011,  2095,  1011,  2214,\n",
      "         2317,  2931,  7534,  2007, 12087,  1997,  2035,  2121, 17252,  1012,\n",
      "         2016,  2109,  2000,  2031,  2035,  2121, 17252,  2043,  2016,  2973,\n",
      "         1999,  5862,  2021,  2016,  6732,  2027,  2024,  4788,  2182,  1012,\n",
      "         1999,  1996,  2627,  1010,  2016,  2038,  2699, 18856,  8486,  7629,\n",
      "         1010,  1998,  1062, 12541, 26557,  1012,  2119,  2499,  2005,  2460,\n",
      "         2051,  2021,  2059,  2790,  2000,  4558, 12353,  1012,  2016,  2038,\n",
      "         2109,  2035, 13910,  2527,  2036,  1012,  2016,  2109,  2008,  2197,\n",
      "         2621,  1998,  2016,  2211,  2478,  2009,  2153,  2048,  3134,  3283,\n",
      "         1012,  2009,  2515,  2025,  3711,  2000,  2022,  2551,  2200,  2092,\n",
      "         1012,  2016,  2038,  2109,  2058,  1011,  1996,  1011,  4675, 12509,\n",
      "         2015,  2021,  2053, 20422, 19077, 12509,  2015,  1012,  2016,  2515,\n",
      "         2031, 26180,  2021,  2515,  2102,  2025,  5478,  3679, 14667,  2005,\n",
      "         2023,  1998,  2515,  2025,  2228,  2009,  2003, 13109, 22397,  2039,\n",
      "         1012,  1010, 20992,  1024,  1010,  2014,  2069, 14667,  2747,  2003,\n",
      "         2030,  2705,  2080, 13012,  1011,  5402,  2078,  1998,  1996,  2035,\n",
      "        13910,  2527,  1012,  1010,  2035,  2121, 17252,  1024,  1010,  2016,\n",
      "         2038,  2053,  2124,  4200,  2035,  2121, 17252,  1012,  1010,  7863,\n",
      "         1024,  1010,  8995,  2015,  1024,  3635,  2001,  7558,  7038,  1998,\n",
      "         2668,  3778, 13412,  1013,  6275,  1012,  1010, 18235,  3372,  1024,\n",
      "         2014,  3759,  2001, 19499,  9413, 26688, 18900,  3560,  2302,  4654,\n",
      "        14066,  2618,  1012, 19077, 14163, 13186,  2050,  2001,  9413, 26688,\n",
      "        18900,  3560,  1998, 13408,  1012,  2069,  3154, 11987,  2001,  2464,\n",
      "         1012,  1056,  5244,  2020,  3154,  1012,  1010,  3300,  1024, 10514,\n",
      "         9397,  2571,  2302, 16298, 29477, 16921,  1012,  1010,  8948,  1024,\n",
      "         3154,  1012,  1010,  7667,  1024,  1010, 27395,  1054, 20535,  7315,\n",
      "         1012,  1010,  2933,  1024,  1010,  1015,  1012,  2016,  2097,  3046,\n",
      "         1062, 12541, 26557,  2612,  1997,  2035, 13910,  2527,  2153,  1012,\n",
      "         2178,  5724,  2097,  2022,  2000,  2224,  8840, 14660, 10672,  1012,\n",
      "         2016,  2515,  2025,  2228,  2016,  2038, 20422,  6325,  2061,  2008,\n",
      "         2453,  2022, 16269,  1012,  1010,  1016,  1012,  8168,  1997, 17235,\n",
      "         5643,  2595,  2048, 12509,  2015,  1999,  2169, 16839, 18886,  2140,\n",
      "         2445,  2005,  2093,  3134,  1012,  1037, 20422,  2001,  2517,  2004,\n",
      "         2092,  1012,   102,     0,     0,     0,     0,     0,     0,     0,\n",
      "            0,     0,     0,     0,     0,     0,     0,     0,     0,     0,\n",
      "            0,     0,     0,     0,     0,     0,     0,     0,     0,     0,\n",
      "            0,     0,     0,     0,     0,     0,     0,     0,     0,     0,\n",
      "            0,     0,     0,     0,     0,     0,     0,     0,     0,     0,\n",
      "            0,     0,     0,     0,     0,     0,     0,     0,     0,     0,\n",
      "            0,     0,     0,     0,     0,     0,     0,     0,     0,     0,\n",
      "            0,     0,     0,     0,     0,     0,     0,     0,     0,     0,\n",
      "            0,     0,     0,     0,     0,     0,     0,     0,     0,     0,\n",
      "            0,     0,     0,     0,     0,     0,     0,     0,     0,     0,\n",
      "            0,     0,     0,     0,     0,     0,     0,     0,     0,     0,\n",
      "            0,     0,     0,     0,     0,     0,     0,     0,     0,     0,\n",
      "            0,     0,     0,     0,     0,     0,     0,     0,     0,     0,\n",
      "            0,     0,     0,     0,     0,     0,     0,     0,     0,     0,\n",
      "            0,     0,     0,     0,     0,     0,     0,     0,     0,     0,\n",
      "            0,     0,     0,     0,     0,     0,     0,     0,     0,     0,\n",
      "            0,     0,     0,     0,     0,     0,     0,     0,     0,     0,\n",
      "            0,     0,     0,     0,     0,     0,     0,     0,     0,     0,\n",
      "            0,     0])\n",
      "Word Embedding: tensor([[-0.5568, -0.2536,  0.0660,  ...,  0.0279,  0.1602,  0.4339],\n",
      "        [ 0.2378, -0.1247, -0.4652,  ...,  0.2637,  0.8827, -0.3923],\n",
      "        [ 0.0422, -0.5339, -0.4318,  ..., -0.1158,  0.4419,  0.5342],\n",
      "        ...,\n",
      "        [-0.3046,  0.0290, -0.1525,  ...,  0.1469,  0.0332, -0.0914],\n",
      "        [-0.4048,  0.1284,  0.2849,  ...,  0.1745, -0.2280, -0.0453],\n",
      "        [-0.3535, -0.1386,  0.1534,  ...,  0.0301, -0.1704, -0.1329]])\n"
     ]
    }
   ],
   "source": [
    "input_ids = []\n",
    "attention_masks = []\n",
    "word_embedding = []\n",
    "for sentence in sentences[:3]:\n",
    "    print(len(sentence))\n",
    "    encoded_dict = tokenizer.encode_plus(sentence, \n",
    "                                         truncation=True, # cut word length to maximum 512\n",
    "                                         add_special_tokens = True, \n",
    "                                         max_length = max_length,\n",
    "                                         padding='max_length',\n",
    "                                         return_tensors = 'pt')\n",
    "    \n",
    "    input_ids.append(encoded_dict['input_ids'])\n",
    "    attention_masks.append(encoded_dict['attention_mask'])\n",
    "    # Run the text through BERT, and collect all of the hidden states produced\n",
    "    with torch.no_grad():\n",
    "       outputs = model_wordembedding(**encoded_dict)\n",
    "\n",
    "    last_hidden_states = outputs.last_hidden_state\n",
    "    word_embedding.append(last_hidden_states[0])\n",
    "\n",
    "\n",
    "input_ids = torch.cat(input_ids, dim=0)\n",
    "attention_masks = torch.cat(attention_masks, dim=0)\n",
    "labels = torch.LongTensor(labels)\n",
    "\n",
    "\n",
    "# Print sentence 0, now as a list of IDs.\n",
    "print('Original: ', sentences[0])\n",
    "print('Token IDs:', input_ids[0])\n",
    "print('Word Embedding:', word_embedding[0])\n"
   ]
  },
  {
   "cell_type": "code",
   "execution_count": 122,
   "metadata": {},
   "outputs": [
    {
     "name": "stdout",
     "output_type": "stream",
     "text": [
      "Word Embedding: tensor([[-0.5568, -0.2536,  0.0660,  ...,  0.0279,  0.1602,  0.4339],\n",
      "        [ 0.2378, -0.1247, -0.4652,  ...,  0.2637,  0.8827, -0.3923],\n",
      "        [ 0.0422, -0.5339, -0.4318,  ..., -0.1158,  0.4419,  0.5342],\n",
      "        ...,\n",
      "        [-0.3046,  0.0290, -0.1525,  ...,  0.1469,  0.0332, -0.0914],\n",
      "        [-0.4048,  0.1284,  0.2849,  ...,  0.1745, -0.2280, -0.0453],\n",
      "        [-0.3535, -0.1386,  0.1534,  ...,  0.0301, -0.1704, -0.1329]])\n"
     ]
    }
   ],
   "source": [
    "print('Word Embedding:', word_embedding[0])"
   ]
  },
  {
   "cell_type": "code",
   "execution_count": 123,
   "metadata": {},
   "outputs": [],
   "source": [
    "# import tqdm for show progression\n",
    "from tqdm import tqdm\n",
    "tqdm.pandas()"
   ]
  },
  {
   "cell_type": "code",
   "execution_count": 127,
   "metadata": {},
   "outputs": [],
   "source": [
    "# function for convert image file into 3d integer array and store in list after that return its numpy\n",
    "def getWordEmbedding(sentences):\n",
    "  input_ids = []\n",
    "  attention_masks = []\n",
    "  word_embedding = []\n",
    "\n",
    "  for index,sentence in tqdm(enumerate(sentences[:5])):\n",
    "            \n",
    "      encoded_dict = tokenizer.encode_plus(sentence, \n",
    "                                          truncation=True, # cut word length to maximum 512\n",
    "                                          add_special_tokens = True, \n",
    "                                          max_length = max_length,\n",
    "                                          padding='max_length',\n",
    "                                          return_tensors = 'pt')\n",
    "      input_ids.append(encoded_dict['input_ids'])\n",
    "      attention_masks.append(encoded_dict['attention_mask'])\n",
    "\n",
    "      # Run the text through BERT, and collect all of the hidden states produced\n",
    "      with torch.no_grad():\n",
    "        outputs = model_wordembedding(**encoded_dict)\n",
    "      last_hidden_states = outputs.last_hidden_state\n",
    "      word_embedding.append(last_hidden_states[0])\n",
    "\n",
    "  input_ids = torch.cat(input_ids, dim=0)\n",
    "  attention_masks = torch.cat(attention_masks, dim=0)\n",
    "  \n",
    "  # convert list into numpy array then return data and label\n",
    "  return input_ids, attention_masks, word_embedding"
   ]
  },
  {
   "cell_type": "code",
   "execution_count": 128,
   "metadata": {},
   "outputs": [
    {
     "name": "stderr",
     "output_type": "stream",
     "text": [
      "5it [00:06,  1.33s/it]\n"
     ]
    },
    {
     "data": {
      "text/plain": [
       "(tensor([[  101, 20714,  1024,  ...,     0,     0,     0],\n",
       "         [  101,  2627,  2966,  ...,  1010, 26572,   102],\n",
       "         [  101,  2381,  1997,  ...,  4645,  2545,   102],\n",
       "         [  101,  1016,  1011,  ...,     0,     0,     0],\n",
       "         [  101,  1015,  1012,  ...,     0,     0,     0]]),\n",
       " tensor([0, 2, 2, 3, 3]))"
      ]
     },
     "execution_count": 128,
     "metadata": {},
     "output_type": "execute_result"
    }
   ],
   "source": [
    "input_ids = []\n",
    "attention_masks = []\n",
    "word_embedding = []\n",
    "labels = torch.LongTensor(labels)\n",
    "\n",
    "input_ids, attention_masks, word_embedding  = getWordEmbedding(sentences)\n",
    "\n",
    "input_ids[:5], labels[:5]"
   ]
  },
  {
   "cell_type": "code",
   "execution_count": 129,
   "metadata": {},
   "outputs": [
    {
     "name": "stdout",
     "output_type": "stream",
     "text": [
      "Original:  SUBJECTIVE:,  This 23-year-old white female presents with complaint of allergies.  She used to have allergies when she lived in Seattle but she thinks they are worse here.  In the past, she has tried Claritin, and Zyrtec.  Both worked for short time but then seemed to lose effectiveness.  She has used Allegra also.  She used that last summer and she began using it again two weeks ago.  It does not appear to be working very well.  She has used over-the-counter sprays but no prescription nasal sprays.  She does have asthma but doest not require daily medication for this and does not think it is flaring up.,MEDICATIONS: , Her only medication currently is Ortho Tri-Cyclen and the Allegra.,ALLERGIES: , She has no known medicine allergies.,OBJECTIVE:,Vitals:  Weight was 130 pounds and blood pressure 124/78.,HEENT:  Her throat was mildly erythematous without exudate.  Nasal mucosa was erythematous and swollen.  Only clear drainage was seen.  TMs were clear.,Neck:  Supple without adenopathy.,Lungs:  Clear.,ASSESSMENT:,  Allergic rhinitis.,PLAN:,1.  She will try Zyrtec instead of Allegra again.  Another option will be to use loratadine.  She does not think she has prescription coverage so that might be cheaper.,2.  Samples of Nasonex two sprays in each nostril given for three weeks.  A prescription was written as well.\n",
      "Token IDs: torch.Size([512]) tensor([  101, 20714,  1024,  1010,  2023,  2603,  1011,  2095,  1011,  2214,\n",
      "         2317,  2931,  7534,  2007, 12087,  1997,  2035,  2121, 17252,  1012,\n",
      "         2016,  2109,  2000,  2031,  2035,  2121, 17252,  2043,  2016,  2973,\n",
      "         1999,  5862,  2021,  2016,  6732,  2027,  2024,  4788,  2182,  1012,\n",
      "         1999,  1996,  2627,  1010,  2016,  2038,  2699, 18856,  8486,  7629,\n",
      "         1010,  1998,  1062, 12541, 26557,  1012,  2119,  2499,  2005,  2460,\n",
      "         2051,  2021,  2059,  2790,  2000,  4558, 12353,  1012,  2016,  2038,\n",
      "         2109,  2035, 13910,  2527,  2036,  1012,  2016,  2109,  2008,  2197,\n",
      "         2621,  1998,  2016,  2211,  2478,  2009,  2153,  2048,  3134,  3283,\n",
      "         1012,  2009,  2515,  2025,  3711,  2000,  2022,  2551,  2200,  2092,\n",
      "         1012,  2016,  2038,  2109,  2058,  1011,  1996,  1011,  4675, 12509,\n",
      "         2015,  2021,  2053, 20422, 19077, 12509,  2015,  1012,  2016,  2515,\n",
      "         2031, 26180,  2021,  2515,  2102,  2025,  5478,  3679, 14667,  2005,\n",
      "         2023,  1998,  2515,  2025,  2228,  2009,  2003, 13109, 22397,  2039,\n",
      "         1012,  1010, 20992,  1024,  1010,  2014,  2069, 14667,  2747,  2003,\n",
      "         2030,  2705,  2080, 13012,  1011,  5402,  2078,  1998,  1996,  2035,\n",
      "        13910,  2527,  1012,  1010,  2035,  2121, 17252,  1024,  1010,  2016,\n",
      "         2038,  2053,  2124,  4200,  2035,  2121, 17252,  1012,  1010,  7863,\n",
      "         1024,  1010,  8995,  2015,  1024,  3635,  2001,  7558,  7038,  1998,\n",
      "         2668,  3778, 13412,  1013,  6275,  1012,  1010, 18235,  3372,  1024,\n",
      "         2014,  3759,  2001, 19499,  9413, 26688, 18900,  3560,  2302,  4654,\n",
      "        14066,  2618,  1012, 19077, 14163, 13186,  2050,  2001,  9413, 26688,\n",
      "        18900,  3560,  1998, 13408,  1012,  2069,  3154, 11987,  2001,  2464,\n",
      "         1012,  1056,  5244,  2020,  3154,  1012,  1010,  3300,  1024, 10514,\n",
      "         9397,  2571,  2302, 16298, 29477, 16921,  1012,  1010,  8948,  1024,\n",
      "         3154,  1012,  1010,  7667,  1024,  1010, 27395,  1054, 20535,  7315,\n",
      "         1012,  1010,  2933,  1024,  1010,  1015,  1012,  2016,  2097,  3046,\n",
      "         1062, 12541, 26557,  2612,  1997,  2035, 13910,  2527,  2153,  1012,\n",
      "         2178,  5724,  2097,  2022,  2000,  2224,  8840, 14660, 10672,  1012,\n",
      "         2016,  2515,  2025,  2228,  2016,  2038, 20422,  6325,  2061,  2008,\n",
      "         2453,  2022, 16269,  1012,  1010,  1016,  1012,  8168,  1997, 17235,\n",
      "         5643,  2595,  2048, 12509,  2015,  1999,  2169, 16839, 18886,  2140,\n",
      "         2445,  2005,  2093,  3134,  1012,  1037, 20422,  2001,  2517,  2004,\n",
      "         2092,  1012,   102,     0,     0,     0,     0,     0,     0,     0,\n",
      "            0,     0,     0,     0,     0,     0,     0,     0,     0,     0,\n",
      "            0,     0,     0,     0,     0,     0,     0,     0,     0,     0,\n",
      "            0,     0,     0,     0,     0,     0,     0,     0,     0,     0,\n",
      "            0,     0,     0,     0,     0,     0,     0,     0,     0,     0,\n",
      "            0,     0,     0,     0,     0,     0,     0,     0,     0,     0,\n",
      "            0,     0,     0,     0,     0,     0,     0,     0,     0,     0,\n",
      "            0,     0,     0,     0,     0,     0,     0,     0,     0,     0,\n",
      "            0,     0,     0,     0,     0,     0,     0,     0,     0,     0,\n",
      "            0,     0,     0,     0,     0,     0,     0,     0,     0,     0,\n",
      "            0,     0,     0,     0,     0,     0,     0,     0,     0,     0,\n",
      "            0,     0,     0,     0,     0,     0,     0,     0,     0,     0,\n",
      "            0,     0,     0,     0,     0,     0,     0,     0,     0,     0,\n",
      "            0,     0,     0,     0,     0,     0,     0,     0,     0,     0,\n",
      "            0,     0,     0,     0,     0,     0,     0,     0,     0,     0,\n",
      "            0,     0,     0,     0,     0,     0,     0,     0,     0,     0,\n",
      "            0,     0,     0,     0,     0,     0,     0,     0,     0,     0,\n",
      "            0,     0,     0,     0,     0,     0,     0,     0,     0,     0,\n",
      "            0,     0])\n"
     ]
    }
   ],
   "source": [
    "# Print sentence 0, now as a list of IDs.\n",
    "print('Original: ', sentences[0])\n",
    "print('Token IDs:', input_ids[0].shape, input_ids[0])"
   ]
  },
  {
   "cell_type": "code",
   "execution_count": 130,
   "metadata": {},
   "outputs": [
    {
     "name": "stdout",
     "output_type": "stream",
     "text": [
      "Word Embedding: torch.Size([512, 768]) tensor([[-0.5568, -0.2536,  0.0660,  ...,  0.0279,  0.1602,  0.4339],\n",
      "        [ 0.2378, -0.1247, -0.4652,  ...,  0.2637,  0.8827, -0.3923],\n",
      "        [ 0.0422, -0.5339, -0.4318,  ..., -0.1158,  0.4419,  0.5342],\n",
      "        ...,\n",
      "        [-0.3046,  0.0290, -0.1525,  ...,  0.1469,  0.0332, -0.0914],\n",
      "        [-0.4048,  0.1284,  0.2849,  ...,  0.1745, -0.2280, -0.0453],\n",
      "        [-0.3535, -0.1386,  0.1534,  ...,  0.0301, -0.1704, -0.1329]])\n"
     ]
    }
   ],
   "source": [
    "print('Word Embedding:', word_embedding[0].shape, word_embedding[0])"
   ]
  },
  {
   "attachments": {},
   "cell_type": "markdown",
   "metadata": {},
   "source": [
    "## Save preprocess file to h5"
   ]
  },
  {
   "cell_type": "code",
   "execution_count": 132,
   "metadata": {},
   "outputs": [],
   "source": [
    "import h5py"
   ]
  },
  {
   "cell_type": "code",
   "execution_count": 134,
   "metadata": {},
   "outputs": [],
   "source": [
    "url =''"
   ]
  },
  {
   "cell_type": "code",
   "execution_count": 135,
   "metadata": {},
   "outputs": [
    {
     "name": "stderr",
     "output_type": "stream",
     "text": [
      "c:\\Users\\ADAWAS\\miniconda3\\envs\\pytorch\\lib\\site-packages\\h5py\\_hl\\base.py:118: FutureWarning: The input object of type 'Tensor' is an array-like implementing one of the corresponding protocols (`__array__`, `__array_interface__` or `__array_struct__`); but not a sequence (or 0-D). In the future, this object will be coerced as if it was first converted using `np.array(obj)`. To retain the old behaviour, you have to either modify the type 'Tensor', or assign to an empty array created with `np.empty(correct_shape, dtype=object)`.\n",
      "  data = np.asarray(data, order=\"C\", dtype=as_dtype)\n"
     ]
    },
    {
     "ename": "ValueError",
     "evalue": "setting an array element with a sequence. The requested array has an inhomogeneous shape after 1 dimensions. The detected shape was (5,) + inhomogeneous part.",
     "output_type": "error",
     "traceback": [
      "\u001b[1;31m---------------------------------------------------------------------------\u001b[0m",
      "\u001b[1;31mValueError\u001b[0m                                Traceback (most recent call last)",
      "Cell \u001b[1;32mIn[135], line 4\u001b[0m\n\u001b[0;32m      2\u001b[0m hf\u001b[39m.\u001b[39mcreate_dataset(\u001b[39m'\u001b[39m\u001b[39minput_ids\u001b[39m\u001b[39m'\u001b[39m, data\u001b[39m=\u001b[39minput_ids)\n\u001b[0;32m      3\u001b[0m hf\u001b[39m.\u001b[39mcreate_dataset(\u001b[39m'\u001b[39m\u001b[39mattention_masks\u001b[39m\u001b[39m'\u001b[39m, data\u001b[39m=\u001b[39mattention_masks)\n\u001b[1;32m----> 4\u001b[0m hf\u001b[39m.\u001b[39;49mcreate_dataset(\u001b[39m'\u001b[39;49m\u001b[39mword_embedding\u001b[39;49m\u001b[39m'\u001b[39;49m, data\u001b[39m=\u001b[39;49mword_embedding)\n\u001b[0;32m      5\u001b[0m hf\u001b[39m.\u001b[39mcreate_dataset(\u001b[39m'\u001b[39m\u001b[39mlabels\u001b[39m\u001b[39m'\u001b[39m, data\u001b[39m=\u001b[39mlabels)\n\u001b[0;32m      7\u001b[0m hf\u001b[39m.\u001b[39mclose()\n",
      "File \u001b[1;32mc:\\Users\\ADAWAS\\miniconda3\\envs\\pytorch\\lib\\site-packages\\h5py\\_hl\\group.py:183\u001b[0m, in \u001b[0;36mGroup.create_dataset\u001b[1;34m(self, name, shape, dtype, data, **kwds)\u001b[0m\n\u001b[0;32m    180\u001b[0m         parent_path, name \u001b[39m=\u001b[39m name\u001b[39m.\u001b[39mrsplit(\u001b[39mb\u001b[39m\u001b[39m'\u001b[39m\u001b[39m/\u001b[39m\u001b[39m'\u001b[39m, \u001b[39m1\u001b[39m)\n\u001b[0;32m    181\u001b[0m         group \u001b[39m=\u001b[39m \u001b[39mself\u001b[39m\u001b[39m.\u001b[39mrequire_group(parent_path)\n\u001b[1;32m--> 183\u001b[0m dsid \u001b[39m=\u001b[39m dataset\u001b[39m.\u001b[39mmake_new_dset(group, shape, dtype, data, name, \u001b[39m*\u001b[39m\u001b[39m*\u001b[39mkwds)\n\u001b[0;32m    184\u001b[0m dset \u001b[39m=\u001b[39m dataset\u001b[39m.\u001b[39mDataset(dsid)\n\u001b[0;32m    185\u001b[0m \u001b[39mreturn\u001b[39;00m dset\n",
      "File \u001b[1;32mc:\\Users\\ADAWAS\\miniconda3\\envs\\pytorch\\lib\\site-packages\\h5py\\_hl\\dataset.py:48\u001b[0m, in \u001b[0;36mmake_new_dset\u001b[1;34m(parent, shape, dtype, data, name, chunks, compression, shuffle, fletcher32, maxshape, compression_opts, fillvalue, scaleoffset, track_times, external, track_order, dcpl, dapl, efile_prefix, virtual_prefix, allow_unknown_filter, rdcc_nslots, rdcc_nbytes, rdcc_w0)\u001b[0m\n\u001b[0;32m     46\u001b[0m \u001b[39mif\u001b[39;00m data \u001b[39mis\u001b[39;00m \u001b[39mnot\u001b[39;00m \u001b[39mNone\u001b[39;00m \u001b[39mand\u001b[39;00m \u001b[39mnot\u001b[39;00m \u001b[39misinstance\u001b[39m(data, Empty):\n\u001b[0;32m     47\u001b[0m     \u001b[39mfrom\u001b[39;00m \u001b[39m.\u001b[39;00m \u001b[39mimport\u001b[39;00m base\n\u001b[1;32m---> 48\u001b[0m     data \u001b[39m=\u001b[39m base\u001b[39m.\u001b[39;49marray_for_new_object(data, specified_dtype\u001b[39m=\u001b[39;49mdtype)\n\u001b[0;32m     50\u001b[0m \u001b[39m# Validate shape\u001b[39;00m\n\u001b[0;32m     51\u001b[0m \u001b[39mif\u001b[39;00m shape \u001b[39mis\u001b[39;00m \u001b[39mNone\u001b[39;00m:\n",
      "File \u001b[1;32mc:\\Users\\ADAWAS\\miniconda3\\envs\\pytorch\\lib\\site-packages\\h5py\\_hl\\base.py:118\u001b[0m, in \u001b[0;36marray_for_new_object\u001b[1;34m(data, specified_dtype)\u001b[0m\n\u001b[0;32m    115\u001b[0m \u001b[39melse\u001b[39;00m:\n\u001b[0;32m    116\u001b[0m     as_dtype \u001b[39m=\u001b[39m guess_dtype(data)\n\u001b[1;32m--> 118\u001b[0m data \u001b[39m=\u001b[39m np\u001b[39m.\u001b[39;49masarray(data, order\u001b[39m=\u001b[39;49m\u001b[39m\"\u001b[39;49m\u001b[39mC\u001b[39;49m\u001b[39m\"\u001b[39;49m, dtype\u001b[39m=\u001b[39;49mas_dtype)\n\u001b[0;32m    120\u001b[0m \u001b[39m# In most cases, this does nothing. But if data was already an array,\u001b[39;00m\n\u001b[0;32m    121\u001b[0m \u001b[39m# and as_dtype is a tagged h5py dtype (e.g. for an object array of strings),\u001b[39;00m\n\u001b[0;32m    122\u001b[0m \u001b[39m# asarray() doesn't replace its dtype object. This gives it the tagged dtype:\u001b[39;00m\n\u001b[0;32m    123\u001b[0m \u001b[39mif\u001b[39;00m as_dtype \u001b[39mis\u001b[39;00m \u001b[39mnot\u001b[39;00m \u001b[39mNone\u001b[39;00m:\n",
      "\u001b[1;31mValueError\u001b[0m: setting an array element with a sequence. The requested array has an inhomogeneous shape after 1 dimensions. The detected shape was (5,) + inhomogeneous part."
     ]
    }
   ],
   "source": [
    "hf = h5py.File(url+'mtsample_wordEmbedding.h5', 'w')\n",
    "hf.create_dataset('input_ids', data=input_ids)\n",
    "hf.create_dataset('attention_masks', data=attention_masks)\n",
    "hf.create_dataset('word_embedding', data=word_embedding)\n",
    "hf.create_dataset('labels', data=labels)\n",
    "hf.close()"
   ]
  },
  {
   "attachments": {},
   "cell_type": "markdown",
   "metadata": {},
   "source": [
    "## Read preprocess h5 file"
   ]
  },
  {
   "cell_type": "code",
   "execution_count": 136,
   "metadata": {},
   "outputs": [],
   "source": [
    "import h5py"
   ]
  },
  {
   "cell_type": "code",
   "execution_count": 137,
   "metadata": {},
   "outputs": [
    {
     "ename": "FileNotFoundError",
     "evalue": "[Errno 2] Unable to open file (unable to open file: name = 'NeuralnetTrain.h5', errno = 2, error message = 'No such file or directory', flags = 0, o_flags = 0)",
     "output_type": "error",
     "traceback": [
      "\u001b[1;31m---------------------------------------------------------------------------\u001b[0m",
      "\u001b[1;31mFileNotFoundError\u001b[0m                         Traceback (most recent call last)",
      "Cell \u001b[1;32mIn[137], line 1\u001b[0m\n\u001b[1;32m----> 1\u001b[0m hf \u001b[39m=\u001b[39m h5py\u001b[39m.\u001b[39;49mFile(url\u001b[39m+\u001b[39;49m\u001b[39m'\u001b[39;49m\u001b[39mNeuralnetTrain.h5\u001b[39;49m\u001b[39m'\u001b[39;49m, \u001b[39m'\u001b[39;49m\u001b[39mr\u001b[39;49m\u001b[39m'\u001b[39;49m)\n\u001b[0;32m      2\u001b[0m \u001b[39mlist\u001b[39m(hf\u001b[39m.\u001b[39mkeys())\n",
      "File \u001b[1;32mc:\\Users\\ADAWAS\\miniconda3\\envs\\pytorch\\lib\\site-packages\\h5py\\_hl\\files.py:567\u001b[0m, in \u001b[0;36mFile.__init__\u001b[1;34m(self, name, mode, driver, libver, userblock_size, swmr, rdcc_nslots, rdcc_nbytes, rdcc_w0, track_order, fs_strategy, fs_persist, fs_threshold, fs_page_size, page_buf_size, min_meta_keep, min_raw_keep, locking, alignment_threshold, alignment_interval, meta_block_size, **kwds)\u001b[0m\n\u001b[0;32m    558\u001b[0m     fapl \u001b[39m=\u001b[39m make_fapl(driver, libver, rdcc_nslots, rdcc_nbytes, rdcc_w0,\n\u001b[0;32m    559\u001b[0m                      locking, page_buf_size, min_meta_keep, min_raw_keep,\n\u001b[0;32m    560\u001b[0m                      alignment_threshold\u001b[39m=\u001b[39malignment_threshold,\n\u001b[0;32m    561\u001b[0m                      alignment_interval\u001b[39m=\u001b[39malignment_interval,\n\u001b[0;32m    562\u001b[0m                      meta_block_size\u001b[39m=\u001b[39mmeta_block_size,\n\u001b[0;32m    563\u001b[0m                      \u001b[39m*\u001b[39m\u001b[39m*\u001b[39mkwds)\n\u001b[0;32m    564\u001b[0m     fcpl \u001b[39m=\u001b[39m make_fcpl(track_order\u001b[39m=\u001b[39mtrack_order, fs_strategy\u001b[39m=\u001b[39mfs_strategy,\n\u001b[0;32m    565\u001b[0m                      fs_persist\u001b[39m=\u001b[39mfs_persist, fs_threshold\u001b[39m=\u001b[39mfs_threshold,\n\u001b[0;32m    566\u001b[0m                      fs_page_size\u001b[39m=\u001b[39mfs_page_size)\n\u001b[1;32m--> 567\u001b[0m     fid \u001b[39m=\u001b[39m make_fid(name, mode, userblock_size, fapl, fcpl, swmr\u001b[39m=\u001b[39;49mswmr)\n\u001b[0;32m    569\u001b[0m \u001b[39mif\u001b[39;00m \u001b[39misinstance\u001b[39m(libver, \u001b[39mtuple\u001b[39m):\n\u001b[0;32m    570\u001b[0m     \u001b[39mself\u001b[39m\u001b[39m.\u001b[39m_libver \u001b[39m=\u001b[39m libver\n",
      "File \u001b[1;32mc:\\Users\\ADAWAS\\miniconda3\\envs\\pytorch\\lib\\site-packages\\h5py\\_hl\\files.py:231\u001b[0m, in \u001b[0;36mmake_fid\u001b[1;34m(name, mode, userblock_size, fapl, fcpl, swmr)\u001b[0m\n\u001b[0;32m    229\u001b[0m     \u001b[39mif\u001b[39;00m swmr \u001b[39mand\u001b[39;00m swmr_support:\n\u001b[0;32m    230\u001b[0m         flags \u001b[39m|\u001b[39m\u001b[39m=\u001b[39m h5f\u001b[39m.\u001b[39mACC_SWMR_READ\n\u001b[1;32m--> 231\u001b[0m     fid \u001b[39m=\u001b[39m h5f\u001b[39m.\u001b[39;49mopen(name, flags, fapl\u001b[39m=\u001b[39;49mfapl)\n\u001b[0;32m    232\u001b[0m \u001b[39melif\u001b[39;00m mode \u001b[39m==\u001b[39m \u001b[39m'\u001b[39m\u001b[39mr+\u001b[39m\u001b[39m'\u001b[39m:\n\u001b[0;32m    233\u001b[0m     fid \u001b[39m=\u001b[39m h5f\u001b[39m.\u001b[39mopen(name, h5f\u001b[39m.\u001b[39mACC_RDWR, fapl\u001b[39m=\u001b[39mfapl)\n",
      "File \u001b[1;32mh5py\\_objects.pyx:54\u001b[0m, in \u001b[0;36mh5py._objects.with_phil.wrapper\u001b[1;34m()\u001b[0m\n",
      "File \u001b[1;32mh5py\\_objects.pyx:55\u001b[0m, in \u001b[0;36mh5py._objects.with_phil.wrapper\u001b[1;34m()\u001b[0m\n",
      "File \u001b[1;32mh5py\\h5f.pyx:106\u001b[0m, in \u001b[0;36mh5py.h5f.open\u001b[1;34m()\u001b[0m\n",
      "\u001b[1;31mFileNotFoundError\u001b[0m: [Errno 2] Unable to open file (unable to open file: name = 'NeuralnetTrain.h5', errno = 2, error message = 'No such file or directory', flags = 0, o_flags = 0)"
     ]
    }
   ],
   "source": [
    "hf = h5py.File(url+'NeuralnetTrain.h5', 'r')\n",
    "list(hf.keys())"
   ]
  },
  {
   "cell_type": "code",
   "execution_count": null,
   "metadata": {},
   "outputs": [
    {
     "name": "stdout",
     "output_type": "stream",
     "text": [
      "Loading training data ...(5187, 50, 50, 3) (5187,)  Done.\n",
      "Loading validating data ...(1297, 50, 50, 3) (1297,)  Done.\n",
      "Loading testing data ...(1622, 50, 50, 3) (1622,)  Done.\n"
     ]
    }
   ],
   "source": [
    "print(\"Loading training data ...\", end=\"\")\n",
    "hf = h5py.File(url + \"NeuralnetTrain.h5\", \"r\")\n",
    "X_train = np.array(hf['X_train'])\n",
    "y_train = np.array(hf['y_train'])\n",
    "hf.close()\n",
    "print(X_train.shape,y_train.shape,\" Done.\")\n",
    "\n",
    "print(\"Loading validating data ...\", end=\"\")\n",
    "hf = h5py.File(url + \"NeuralnetVal.h5\", \"r\")\n",
    "X_val = np.array(hf.get(\"X_val\"))\n",
    "y_val = np.array(hf.get(\"y_val\"))\n",
    "hf.close()\n",
    "print(X_val.shape,y_val.shape,\" Done.\")\n",
    "\n",
    "\n",
    "print(\"Loading testing data ...\", end=\"\")\n",
    "hf = h5py.File(url + \"NeuralnetTest.h5\", \"r\")\n",
    "X_test = np.array(hf.get(\"X_test\"))\n",
    "y_test = np.array(hf.get(\"y_test\"))\n",
    "hf.close()\n",
    "print(X_test.shape,y_test.shape,\" Done.\")\n"
   ]
  },
  {
   "cell_type": "code",
   "execution_count": null,
   "metadata": {},
   "outputs": [],
   "source": [
    "def plotLoss(modelHistory):\n",
    "  plt.plot(modelHistory.history['loss'])\n",
    "  plt.plot(modelHistory.history['val_loss'])\n",
    "  plt.title('model loss')\n",
    "  plt.ylabel('loss')\n",
    "  plt.xlabel('epoch')\n",
    "  plt.legend(['train', 'val'], loc='upper left')\n",
    "  plt.show()"
   ]
  },
  {
   "cell_type": "code",
   "execution_count": null,
   "metadata": {},
   "outputs": [],
   "source": [
    "def plotAccuracy(modelHistory):\n",
    "  plt.plot(modelHistory.history['accuracy'])\n",
    "  plt.plot(modelHistory.history['val_accuracy'])\n",
    "  plt.title('model accuracy')\n",
    "  plt.ylabel('accuracy')\n",
    "  plt.xlabel('epoch')\n",
    "  plt.legend(['train', 'val'], loc='upper left')\n",
    "  plt.show()"
   ]
  }
 ],
 "metadata": {
  "kernelspec": {
   "display_name": "pytorch",
   "language": "python",
   "name": "python3"
  },
  "language_info": {
   "codemirror_mode": {
    "name": "ipython",
    "version": 3
   },
   "file_extension": ".py",
   "mimetype": "text/x-python",
   "name": "python",
   "nbconvert_exporter": "python",
   "pygments_lexer": "ipython3",
   "version": "3.9.16"
  },
  "orig_nbformat": 4
 },
 "nbformat": 4,
 "nbformat_minor": 2
}
